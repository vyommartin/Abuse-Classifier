{
  "nbformat": 4,
  "nbformat_minor": 0,
  "metadata": {
    "colab": {
      "name": "Abuse Preprocessing A5.ipynb",
      "provenance": []
    },
    "kernelspec": {
      "display_name": "Python 3",
      "name": "python3"
    }
  },
  "cells": [
    {
      "cell_type": "markdown",
      "metadata": {
        "id": "2c_vUF1cA5SG"
      },
      "source": [
        "# Importing stuff:"
      ]
    },
    {
      "cell_type": "code",
      "metadata": {
        "id": "UUga5CgqE8nE"
      },
      "source": [
        "!pip install googletrans\n",
        "!pip install indic_transliteration\n",
        "!pip install praw"
      ],
      "execution_count": null,
      "outputs": []
    },
    {
      "cell_type": "code",
      "metadata": {
        "id": "6GQbH2OuKm9R"
      },
      "source": [
        "import pandas as pd\n",
        "import numpy as np"
      ],
      "execution_count": null,
      "outputs": []
    },
    {
      "cell_type": "code",
      "metadata": {
        "id": "OyHJjoknw3gX"
      },
      "source": [
        "import googletrans\n",
        "from googletrans import Translator\n",
        "trans = Translator()\n",
        "\n",
        "import praw\n",
        "import re"
      ],
      "execution_count": null,
      "outputs": []
    },
    {
      "cell_type": "markdown",
      "metadata": {
        "id": "L2j6M6OZ2xTO"
      },
      "source": [
        "# HinGerman Dataset"
      ]
    },
    {
      "cell_type": "markdown",
      "metadata": {
        "id": "QEVGQuNtTfXc"
      },
      "source": [
        "Grabbing some hinglish offensive tweets here:"
      ]
    },
    {
      "cell_type": "code",
      "metadata": {
        "id": "1pCsDEB8KwLj",
        "colab": {
          "base_uri": "https://localhost:8080/",
          "height": 228
        },
        "outputId": "2f2fece1-65d1-44c8-b1f7-d3e0b1b1bb06"
      },
      "source": [
        "#!wget https://raw.githubusercontent.com/ramitsawhney27/OffensiveHinglishTweetClassification/master/HOT_Dataset_modified.csv"
      ],
      "execution_count": null,
      "outputs": [
        {
          "output_type": "stream",
          "text": [
            "--2020-10-10 11:15:14--  https://raw.githubusercontent.com/ramitsawhney27/OffensiveHinglishTweetClassification/master/HOT_Dataset_modified.csv\n",
            "Resolving raw.githubusercontent.com (raw.githubusercontent.com)... 151.101.0.133, 151.101.64.133, 151.101.128.133, ...\n",
            "Connecting to raw.githubusercontent.com (raw.githubusercontent.com)|151.101.0.133|:443... connected.\n",
            "HTTP request sent, awaiting response... 200 OK\n",
            "Length: 508576 (497K) [text/plain]\n",
            "Saving to: ‘HOT_Dataset_modified.csv.1’\n",
            "\n",
            "HOT_Dataset_modifie 100%[===================>] 496.66K  --.-KB/s    in 0.07s   \n",
            "\n",
            "2020-10-10 11:15:14 (7.23 MB/s) - ‘HOT_Dataset_modified.csv.1’ saved [508576/508576]\n",
            "\n"
          ],
          "name": "stdout"
        }
      ]
    },
    {
      "cell_type": "code",
      "metadata": {
        "id": "icD6y2u-LlIC"
      },
      "source": [
        "hot = pd.read_csv(\"/content/drive/My Drive/Glue Labs/Data-Abuse/MultiLingual/HOT.csv\") # Reading the csv"
      ],
      "execution_count": null,
      "outputs": []
    },
    {
      "cell_type": "code",
      "metadata": {
        "id": "9-h_NwWXMzhX"
      },
      "source": [
        "# converting their values in the isoffensive column to strings.\n",
        "\n",
        "for i in hot[hot['isoffensive'] == 1.].index:  \n",
        "  hot['isoffensive'].loc[i] = 'Yes' \n",
        "\n",
        "for i in hot[hot['isoffensive'] == 2.].index:\n",
        "  hot['isoffensive'].loc[i] = 'Yes'\n",
        "\n",
        "for i in hot[hot['isoffensive'] == 0.].index:\n",
        "  hot['isoffensive'].loc[i] = 'No'\n"
      ],
      "execution_count": null,
      "outputs": []
    },
    {
      "cell_type": "code",
      "metadata": {
        "id": "ecU3bgNH7PX7"
      },
      "source": [
        "hot.drop(['Unnamed: 0'], axis = 1, inplace = True)"
      ],
      "execution_count": null,
      "outputs": []
    },
    {
      "cell_type": "code",
      "metadata": {
        "id": "RjhH6qMQ7aWw"
      },
      "source": [
        "hot.columns = ['isoffensive', 'text']"
      ],
      "execution_count": null,
      "outputs": []
    },
    {
      "cell_type": "code",
      "metadata": {
        "id": "W1pvaFBQUu2V"
      },
      "source": [
        "#hot.to_csv(\"/content/drive/My Drive/Glue Labs/Abuse Model 12/inputs/hinglish.csv\")\n",
        "# exporting it."
      ],
      "execution_count": null,
      "outputs": []
    },
    {
      "cell_type": "markdown",
      "metadata": {
        "id": "tRycbsBnX1Ru"
      },
      "source": [
        "This is from the GermanEval18 competetion:\n",
        "https://www.researchgate.net/publication/327914386_Overview_of_the_GermEval_2018_Shared_Task_on_the_Identification_of_Offensive_Language"
      ]
    },
    {
      "cell_type": "code",
      "metadata": {
        "id": "QAsJlIy7Vdj4",
        "colab": {
          "base_uri": "https://localhost:8080/",
          "height": 415
        },
        "outputId": "a5108da4-c148-4e25-d705-6cec042b23e0"
      },
      "source": [
        "# Reading and taking a look at the data.\n",
        "german = pd.read_csv(\"/content/drive/My Drive/Glue Labs/Abuse Model 12/inputs/german/german.csv\")\n",
        "german "
      ],
      "execution_count": null,
      "outputs": [
        {
          "output_type": "execute_result",
          "data": {
            "text/html": [
              "<div>\n",
              "<style scoped>\n",
              "    .dataframe tbody tr th:only-of-type {\n",
              "        vertical-align: middle;\n",
              "    }\n",
              "\n",
              "    .dataframe tbody tr th {\n",
              "        vertical-align: top;\n",
              "    }\n",
              "\n",
              "    .dataframe thead th {\n",
              "        text-align: right;\n",
              "    }\n",
              "</style>\n",
              "<table border=\"1\" class=\"dataframe\">\n",
              "  <thead>\n",
              "    <tr style=\"text-align: right;\">\n",
              "      <th></th>\n",
              "      <th>Unnamed: 0</th>\n",
              "      <th>text</th>\n",
              "      <th>isoffensive</th>\n",
              "    </tr>\n",
              "  </thead>\n",
              "  <tbody>\n",
              "    <tr>\n",
              "      <th>0</th>\n",
              "      <td>0</td>\n",
              "      <td>user sie haben ja auch recht. unser tweet war ...</td>\n",
              "      <td>No</td>\n",
              "    </tr>\n",
              "    <tr>\n",
              "      <th>1</th>\n",
              "      <td>1</td>\n",
              "      <td>user fröhlicher gruß aus der schönsten stadt d...</td>\n",
              "      <td>No</td>\n",
              "    </tr>\n",
              "    <tr>\n",
              "      <th>2</th>\n",
              "      <td>2</td>\n",
              "      <td>user amis hätten alles und jeden gewählt...nur...</td>\n",
              "      <td>No</td>\n",
              "    </tr>\n",
              "    <tr>\n",
              "      <th>3</th>\n",
              "      <td>3</td>\n",
              "      <td>user kein verläßlicher verhandlungspartner. na...</td>\n",
              "      <td>Yes</td>\n",
              "    </tr>\n",
              "    <tr>\n",
              "      <th>4</th>\n",
              "      <td>4</td>\n",
              "      <td>user ja, aber wo widersprechen die zahlen denn...</td>\n",
              "      <td>No</td>\n",
              "    </tr>\n",
              "    <tr>\n",
              "      <th>...</th>\n",
              "      <td>...</td>\n",
              "      <td>...</td>\n",
              "      <td>...</td>\n",
              "    </tr>\n",
              "    <tr>\n",
              "      <th>5003</th>\n",
              "      <td>5003</td>\n",
              "      <td>gegens. zul. zu patenamt amp gegenseitige aner...</td>\n",
              "      <td>No</td>\n",
              "    </tr>\n",
              "    <tr>\n",
              "      <th>5004</th>\n",
              "      <td>5004</td>\n",
              "      <td>user zu merkel fällt mir nur ein, ein mal verr...</td>\n",
              "      <td>Yes</td>\n",
              "    </tr>\n",
              "    <tr>\n",
              "      <th>5005</th>\n",
              "      <td>5005</td>\n",
              "      <td>user user ein richtiges zeichen unserer nachba...</td>\n",
              "      <td>Yes</td>\n",
              "    </tr>\n",
              "    <tr>\n",
              "      <th>5006</th>\n",
              "      <td>5006</td>\n",
              "      <td>user ,honecker‘merkel macht uns zur ,ddr‘ klag...</td>\n",
              "      <td>Yes</td>\n",
              "    </tr>\n",
              "    <tr>\n",
              "      <th>5007</th>\n",
              "      <td>5007</td>\n",
              "      <td>warum wurden die g-chaoten nicht sofort auf fr...</td>\n",
              "      <td>No</td>\n",
              "    </tr>\n",
              "  </tbody>\n",
              "</table>\n",
              "<p>5008 rows × 3 columns</p>\n",
              "</div>"
            ],
            "text/plain": [
              "      Unnamed: 0                                               text isoffensive\n",
              "0              0  user sie haben ja auch recht. unser tweet war ...          No\n",
              "1              1  user fröhlicher gruß aus der schönsten stadt d...          No\n",
              "2              2  user amis hätten alles und jeden gewählt...nur...          No\n",
              "3              3  user kein verläßlicher verhandlungspartner. na...         Yes\n",
              "4              4  user ja, aber wo widersprechen die zahlen denn...          No\n",
              "...          ...                                                ...         ...\n",
              "5003        5003  gegens. zul. zu patenamt amp gegenseitige aner...          No\n",
              "5004        5004  user zu merkel fällt mir nur ein, ein mal verr...         Yes\n",
              "5005        5005  user user ein richtiges zeichen unserer nachba...         Yes\n",
              "5006        5006  user ,honecker‘merkel macht uns zur ,ddr‘ klag...         Yes\n",
              "5007        5007  warum wurden die g-chaoten nicht sofort auf fr...          No\n",
              "\n",
              "[5008 rows x 3 columns]"
            ]
          },
          "metadata": {
            "tags": []
          },
          "execution_count": 312
        }
      ]
    },
    {
      "cell_type": "code",
      "metadata": {
        "id": "wUL_coeL6jpS"
      },
      "source": [
        "german.drop(['Unnamed: 0'], axis = 1, inplace = True)  # Dropping an unnecessary column.\n",
        "german = pd.concat([german['isoffensive'], german['text']], axis = 1)"
      ],
      "execution_count": null,
      "outputs": []
    },
    {
      "cell_type": "code",
      "metadata": {
        "id": "I0697gY3XpMU"
      },
      "source": [
        "german.columns = ['text', 'isoffensive', 0] # Changing column names.\n",
        "german.drop([0], axis = 1, inplace = True)  # Dropping an unnecessary column."
      ],
      "execution_count": null,
      "outputs": []
    },
    {
      "cell_type": "code",
      "metadata": {
        "id": "I7WD36EVYHKV"
      },
      "source": [
        "# Converting the values in the 'isoffensive' column again:\n",
        "\n",
        "for i in german[german['isoffensive'] == 'OTHER'].index:\n",
        "  german['isoffensive'].loc[i] = 'No'\n",
        "\n",
        "for i in german[german['isoffensive'] == 'OFFENSE'].index:\n",
        "  german['isoffensive'].loc[i] = 'Yes'"
      ],
      "execution_count": null,
      "outputs": []
    },
    {
      "cell_type": "markdown",
      "metadata": {
        "id": "h0ftgyK-ULFO"
      },
      "source": [
        "I created this function to deal with tweets and it generalises pretty well for tweets in virtually any languages I have worked with."
      ]
    },
    {
      "cell_type": "code",
      "metadata": {
        "id": "WJbLcpMrapbM"
      },
      "source": [
        "import re\n",
        "\n",
        "def preprocess(text):\n",
        "  l = re.sub(r'&', '', text)\n",
        "  m = re.sub(r'RT ', '', l)\n",
        "  n = re.sub(r'~', '', m)\n",
        "  o = re.sub(r'#', '', n)\n",
        "  p = re.sub(r'!+', '', o)\n",
        "  q = re.sub(r'(http[s]?\\S+)|(\\w+\\.[A-Za-z]{2,4}\\S*)', 'link', p)\n",
        "  r = re.sub(r'[*]', '', q)\n",
        "  s = re.sub(r'[@]\\w+', 'user', r)\n",
        "  t = re.sub(r'[:|;]', '', s)\n",
        "  u = re.sub(r'[\\\\x]\\W+|\\d', '', t)\n",
        "  v = re.sub(r'[\\\\x]\\W+|\\d', '', u)\n",
        "  w = re.sub(r'[\\\\x]\\w+', '', v)\n",
        "  x = re.sub(r'    ', ' ', w)\n",
        "  y = re.sub(r'   ', ' ', x)\n",
        "  z = re.sub(r'  ', ' ', y)\n",
        "  ProcessedTweet = z.lower()\n",
        "  return ProcessedTweet"
      ],
      "execution_count": null,
      "outputs": []
    },
    {
      "cell_type": "code",
      "metadata": {
        "id": "dxutPU9FYIjA"
      },
      "source": [
        "# Preprocessing the text:\n",
        "\n",
        "for i in german.index:   \n",
        "  german['text'].loc[i] = preprocess(german['text'].loc[i])"
      ],
      "execution_count": null,
      "outputs": []
    },
    {
      "cell_type": "code",
      "metadata": {
        "id": "Sj6ipEpvazr-"
      },
      "source": [
        "#german.to_csv(\"/content/drive/My Drive/Glue Labs/Abuse Model 12/german.csv\")"
      ],
      "execution_count": null,
      "outputs": []
    },
    {
      "cell_type": "markdown",
      "metadata": {
        "id": "5-43EPHMUnkL"
      },
      "source": [
        "Grabbing the hinglish data again to use it for the three + language model:"
      ]
    },
    {
      "cell_type": "code",
      "metadata": {
        "id": "3XVkVepTbRE0"
      },
      "source": [
        "# Dropping a columns:\n",
        "hot = pd.read_csv(\"/content/drive/My Drive/Glue Labs/Abuse Model 12/inputs/hinglish/hinglish.csv\")\n",
        "hot.drop(['Unnamed: 0'], axis = 1, inplace = True)"
      ],
      "execution_count": null,
      "outputs": []
    },
    {
      "cell_type": "code",
      "metadata": {
        "id": "gM7ur4fLb7hw"
      },
      "source": [
        "# Redefining column names:\n",
        "hot.columns = ['isoffensive', 'text']"
      ],
      "execution_count": null,
      "outputs": []
    },
    {
      "cell_type": "markdown",
      "metadata": {
        "id": "ysKJ21B_rCD8"
      },
      "source": [
        "About a 1000 in hinglish are non abusive/ 2000+ are abusive."
      ]
    },
    {
      "cell_type": "code",
      "metadata": {
        "id": "sv_4gk1PcJYN"
      },
      "source": [
        "# Getting the german data and compiling:\n",
        "german = pd.concat([german['isoffensive'], german['text']], axis = 1)"
      ],
      "execution_count": null,
      "outputs": []
    },
    {
      "cell_type": "code",
      "metadata": {
        "id": "nxOT1gLJa0L1"
      },
      "source": [
        "# Finally our first dataset:\n",
        "\n",
        "hingerman = pd.concat([german, hot], axis = 0)\n",
        "\n",
        "size = hingerman.shape[0]\n",
        "hingerman = hingerman.sample(n = size)\n",
        "hingerman.index = range(size)"
      ],
      "execution_count": null,
      "outputs": []
    },
    {
      "cell_type": "markdown",
      "metadata": {
        "id": "_lmkb58Asf5W"
      },
      "source": [
        "Our german dataset here has like a 1100 something 'Yes' and all others are 'No' which is giving me trouble."
      ]
    },
    {
      "cell_type": "code",
      "metadata": {
        "id": "WpzntCdvbxV_",
        "colab": {
          "base_uri": "https://localhost:8080/",
          "height": 415
        },
        "outputId": "3175150a-f113-4e47-828b-6bdc476b1673"
      },
      "source": [
        "hingerman"
      ],
      "execution_count": null,
      "outputs": [
        {
          "output_type": "execute_result",
          "data": {
            "text/html": [
              "<div>\n",
              "<style scoped>\n",
              "    .dataframe tbody tr th:only-of-type {\n",
              "        vertical-align: middle;\n",
              "    }\n",
              "\n",
              "    .dataframe tbody tr th {\n",
              "        vertical-align: top;\n",
              "    }\n",
              "\n",
              "    .dataframe thead th {\n",
              "        text-align: right;\n",
              "    }\n",
              "</style>\n",
              "<table border=\"1\" class=\"dataframe\">\n",
              "  <thead>\n",
              "    <tr style=\"text-align: right;\">\n",
              "      <th></th>\n",
              "      <th>isoffensive</th>\n",
              "      <th>text</th>\n",
              "    </tr>\n",
              "  </thead>\n",
              "  <tbody>\n",
              "    <tr>\n",
              "      <th>0</th>\n",
              "      <td>No</td>\n",
              "      <td>user why is nirodh nirdosh trending? has someo...</td>\n",
              "    </tr>\n",
              "    <tr>\n",
              "      <th>1</th>\n",
              "      <td>No</td>\n",
              "      <td>hunde, die bellen, beißen auch. und wenn dich,...</td>\n",
              "    </tr>\n",
              "    <tr>\n",
              "      <th>2</th>\n",
              "      <td>Yes</td>\n",
              "      <td>doitsche kauft nicht bai türken</td>\n",
              "    </tr>\n",
              "    <tr>\n",
              "      <th>3</th>\n",
              "      <td>Yes</td>\n",
              "      <td>user user user user user user user user user u...</td>\n",
              "    </tr>\n",
              "    <tr>\n",
              "      <th>4</th>\n",
              "      <td>Yes</td>\n",
              "      <td>so wie firmen zu groß werden können und ihre z...</td>\n",
              "    </tr>\n",
              "    <tr>\n",
              "      <th>...</th>\n",
              "      <td>...</td>\n",
              "      <td>...</td>\n",
              "    </tr>\n",
              "    <tr>\n",
              "      <th>8191</th>\n",
              "      <td>No</td>\n",
              "      <td>.user tweet tut uns leid. wir nahmen an, die i...</td>\n",
              "    </tr>\n",
              "    <tr>\n",
              "      <th>8192</th>\n",
              "      <td>No</td>\n",
              "      <td>user user user diese menschen leiden an realit...</td>\n",
              "    </tr>\n",
              "    <tr>\n",
              "      <th>8193</th>\n",
              "      <td>Yes</td>\n",
              "      <td>user user user sie warnen vor nazis und führen...</td>\n",
              "    </tr>\n",
              "    <tr>\n",
              "      <th>8194</th>\n",
              "      <td>Yes</td>\n",
              "      <td>land mat chus gaandu mulle</td>\n",
              "    </tr>\n",
              "    <tr>\n",
              "      <th>8195</th>\n",
              "      <td>No</td>\n",
              "      <td>user 😳😳😳 ist aber auch lecker 😜</td>\n",
              "    </tr>\n",
              "  </tbody>\n",
              "</table>\n",
              "<p>8196 rows × 2 columns</p>\n",
              "</div>"
            ],
            "text/plain": [
              "     isoffensive                                               text\n",
              "0             No  user why is nirodh nirdosh trending? has someo...\n",
              "1             No  hunde, die bellen, beißen auch. und wenn dich,...\n",
              "2            Yes                    doitsche kauft nicht bai türken\n",
              "3            Yes  user user user user user user user user user u...\n",
              "4            Yes  so wie firmen zu groß werden können und ihre z...\n",
              "...          ...                                                ...\n",
              "8191          No  .user tweet tut uns leid. wir nahmen an, die i...\n",
              "8192          No  user user user diese menschen leiden an realit...\n",
              "8193         Yes  user user user sie warnen vor nazis und führen...\n",
              "8194         Yes                         land mat chus gaandu mulle\n",
              "8195          No                    user 😳😳😳 ist aber auch lecker 😜\n",
              "\n",
              "[8196 rows x 2 columns]"
            ]
          },
          "metadata": {
            "tags": []
          },
          "execution_count": 48
        }
      ]
    },
    {
      "cell_type": "code",
      "metadata": {
        "id": "9_0pqw_Fdu-K"
      },
      "source": [
        "#hingerman.to_csv(\"/content/drive/My Drive/Glue Labs/Abuse Model 12/input/hingerman.csv\")"
      ],
      "execution_count": null,
      "outputs": []
    },
    {
      "cell_type": "code",
      "metadata": {
        "id": "7kSpmTk9djTt"
      },
      "source": [
        "valid = hingerman[-2000:]\n",
        "train = hingerman[6196:]\n",
        "#valid.to_csv(\"/content/drive/My Drive/Glue Labs/Abuse Model 12/hingerman/valid.csv\")\n",
        "#train.to_csv(\"/content/drive/My Drive/Glue Labs/Abuse Model 12/hingerman/train.csv\")\n",
        "\n",
        "# Exported it."
      ],
      "execution_count": null,
      "outputs": []
    },
    {
      "cell_type": "markdown",
      "metadata": {
        "id": "3R1tuvn_3B4d"
      },
      "source": [
        "## English Text Data"
      ]
    },
    {
      "cell_type": "code",
      "metadata": {
        "id": "mZK7AGTVhCeD"
      },
      "source": [
        "# Preprocessing stuff:\n",
        "\n",
        "eng = pd.read_csv(\"/content/drive/My Drive/Glue Labs/Abuse Model #11 English/train.csv\")\n",
        "eng.drop(['Unnamed: 0'], axis = 1, inplace = True)\n",
        "eng.columns = ['isoffensive', 'text']\n",
        "eng = eng.sample(n = 6000)\n",
        "eng.index = range(eng.shape[0])\n",
        "\n",
        "# Grabbing more data for later use:\n",
        "\n",
        "eng = pd.read_csv(\"/content/drive/My Drive/Glue Labs/Abuse Model #11 English/train.csv\")\n",
        "eng.drop(['Unnamed: 0'], axis = 1, inplace = True)\n",
        "eng.columns = ['isoffensive', 'text']\n",
        "ENGLISH = eng.sample(n = 10000)\n",
        "ENGLISH.index = range(ENGLISH.shape[0])"
      ],
      "execution_count": null,
      "outputs": []
    },
    {
      "cell_type": "code",
      "metadata": {
        "id": "SSgeudAX0jsN"
      },
      "source": [
        "ENGLISH.to_csv(\"/content/drive/My Drive/Glue Labs/Abuse Model 12/inputs/english/ENGLISH.csv\")"
      ],
      "execution_count": null,
      "outputs": []
    },
    {
      "cell_type": "markdown",
      "metadata": {
        "id": "PA7TjAvu3JM3"
      },
      "source": [
        "## German Text Data"
      ]
    },
    {
      "cell_type": "markdown",
      "metadata": {
        "id": "t3cNY-IeWsXr"
      },
      "source": [
        "Grabbing more german data:"
      ]
    },
    {
      "cell_type": "code",
      "metadata": {
        "id": "HPC1mY_kopRK"
      },
      "source": [
        "!wget https://hasocfire.github.io/hasoc/2019/files/german_dataset.zip"
      ],
      "execution_count": null,
      "outputs": []
    },
    {
      "cell_type": "code",
      "metadata": {
        "id": "L24Kv7Yqwwwb",
        "colab": {
          "base_uri": "https://localhost:8080/",
          "height": 415
        },
        "outputId": "bc1f991f-f223-4026-956f-6fdd240211a9"
      },
      "source": [
        "pd.read_csv(\"/content/drive/My Drive/Glue Labs/Abuse Model 12/inputs/german/german.csv\")"
      ],
      "execution_count": null,
      "outputs": [
        {
          "output_type": "execute_result",
          "data": {
            "text/html": [
              "<div>\n",
              "<style scoped>\n",
              "    .dataframe tbody tr th:only-of-type {\n",
              "        vertical-align: middle;\n",
              "    }\n",
              "\n",
              "    .dataframe tbody tr th {\n",
              "        vertical-align: top;\n",
              "    }\n",
              "\n",
              "    .dataframe thead th {\n",
              "        text-align: right;\n",
              "    }\n",
              "</style>\n",
              "<table border=\"1\" class=\"dataframe\">\n",
              "  <thead>\n",
              "    <tr style=\"text-align: right;\">\n",
              "      <th></th>\n",
              "      <th>Unnamed: 0</th>\n",
              "      <th>text</th>\n",
              "      <th>isoffensive</th>\n",
              "    </tr>\n",
              "  </thead>\n",
              "  <tbody>\n",
              "    <tr>\n",
              "      <th>0</th>\n",
              "      <td>0</td>\n",
              "      <td>user sie haben ja auch recht. unser tweet war ...</td>\n",
              "      <td>No</td>\n",
              "    </tr>\n",
              "    <tr>\n",
              "      <th>1</th>\n",
              "      <td>1</td>\n",
              "      <td>user fröhlicher gruß aus der schönsten stadt d...</td>\n",
              "      <td>No</td>\n",
              "    </tr>\n",
              "    <tr>\n",
              "      <th>2</th>\n",
              "      <td>2</td>\n",
              "      <td>user amis hätten alles und jeden gewählt...nur...</td>\n",
              "      <td>No</td>\n",
              "    </tr>\n",
              "    <tr>\n",
              "      <th>3</th>\n",
              "      <td>3</td>\n",
              "      <td>user kein verläßlicher verhandlungspartner. na...</td>\n",
              "      <td>Yes</td>\n",
              "    </tr>\n",
              "    <tr>\n",
              "      <th>4</th>\n",
              "      <td>4</td>\n",
              "      <td>user ja, aber wo widersprechen die zahlen denn...</td>\n",
              "      <td>No</td>\n",
              "    </tr>\n",
              "    <tr>\n",
              "      <th>...</th>\n",
              "      <td>...</td>\n",
              "      <td>...</td>\n",
              "      <td>...</td>\n",
              "    </tr>\n",
              "    <tr>\n",
              "      <th>5003</th>\n",
              "      <td>5003</td>\n",
              "      <td>gegens. zul. zu patenamt amp gegenseitige aner...</td>\n",
              "      <td>No</td>\n",
              "    </tr>\n",
              "    <tr>\n",
              "      <th>5004</th>\n",
              "      <td>5004</td>\n",
              "      <td>user zu merkel fällt mir nur ein, ein mal verr...</td>\n",
              "      <td>Yes</td>\n",
              "    </tr>\n",
              "    <tr>\n",
              "      <th>5005</th>\n",
              "      <td>5005</td>\n",
              "      <td>user user ein richtiges zeichen unserer nachba...</td>\n",
              "      <td>Yes</td>\n",
              "    </tr>\n",
              "    <tr>\n",
              "      <th>5006</th>\n",
              "      <td>5006</td>\n",
              "      <td>user ,honecker‘merkel macht uns zur ,ddr‘ klag...</td>\n",
              "      <td>Yes</td>\n",
              "    </tr>\n",
              "    <tr>\n",
              "      <th>5007</th>\n",
              "      <td>5007</td>\n",
              "      <td>warum wurden die g-chaoten nicht sofort auf fr...</td>\n",
              "      <td>No</td>\n",
              "    </tr>\n",
              "  </tbody>\n",
              "</table>\n",
              "<p>5008 rows × 3 columns</p>\n",
              "</div>"
            ],
            "text/plain": [
              "      Unnamed: 0                                               text isoffensive\n",
              "0              0  user sie haben ja auch recht. unser tweet war ...          No\n",
              "1              1  user fröhlicher gruß aus der schönsten stadt d...          No\n",
              "2              2  user amis hätten alles und jeden gewählt...nur...          No\n",
              "3              3  user kein verläßlicher verhandlungspartner. na...         Yes\n",
              "4              4  user ja, aber wo widersprechen die zahlen denn...          No\n",
              "...          ...                                                ...         ...\n",
              "5003        5003  gegens. zul. zu patenamt amp gegenseitige aner...          No\n",
              "5004        5004  user zu merkel fällt mir nur ein, ein mal verr...         Yes\n",
              "5005        5005  user user ein richtiges zeichen unserer nachba...         Yes\n",
              "5006        5006  user ,honecker‘merkel macht uns zur ,ddr‘ klag...         Yes\n",
              "5007        5007  warum wurden die g-chaoten nicht sofort auf fr...          No\n",
              "\n",
              "[5008 rows x 3 columns]"
            ]
          },
          "metadata": {
            "tags": []
          },
          "execution_count": 285
        }
      ]
    },
    {
      "cell_type": "code",
      "metadata": {
        "id": "VLfSn3qWs2CW",
        "colab": {
          "base_uri": "https://localhost:8080/",
          "height": 415
        },
        "outputId": "7691c3a7-6dfa-47ba-b058-e5d020829352"
      },
      "source": [
        "german2 = pd.read_csv(\"/content/drive/My Drive/Glue Labs/Abuse Model 12/inputs/german/gg ds.csv\", sep = '\\t')\n",
        "german2"
      ],
      "execution_count": null,
      "outputs": [
        {
          "output_type": "execute_result",
          "data": {
            "text/html": [
              "<div>\n",
              "<style scoped>\n",
              "    .dataframe tbody tr th:only-of-type {\n",
              "        vertical-align: middle;\n",
              "    }\n",
              "\n",
              "    .dataframe tbody tr th {\n",
              "        vertical-align: top;\n",
              "    }\n",
              "\n",
              "    .dataframe thead th {\n",
              "        text-align: right;\n",
              "    }\n",
              "</style>\n",
              "<table border=\"1\" class=\"dataframe\">\n",
              "  <thead>\n",
              "    <tr style=\"text-align: right;\">\n",
              "      <th></th>\n",
              "      <th>text_id</th>\n",
              "      <th>text</th>\n",
              "      <th>task_1</th>\n",
              "      <th>task_2</th>\n",
              "    </tr>\n",
              "  </thead>\n",
              "  <tbody>\n",
              "    <tr>\n",
              "      <th>0</th>\n",
              "      <td>hasoc_de_1</td>\n",
              "      <td>Frank Rennicke – Ich bin stolz https://t.co/Cm...</td>\n",
              "      <td>NOT</td>\n",
              "      <td>NONE</td>\n",
              "    </tr>\n",
              "    <tr>\n",
              "      <th>1</th>\n",
              "      <td>hasoc_de_2</td>\n",
              "      <td>ANSEHEN.....und danach bitte TEILEN...TEILEN.....</td>\n",
              "      <td>NOT</td>\n",
              "      <td>NONE</td>\n",
              "    </tr>\n",
              "    <tr>\n",
              "      <th>2</th>\n",
              "      <td>hasoc_de_3</td>\n",
              "      <td>#Koeln Mohamed erkennt kein deutsches Recht so...</td>\n",
              "      <td>NOT</td>\n",
              "      <td>NONE</td>\n",
              "    </tr>\n",
              "    <tr>\n",
              "      <th>3</th>\n",
              "      <td>hasoc_de_4</td>\n",
              "      <td>#SaudiArabien ist eine brutale islamische Dikt...</td>\n",
              "      <td>NOT</td>\n",
              "      <td>NONE</td>\n",
              "    </tr>\n",
              "    <tr>\n",
              "      <th>4</th>\n",
              "      <td>hasoc_de_5</td>\n",
              "      <td>Bundespolizei #München hat im 1. Quartal 2019 ...</td>\n",
              "      <td>NOT</td>\n",
              "      <td>NONE</td>\n",
              "    </tr>\n",
              "    <tr>\n",
              "      <th>...</th>\n",
              "      <td>...</td>\n",
              "      <td>...</td>\n",
              "      <td>...</td>\n",
              "      <td>...</td>\n",
              "    </tr>\n",
              "    <tr>\n",
              "      <th>3814</th>\n",
              "      <td>hasoc_de_3815</td>\n",
              "      <td>akquirieren Männer,die sich um die Kinder kümm...</td>\n",
              "      <td>NOT</td>\n",
              "      <td>NONE</td>\n",
              "    </tr>\n",
              "    <tr>\n",
              "      <th>3815</th>\n",
              "      <td>hasoc_de_3816</td>\n",
              "      <td>Ja,schon seit Jahren!  Ich muß dran denken,das...</td>\n",
              "      <td>NOT</td>\n",
              "      <td>NONE</td>\n",
              "    </tr>\n",
              "    <tr>\n",
              "      <th>3816</th>\n",
              "      <td>hasoc_de_3817</td>\n",
              "      <td>@Kurkamp @wendt_joachim @Schroeder_Live @lamni...</td>\n",
              "      <td>NOT</td>\n",
              "      <td>NONE</td>\n",
              "    </tr>\n",
              "    <tr>\n",
              "      <th>3817</th>\n",
              "      <td>hasoc_de_3818</td>\n",
              "      <td>EU Wahlen!  AfD für Kindererziehungszeiten für...</td>\n",
              "      <td>NOT</td>\n",
              "      <td>NONE</td>\n",
              "    </tr>\n",
              "    <tr>\n",
              "      <th>3818</th>\n",
              "      <td>hasoc_de_3819</td>\n",
              "      <td>Es ist schon merkwürdig,da soll ein Wettstreit...</td>\n",
              "      <td>NOT</td>\n",
              "      <td>NONE</td>\n",
              "    </tr>\n",
              "  </tbody>\n",
              "</table>\n",
              "<p>3819 rows × 4 columns</p>\n",
              "</div>"
            ],
            "text/plain": [
              "            text_id  ... task_2\n",
              "0        hasoc_de_1  ...   NONE\n",
              "1        hasoc_de_2  ...   NONE\n",
              "2        hasoc_de_3  ...   NONE\n",
              "3        hasoc_de_4  ...   NONE\n",
              "4        hasoc_de_5  ...   NONE\n",
              "...             ...  ...    ...\n",
              "3814  hasoc_de_3815  ...   NONE\n",
              "3815  hasoc_de_3816  ...   NONE\n",
              "3816  hasoc_de_3817  ...   NONE\n",
              "3817  hasoc_de_3818  ...   NONE\n",
              "3818  hasoc_de_3819  ...   NONE\n",
              "\n",
              "[3819 rows x 4 columns]"
            ]
          },
          "metadata": {
            "tags": []
          },
          "execution_count": 286
        }
      ]
    },
    {
      "cell_type": "markdown",
      "metadata": {
        "id": "Goe-0SLjvcpP"
      },
      "source": [
        "I think after this we'd have 9000 + german examples in our hingerman dataset."
      ]
    },
    {
      "cell_type": "code",
      "metadata": {
        "id": "-nfEyzowt6Uc"
      },
      "source": [
        "# Preprocessing it:\n",
        "\n",
        "german2.drop(['task_2', 'text_id'], axis = 1, inplace = True) \n",
        "\n",
        "german2.columns = ['text', 'isoffensive']\n",
        "\n",
        "german2 = pd.concat([german2['isoffensive'], german2['text']], axis = 1)"
      ],
      "execution_count": null,
      "outputs": []
    },
    {
      "cell_type": "code",
      "metadata": {
        "id": "xTI64hOsuuio"
      },
      "source": [
        "for i in german2[german2['isoffensive'] == 'NOT'].index:     # 3412 rows of not offensive text here\n",
        "  german2['isoffensive'].loc[i] = 'No'  \n",
        "\n",
        "for i in german2[german2['isoffensive'] == 'HOF'].index:     # 407 rows of not offensive text here\n",
        "  german2['isoffensive'].loc[i] = 'Yes'          "
      ],
      "execution_count": null,
      "outputs": []
    },
    {
      "cell_type": "code",
      "metadata": {
        "id": "DUOKWylswe02"
      },
      "source": [
        "for i in german2.index:\n",
        "  german2['text'].loc[i] = preprocess(german2['text'].loc[i])"
      ],
      "execution_count": null,
      "outputs": []
    },
    {
      "cell_type": "markdown",
      "metadata": {
        "id": "bcwrJwIAFizo"
      },
      "source": [
        "Okay till now we have about 1500+ abusive german examples and 7000+ non-abusive."
      ]
    },
    {
      "cell_type": "markdown",
      "metadata": {
        "id": "ejrG48X8Fhpf"
      },
      "source": [
        "This is  my attempt to convert english data into german for the model to generalise better."
      ]
    },
    {
      "cell_type": "code",
      "metadata": {
        "id": "0SOUxfa9G2dI",
        "colab": {
          "base_uri": "https://localhost:8080/",
          "height": 415
        },
        "outputId": "bb599a5e-41ce-456a-899a-95adeeb8ae55"
      },
      "source": [
        "eng[eng['isoffensive'] == 'Yes'] "
      ],
      "execution_count": null,
      "outputs": [
        {
          "output_type": "execute_result",
          "data": {
            "text/html": [
              "<div>\n",
              "<style scoped>\n",
              "    .dataframe tbody tr th:only-of-type {\n",
              "        vertical-align: middle;\n",
              "    }\n",
              "\n",
              "    .dataframe tbody tr th {\n",
              "        vertical-align: top;\n",
              "    }\n",
              "\n",
              "    .dataframe thead th {\n",
              "        text-align: right;\n",
              "    }\n",
              "</style>\n",
              "<table border=\"1\" class=\"dataframe\">\n",
              "  <thead>\n",
              "    <tr style=\"text-align: right;\">\n",
              "      <th></th>\n",
              "      <th>isoffensive</th>\n",
              "      <th>text</th>\n",
              "    </tr>\n",
              "  </thead>\n",
              "  <tbody>\n",
              "    <tr>\n",
              "      <th>0</th>\n",
              "      <td>Yes</td>\n",
              "      <td>and my bitch so bad that i'm never ever cheating</td>\n",
              "    </tr>\n",
              "    <tr>\n",
              "      <th>1</th>\n",
              "      <td>Yes</td>\n",
              "      <td>user only faggots drive stick</td>\n",
              "    </tr>\n",
              "    <tr>\n",
              "      <th>2</th>\n",
              "      <td>Yes</td>\n",
              "      <td>user blow shit up and get fatter. white trash ...</td>\n",
              "    </tr>\n",
              "    <tr>\n",
              "      <th>4</th>\n",
              "      <td>Yes</td>\n",
              "      <td>user user user you're a faggotyou're a te fan...</td>\n",
              "    </tr>\n",
              "    <tr>\n",
              "      <th>6</th>\n",
              "      <td>Yes</td>\n",
              "      <td>user how many fuckin fags did a even get? shou...</td>\n",
              "    </tr>\n",
              "    <tr>\n",
              "      <th>...</th>\n",
              "      <td>...</td>\n",
              "      <td>...</td>\n",
              "    </tr>\n",
              "    <tr>\n",
              "      <th>5993</th>\n",
              "      <td>Yes</td>\n",
              "      <td>i be chillin wit the bitches cuz a lotta nicca...</td>\n",
              "    </tr>\n",
              "    <tr>\n",
              "      <th>5994</th>\n",
              "      <td>Yes</td>\n",
              "      <td>lmfaooo user whenever you take selfies at work...</td>\n",
              "    </tr>\n",
              "    <tr>\n",
              "      <th>5996</th>\n",
              "      <td>Yes</td>\n",
              "      <td>user \"user shes one of the ugliest women ive e...</td>\n",
              "    </tr>\n",
              "    <tr>\n",
              "      <th>5997</th>\n",
              "      <td>Yes</td>\n",
              "      <td>i just said that user my tl gotta chill with ...</td>\n",
              "    </tr>\n",
              "    <tr>\n",
              "      <th>5999</th>\n",
              "      <td>Yes</td>\n",
              "      <td>well damn lmaooo.... user it was the dyke in t...</td>\n",
              "    </tr>\n",
              "  </tbody>\n",
              "</table>\n",
              "<p>4075 rows × 2 columns</p>\n",
              "</div>"
            ],
            "text/plain": [
              "     isoffensive                                               text\n",
              "0            Yes   and my bitch so bad that i'm never ever cheating\n",
              "1            Yes                      user only faggots drive stick\n",
              "2            Yes  user blow shit up and get fatter. white trash ...\n",
              "4            Yes   user user user you're a faggotyou're a te fan...\n",
              "6            Yes  user how many fuckin fags did a even get? shou...\n",
              "...          ...                                                ...\n",
              "5993         Yes  i be chillin wit the bitches cuz a lotta nicca...\n",
              "5994         Yes  lmfaooo user whenever you take selfies at work...\n",
              "5996         Yes  user \"user shes one of the ugliest women ive e...\n",
              "5997         Yes   i just said that user my tl gotta chill with ...\n",
              "5999         Yes  well damn lmaooo.... user it was the dyke in t...\n",
              "\n",
              "[4075 rows x 2 columns]"
            ]
          },
          "metadata": {
            "tags": []
          },
          "execution_count": 294
        }
      ]
    },
    {
      "cell_type": "markdown",
      "metadata": {
        "id": "Zs2gNF7AHIM1"
      },
      "source": [
        "point to be noted: about 4000 abusive text rows, 2000 clean."
      ]
    },
    {
      "cell_type": "code",
      "metadata": {
        "id": "2fF0Ltm0F3Ev"
      },
      "source": [
        "german3 = eng.copy()\n",
        "for i in german3.index:\n",
        "  text = german3.text.loc[i]\n",
        "  german = (trans.translate(text, dest = 'de'))\n",
        "  german3.text.loc[i] = german.text\n"
      ],
      "execution_count": null,
      "outputs": []
    },
    {
      "cell_type": "code",
      "metadata": {
        "id": "wyE2h-WgzP3X"
      },
      "source": [
        "german3.to_csv('/content/drive/My Drive/Glue Labs/Abuse Model 12/inputs/GERMAN.csv')"
      ],
      "execution_count": null,
      "outputs": []
    },
    {
      "cell_type": "code",
      "metadata": {
        "id": "9U-KjJDz2HTL"
      },
      "source": [
        "GERMAN = pd.concat([german3, german2, german], axis = 0)\n",
        "GERMAN.to_csv('/content/drive/My Drive/Glue Labs/Abuse Model 12/inputs/german/GERMAN.csv')"
      ],
      "execution_count": null,
      "outputs": []
    },
    {
      "cell_type": "markdown",
      "metadata": {
        "id": "etcw7MXDdW_A"
      },
      "source": [
        "Now in the german language we have about 5500+ abusive row and the non-abusive ones are up to 9000+"
      ]
    },
    {
      "cell_type": "markdown",
      "metadata": {
        "id": "_r30ht990kjA"
      },
      "source": [
        "## Hindi Text Data"
      ]
    },
    {
      "cell_type": "code",
      "metadata": {
        "id": "lzkz5YfWYtao"
      },
      "source": [
        "hind = pd.read_csv(\"/content/drive/My Drive/Glue Labs/Data-Abuse/MultiLingual/hindi_dataset.csv\", sep = '\\t')"
      ],
      "execution_count": null,
      "outputs": []
    },
    {
      "cell_type": "code",
      "metadata": {
        "id": "n_wdcCQhliGE"
      },
      "source": [
        "hind = pd.concat([hind['task_1'], hind['text']], axis = 1)\n",
        "hind.columns = ['isoffensive', 'text']"
      ],
      "execution_count": null,
      "outputs": []
    },
    {
      "cell_type": "code",
      "metadata": {
        "id": "a4GtncN-mXP7"
      },
      "source": [
        "NOT = hind[hind['isoffensive'] == 'NOT'].index\n",
        "\n",
        "HOF = hind[hind['isoffensive'] == 'HOF'].index\n"
      ],
      "execution_count": null,
      "outputs": []
    },
    {
      "cell_type": "code",
      "metadata": {
        "id": "XVvoyQYXm_Uf"
      },
      "source": [
        "for i in HOF:\n",
        "  hind['isoffensive'].loc[i] = 'Yes'\n",
        "\n",
        "for i in NOT:\n",
        "  hind['isoffensive'].loc[i] = 'No'"
      ],
      "execution_count": null,
      "outputs": []
    },
    {
      "cell_type": "code",
      "metadata": {
        "id": "H7zVyy-I9jDg"
      },
      "source": [
        "from indic_transliteration import sanscript, detect\n",
        "from indic_transliteration.sanscript import SchemeMap, SCHEMES, transliterate\n",
        "\n",
        "def translit(text):\n",
        "  newtext = transliterate(text, sanscript.DEVANAGARI, sanscript.IAST)\n",
        "  return newtext.lower()"
      ],
      "execution_count": null,
      "outputs": []
    },
    {
      "cell_type": "code",
      "metadata": {
        "id": "lRZ0NCjvaLE8",
        "colab": {
          "base_uri": "https://localhost:8080/",
          "height": 35
        },
        "outputId": "38dd1a9d-6777-494d-8e82-b08d529b76a6"
      },
      "source": [
        "translit('क्या है तुझे')  # Does it work? "
      ],
      "execution_count": null,
      "outputs": [
        {
          "output_type": "execute_result",
          "data": {
            "application/vnd.google.colaboratory.intrinsic+json": {
              "type": "string"
            },
            "text/plain": [
              "'kyā hai tujhe'"
            ]
          },
          "metadata": {
            "tags": []
          },
          "execution_count": 14
        }
      ]
    },
    {
      "cell_type": "code",
      "metadata": {
        "id": "2cI56vDpZkHj"
      },
      "source": [
        "for i in hind.index:\n",
        "  hind['text'].loc[i] = translit(hind['text'].loc[i])"
      ],
      "execution_count": null,
      "outputs": []
    },
    {
      "cell_type": "code",
      "metadata": {
        "id": "NeUIZZJfgi37"
      },
      "source": [
        "import re\n",
        "\n",
        "def hindiprepro(text):\n",
        "  a = re.sub('ī', 'i', text)\n",
        "  b = re.sub('ā', 'a', a)\n",
        "  c = re.sub('ṃ', 'n', b)\n",
        "  d = re.sub('ś', 'sh', c)\n",
        "  e = re.sub('|', '', d)\n",
        "  f = re.sub('cā', 'ka', e)\n",
        "  g = re.sub('  ', ' ', f)\n",
        "  h = re.sub('#', '', g)\n",
        "  i = re.sub('ū', 'u', h)\n",
        "  j = re.sub('ḍ', 'd', i)\n",
        "  k = re.sub('a़', 'a', j)\n",
        "  l = re.sub('ṭ', 't', k)\n",
        "  m = re.sub('-', '', l)\n",
        "  n = re.sub('c', 'ch', m)\n",
        "  o = re.sub('ṣaṇa', 'sh', n)\n",
        "  return o.lower()"
      ],
      "execution_count": null,
      "outputs": []
    },
    {
      "cell_type": "code",
      "metadata": {
        "id": "C2UB55r-jWVs"
      },
      "source": [
        "for i in hind.index:\n",
        "  hind['text'].loc[i] = hindiprepro(hind['text'].loc[i])"
      ],
      "execution_count": null,
      "outputs": []
    },
    {
      "cell_type": "code",
      "metadata": {
        "id": "8JNPzVCenvex"
      },
      "source": [
        "for i in hind.index:\n",
        "  hind['text'].loc[i] = preprocess(hind['text'].loc[i])"
      ],
      "execution_count": null,
      "outputs": []
    },
    {
      "cell_type": "code",
      "metadata": {
        "id": "BeUG9yzpkr09"
      },
      "source": [
        "hind[hind['isoffensive'] == 'No']"
      ],
      "execution_count": null,
      "outputs": []
    },
    {
      "cell_type": "code",
      "metadata": {
        "id": "aRhtYRYvpafG"
      },
      "source": [
        "hind.text[7]"
      ],
      "execution_count": null,
      "outputs": []
    },
    {
      "cell_type": "code",
      "metadata": {
        "id": "rLOzFAifjHKv"
      },
      "source": [
        "eng = pd.read_csv(\"/content/drive/My Drive/Glue Labs/Abuse Model #11 English/train.csv\")\n",
        "eng.drop(['Unnamed: 0'], axis = 1, inplace = True)\n",
        "eng.columns = ['isoffensive', 'text']\n",
        "hind2 = eng.sample(n = 6000)\n",
        "hind2.index = range(hind2.shape[0])"
      ],
      "execution_count": null,
      "outputs": []
    },
    {
      "cell_type": "code",
      "metadata": {
        "id": "_pHnHT_kjviA"
      },
      "source": [
        "for i in hind2.index:\n",
        "  text = hind2['text'].loc[i]\n",
        "  newtext = (trans.translate(text, dest = 'hi')).text\n",
        "  hind2['text'].loc[i] = newtext"
      ],
      "execution_count": null,
      "outputs": []
    },
    {
      "cell_type": "code",
      "metadata": {
        "id": "f8BmzkocDCY6"
      },
      "source": [
        "for i in hind2.index:\n",
        "  hind2['text'].loc[i] = translit(hind2['text'].loc[i])"
      ],
      "execution_count": null,
      "outputs": []
    },
    {
      "cell_type": "code",
      "metadata": {
        "id": "JnksH7RejHHm"
      },
      "source": [
        "for i in hind2.index:\n",
        "  hind2['text'].loc[i] = hindiprepro(hind2['text'].loc[i])"
      ],
      "execution_count": null,
      "outputs": []
    },
    {
      "cell_type": "code",
      "metadata": {
        "id": "YBpEP6W4C9O-",
        "colab": {
          "base_uri": "https://localhost:8080/",
          "height": 424
        },
        "outputId": "85a4ad33-bd59-4b4e-aca2-d812fe20201d"
      },
      "source": [
        "hind2"
      ],
      "execution_count": null,
      "outputs": [
        {
          "output_type": "execute_result",
          "data": {
            "text/html": [
              "<div>\n",
              "<style scoped>\n",
              "    .dataframe tbody tr th:only-of-type {\n",
              "        vertical-align: middle;\n",
              "    }\n",
              "\n",
              "    .dataframe tbody tr th {\n",
              "        vertical-align: top;\n",
              "    }\n",
              "\n",
              "    .dataframe thead th {\n",
              "        text-align: right;\n",
              "    }\n",
              "</style>\n",
              "<table border=\"1\" class=\"dataframe\">\n",
              "  <thead>\n",
              "    <tr style=\"text-align: right;\">\n",
              "      <th></th>\n",
              "      <th>isoffensive</th>\n",
              "      <th>text</th>\n",
              "    </tr>\n",
              "  </thead>\n",
              "  <tbody>\n",
              "    <tr>\n",
              "      <th>0</th>\n",
              "      <td>Yes</td>\n",
              "      <td>sabatavitatavitaveta kyuja skini nigaha lekina...</td>\n",
              "    </tr>\n",
              "    <tr>\n",
              "      <th>1</th>\n",
              "      <td>Yes</td>\n",
              "      <td>upayogakarta ko khushi hui ki apa usa bachche ...</td>\n",
              "    </tr>\n",
              "    <tr>\n",
              "      <th>2</th>\n",
              "      <td>Yes</td>\n",
              "      <td>upayogakarta upayogakarta apake tebo ke satha ...</td>\n",
              "    </tr>\n",
              "    <tr>\n",
              "      <th>3</th>\n",
              "      <td>Yes</td>\n",
              "      <td>user dis hoe bri sapane men eka gile sapane ko...</td>\n",
              "    </tr>\n",
              "    <tr>\n",
              "      <th>4</th>\n",
              "      <td>Yes</td>\n",
              "      <td>jaba taka ne rednechks jaba taka main apako ph...</td>\n",
              "    </tr>\n",
              "    <tr>\n",
              "      <th>...</th>\n",
              "      <td>...</td>\n",
              "      <td>...</td>\n",
              "    </tr>\n",
              "    <tr>\n",
              "      <th>5995</th>\n",
              "      <td>Yes</td>\n",
              "      <td>ja raha hai mushkila kutiya kasama khata hum̐ ...</td>\n",
              "    </tr>\n",
              "    <tr>\n",
              "      <th>5996</th>\n",
              "      <td>Yes</td>\n",
              "      <td>upayogakarta ne apako bataya ki ve kutiya paga...</td>\n",
              "    </tr>\n",
              "    <tr>\n",
              "      <th>5997</th>\n",
              "      <td>No</td>\n",
              "      <td>i heard this when i was only 6 years old and i...</td>\n",
              "    </tr>\n",
              "    <tr>\n",
              "      <th>5998</th>\n",
              "      <td>Yes</td>\n",
              "      <td>upayogakarta ina hoes vaphadara nahin hai</td>\n",
              "    </tr>\n",
              "    <tr>\n",
              "      <th>5999</th>\n",
              "      <td>Yes</td>\n",
              "      <td>user suchk ass bum ass yankees foh</td>\n",
              "    </tr>\n",
              "  </tbody>\n",
              "</table>\n",
              "<p>6000 rows × 2 columns</p>\n",
              "</div>"
            ],
            "text/plain": [
              "     isoffensive                                               text\n",
              "0            Yes  sabatavitatavitaveta kyuja skini nigaha lekina...\n",
              "1            Yes  upayogakarta ko khushi hui ki apa usa bachche ...\n",
              "2            Yes  upayogakarta upayogakarta apake tebo ke satha ...\n",
              "3            Yes  user dis hoe bri sapane men eka gile sapane ko...\n",
              "4            Yes  jaba taka ne rednechks jaba taka main apako ph...\n",
              "...          ...                                                ...\n",
              "5995         Yes  ja raha hai mushkila kutiya kasama khata hum̐ ...\n",
              "5996         Yes  upayogakarta ne apako bataya ki ve kutiya paga...\n",
              "5997          No  i heard this when i was only 6 years old and i...\n",
              "5998         Yes          upayogakarta ina hoes vaphadara nahin hai\n",
              "5999         Yes                 user suchk ass bum ass yankees foh\n",
              "\n",
              "[6000 rows x 2 columns]"
            ]
          },
          "metadata": {
            "tags": []
          },
          "execution_count": 27
        }
      ]
    },
    {
      "cell_type": "code",
      "metadata": {
        "id": "aIoZkF2wC9Jg"
      },
      "source": [
        ""
      ],
      "execution_count": null,
      "outputs": []
    },
    {
      "cell_type": "code",
      "metadata": {
        "id": "9o4FWAyr1GXl"
      },
      "source": [
        "hind = pd.concat([hind, hot, hind2], axis = 0)\n",
        "hind.index = range(hind.shape[0])"
      ],
      "execution_count": null,
      "outputs": []
    },
    {
      "cell_type": "code",
      "metadata": {
        "id": "HJKQimftq_pk"
      },
      "source": [
        "hind.to_csv(\"/content/drive/My Drive/Glue Labs/Abuse Model 12/inputs/HINDI.csv\")"
      ],
      "execution_count": null,
      "outputs": []
    },
    {
      "cell_type": "markdown",
      "metadata": {
        "id": "8labDU6To0AD"
      },
      "source": [
        "Finally integrating about 2000 abusive hinglish text rows and 2000 non-abusive ones. Getting the total examples to 7000+ out of which 3000 are non-abusive while 4000+ are abusive."
      ]
    },
    {
      "cell_type": "markdown",
      "metadata": {
        "id": "DllYq50l3dJP"
      },
      "source": [
        "## Compiling EngHinGerman"
      ]
    },
    {
      "cell_type": "code",
      "metadata": {
        "id": "EZQF0Ai6og7r",
        "colab": {
          "base_uri": "https://localhost:8080/",
          "height": 35
        },
        "outputId": "bae312cf-8580-4c2a-f142-398976e5b361"
      },
      "source": [
        "enghingerman = pd.concat([GERMAN, hind, ENGLISH], axis = 0)\n",
        "\n",
        "enghingerman.index = range(enghingerman.shape[0])\n",
        "enghingerman.shape"
      ],
      "execution_count": null,
      "outputs": [
        {
          "output_type": "execute_result",
          "data": {
            "text/plain": [
              "(32680, 2)"
            ]
          },
          "metadata": {
            "tags": []
          },
          "execution_count": 331
        }
      ]
    },
    {
      "cell_type": "code",
      "metadata": {
        "id": "syVF_4PenJMy"
      },
      "source": [
        "train = enghingerman[:25000]\n",
        "valid = enghingerman[-7680:]\n",
        "\n",
        "train.to_csv(\"/content/drive/My Drive/Glue Labs/Abuse Model 12/eng-hin-german #2/train.csv\")\n",
        "valid.to_csv(\"/content/drive/My Drive/Glue Labs/Abuse Model 12/eng-hin-german #2/valid.csv\")\n",
        "enghingerman.to_csv(\"/content/drive/My Drive/Glue Labs/Abuse Model 12/eng-hin-german #2/enghingerman.csv\")\n"
      ],
      "execution_count": null,
      "outputs": []
    },
    {
      "cell_type": "code",
      "metadata": {
        "id": "V0yR2cMqdJ9-",
        "colab": {
          "base_uri": "https://localhost:8080/",
          "height": 35
        },
        "outputId": "9a099c38-45f0-41e0-8ea9-670a8991ae22"
      },
      "source": [
        "enghingerman.shape"
      ],
      "execution_count": null,
      "outputs": [
        {
          "output_type": "execute_result",
          "data": {
            "text/plain": [
              "(32680, 2)"
            ]
          },
          "metadata": {
            "tags": []
          },
          "execution_count": 336
        }
      ]
    },
    {
      "cell_type": "markdown",
      "metadata": {
        "id": "oI8wHos83jGe"
      },
      "source": [
        "# FrenEngHinGerman"
      ]
    },
    {
      "cell_type": "markdown",
      "metadata": {
        "id": "1CGntJ7P3nUk"
      },
      "source": [
        "## French"
      ]
    },
    {
      "cell_type": "code",
      "metadata": {
        "id": "84kHUxbO3mdP"
      },
      "source": [
        "eng = pd.read_csv(\"/content/drive/My Drive/Glue Labs/Abuse Model #11 English/train.csv\")\n",
        "eng.drop(['Unnamed: 0'], axis = 1, inplace = True)\n",
        "eng.columns = ['isoffensive', 'text']\n",
        "\n",
        "\n",
        "french = eng.sample(n = 6000)          # Change 'n' as you further train\n",
        "french.index = range(french.shape[0])"
      ],
      "execution_count": null,
      "outputs": []
    },
    {
      "cell_type": "code",
      "metadata": {
        "id": "CWdkHQNOT6H5",
        "colab": {
          "base_uri": "https://localhost:8080/",
          "height": 35
        },
        "outputId": "02390b9d-8719-4353-daf9-38d6b6d6686a"
      },
      "source": [
        "from googletrans import Translator\n",
        "trans = Translator()\n",
        "\n",
        "(trans.translate('i like today', dest = 'fr')).text"
      ],
      "execution_count": null,
      "outputs": [
        {
          "output_type": "execute_result",
          "data": {
            "application/vnd.google.colaboratory.intrinsic+json": {
              "type": "string"
            },
            "text/plain": [
              "\"j'aime aujourd'hui\""
            ]
          },
          "metadata": {
            "tags": []
          },
          "execution_count": 10
        }
      ]
    },
    {
      "cell_type": "code",
      "metadata": {
        "id": "RbsW7VbzURa_"
      },
      "source": [
        "for i in french.index:\n",
        "  text = french['text'].loc[i]\n",
        "  newtext = (trans.translate(text, dest = 'fr')).text\n",
        "  french['text'].loc[i] = newtext"
      ],
      "execution_count": null,
      "outputs": []
    },
    {
      "cell_type": "code",
      "metadata": {
        "id": "A1PkUDDPeuWk"
      },
      "source": [
        "french.to_csv(\"/content/drive/My Drive/Glue Labs/Abuse Model 12/inputs/french.csv\")"
      ],
      "execution_count": null,
      "outputs": []
    },
    {
      "cell_type": "markdown",
      "metadata": {
        "id": "yPJhlFUvBzB2"
      },
      "source": [
        "## Compiling for FrenEngHinGerman"
      ]
    },
    {
      "cell_type": "code",
      "metadata": {
        "id": "dVrRuIheE_Kb"
      },
      "source": [
        "german = pd.read_csv(\"/content/drive/My Drive/Glue Labs/Abuse Model 12/inputs/GERMAN.csv\")\n",
        "french = pd.read_csv(\"/content/drive/My Drive/Glue Labs/Abuse Model 12/inputs/french.csv\")\n",
        "hindi = pd.read_csv(\"/content/drive/My Drive/Glue Labs/Abuse Model 12/inputs/HINDI.csv\")\n",
        "english = pd.read_csv(\"/content/drive/My Drive/Glue Labs/Abuse Model 12/inputs/ENGLISH.csv\")"
      ],
      "execution_count": null,
      "outputs": []
    },
    {
      "cell_type": "code",
      "metadata": {
        "id": "aA9zz1VpByTn"
      },
      "source": [
        "input = pd.concat([german, english, hindi, french], axis = 0)"
      ],
      "execution_count": null,
      "outputs": []
    },
    {
      "cell_type": "code",
      "metadata": {
        "id": "91Ezjf0uF0KA"
      },
      "source": [
        "input = input.sample(n = input.shape[0])\n",
        "input.index = range(input.shape[0])"
      ],
      "execution_count": null,
      "outputs": []
    },
    {
      "cell_type": "code",
      "metadata": {
        "id": "JwpxB8h5GIGC",
        "colab": {
          "base_uri": "https://localhost:8080/",
          "height": 424
        },
        "outputId": "ca946572-990e-49c3-98cd-1c3e3aff3e9c"
      },
      "source": [
        "input\n"
      ],
      "execution_count": null,
      "outputs": [
        {
          "output_type": "execute_result",
          "data": {
            "text/html": [
              "<div>\n",
              "<style scoped>\n",
              "    .dataframe tbody tr th:only-of-type {\n",
              "        vertical-align: middle;\n",
              "    }\n",
              "\n",
              "    .dataframe tbody tr th {\n",
              "        vertical-align: top;\n",
              "    }\n",
              "\n",
              "    .dataframe thead th {\n",
              "        text-align: right;\n",
              "    }\n",
              "</style>\n",
              "<table border=\"1\" class=\"dataframe\">\n",
              "  <thead>\n",
              "    <tr style=\"text-align: right;\">\n",
              "      <th></th>\n",
              "      <th>Unnamed: 0</th>\n",
              "      <th>isoffensive</th>\n",
              "      <th>text</th>\n",
              "      <th>Unnamed: 0.1</th>\n",
              "    </tr>\n",
              "  </thead>\n",
              "  <tbody>\n",
              "    <tr>\n",
              "      <th>0</th>\n",
              "      <td>6357</td>\n",
              "      <td>Yes</td>\n",
              "      <td>damaadji saale gaandu</td>\n",
              "      <td>6357.0</td>\n",
              "    </tr>\n",
              "    <tr>\n",
              "      <th>1</th>\n",
              "      <td>1833</td>\n",
              "      <td>No</td>\n",
              "      <td>everyones back lool this is almost 3 years old...</td>\n",
              "      <td>NaN</td>\n",
              "    </tr>\n",
              "    <tr>\n",
              "      <th>2</th>\n",
              "      <td>11204</td>\n",
              "      <td>Yes</td>\n",
              "      <td>mujhe pata hai ki agara main nae sala taka nah...</td>\n",
              "      <td>NaN</td>\n",
              "    </tr>\n",
              "    <tr>\n",
              "      <th>3</th>\n",
              "      <td>5713</td>\n",
              "      <td>Yes</td>\n",
              "      <td>user oomf pussy probably taste like the krabby...</td>\n",
              "      <td>NaN</td>\n",
              "    </tr>\n",
              "    <tr>\n",
              "      <th>4</th>\n",
              "      <td>3319</td>\n",
              "      <td>Yes</td>\n",
              "      <td>Benutzer diese Hündin hat die iTunes-Nutzungsb...</td>\n",
              "      <td>NaN</td>\n",
              "    </tr>\n",
              "    <tr>\n",
              "      <th>...</th>\n",
              "      <td>...</td>\n",
              "      <td>...</td>\n",
              "      <td>...</td>\n",
              "      <td>...</td>\n",
              "    </tr>\n",
              "    <tr>\n",
              "      <th>35848</th>\n",
              "      <td>13403</td>\n",
              "      <td>Yes</td>\n",
              "      <td>aba apa behosha hone taka pi rahe hain| mujhe ...</td>\n",
              "      <td>NaN</td>\n",
              "    </tr>\n",
              "    <tr>\n",
              "      <th>35849</th>\n",
              "      <td>5266</td>\n",
              "      <td>Yes</td>\n",
              "      <td>ima start friend zoning these hoes</td>\n",
              "      <td>NaN</td>\n",
              "    </tr>\n",
              "    <tr>\n",
              "      <th>35850</th>\n",
              "      <td>5795</td>\n",
              "      <td>Yes</td>\n",
              "      <td>user this bitch just blew my high and i was hi...</td>\n",
              "      <td>NaN</td>\n",
              "    </tr>\n",
              "    <tr>\n",
              "      <th>35851</th>\n",
              "      <td>778</td>\n",
              "      <td>No</td>\n",
              "      <td>user even shorter charlie sheen \"your move, me...</td>\n",
              "      <td>NaN</td>\n",
              "    </tr>\n",
              "    <tr>\n",
              "      <th>35852</th>\n",
              "      <td>5098</td>\n",
              "      <td>No</td>\n",
              "      <td>that's very rude, you on campus?</td>\n",
              "      <td>NaN</td>\n",
              "    </tr>\n",
              "  </tbody>\n",
              "</table>\n",
              "<p>35853 rows × 4 columns</p>\n",
              "</div>"
            ],
            "text/plain": [
              "       Unnamed: 0  ... Unnamed: 0.1\n",
              "0            6357  ...       6357.0\n",
              "1            1833  ...          NaN\n",
              "2           11204  ...          NaN\n",
              "3            5713  ...          NaN\n",
              "4            3319  ...          NaN\n",
              "...           ...  ...          ...\n",
              "35848       13403  ...          NaN\n",
              "35849        5266  ...          NaN\n",
              "35850        5795  ...          NaN\n",
              "35851         778  ...          NaN\n",
              "35852        5098  ...          NaN\n",
              "\n",
              "[35853 rows x 4 columns]"
            ]
          },
          "metadata": {
            "tags": []
          },
          "execution_count": 36
        }
      ]
    },
    {
      "cell_type": "code",
      "metadata": {
        "id": "Pjo7Itt-fAIa"
      },
      "source": [
        "train = input[:28000]\n",
        "valid = input[-7853:]\n",
        "\n",
        "train.to_csv(\"/content/drive/My Drive/Glue Labs/Abuse Model 12/FrenEngHinGerman #3/train.csv\")\n",
        "valid.to_csv(\"/content/drive/My Drive/Glue Labs/Abuse Model 12/FrenEngHinGerman #3/valid.csv\")\n",
        "input.to_csv(\"/content/drive/My Drive/Glue Labs/Abuse Model 12/FrenEngHinGerman #3/input.csv\")\n"
      ],
      "execution_count": null,
      "outputs": []
    },
    {
      "cell_type": "markdown",
      "metadata": {
        "id": "nP7wqk-yInx0"
      },
      "source": [
        "# SpanFrenEngHinGer Model a."
      ]
    },
    {
      "cell_type": "markdown",
      "metadata": {
        "id": "LJ5hwRzBTo0r"
      },
      "source": [
        "## Spanish"
      ]
    },
    {
      "cell_type": "code",
      "metadata": {
        "id": "OVX9uTjUToGs"
      },
      "source": [
        "eng = pd.read_csv(\"/content/drive/My Drive/Glue Labs/Abuse Model #11 English/train.csv\")\n",
        "eng.drop(['Unnamed: 0'], axis = 1, inplace = True)\n",
        "eng.columns = ['isoffensive', 'text']\n",
        "span = eng.sample(n = 6000)                      # Play around with the n.\n",
        "span.index = range(span.shape[0])"
      ],
      "execution_count": null,
      "outputs": []
    },
    {
      "cell_type": "code",
      "metadata": {
        "id": "raJB0bk-UA5L"
      },
      "source": [
        "for i in span.index:\n",
        "  text = span['text'].loc[i]\n",
        "  newtext = (trans.translate(text, src = 'en', dest = 'es')).text\n",
        "  span['text'].loc[i] = newtext"
      ],
      "execution_count": null,
      "outputs": []
    },
    {
      "cell_type": "code",
      "metadata": {
        "id": "LTpu_xu-16qq"
      },
      "source": [
        "span.drop(['Unnamed: 0'], axis = 1, inplace = True)"
      ],
      "execution_count": null,
      "outputs": []
    },
    {
      "cell_type": "code",
      "metadata": {
        "id": "aIKrsaJy0_v9"
      },
      "source": [
        "span.to_csv(\"/content/drive/My Drive/Glue Labs/Abuse Model 12/inputs/SPANISH.csv\")"
      ],
      "execution_count": null,
      "outputs": []
    },
    {
      "cell_type": "markdown",
      "metadata": {
        "id": "XqU8spqrJRdx"
      },
      "source": [
        "## Hindi"
      ]
    },
    {
      "cell_type": "code",
      "metadata": {
        "id": "pKbjLdhTJTwY"
      },
      "source": [
        "eng = pd.read_csv(\"/content/drive/My Drive/Glue Labs/Abuse Model #11 English/train.csv\")\n",
        "eng.drop(['Unnamed: 0'], axis = 1, inplace = True)\n",
        "eng.columns = ['isoffensive', 'text']\n",
        "hind3 = eng.sample(n = 10000)                      # Play around with the n.\n",
        "hind3.index = range(hind2.shape[0])"
      ],
      "execution_count": null,
      "outputs": []
    },
    {
      "cell_type": "code",
      "metadata": {
        "id": "9We7b0pHJTxu"
      },
      "source": [
        "for i in hind3.index:\n",
        "  text = hind3['text'].loc[i]\n",
        "  newtext = (trans.translate(text, src = 'en', dest = 'hi')).text\n",
        "  hind3['text'].loc[i] = newtext"
      ],
      "execution_count": null,
      "outputs": []
    },
    {
      "cell_type": "code",
      "metadata": {
        "id": "bfzbiZTAJTzG"
      },
      "source": [
        "for i in hind3.index:\n",
        "  hind3['text'].loc[i] = translit(hind3['text'].loc[i])"
      ],
      "execution_count": null,
      "outputs": []
    },
    {
      "cell_type": "code",
      "metadata": {
        "id": "f1srXQIRJTz6"
      },
      "source": [
        "for i in hind3.index:\n",
        "  hind3['text'].loc[i] = hindiprepro(hind3['text'].loc[i])"
      ],
      "execution_count": null,
      "outputs": []
    },
    {
      "cell_type": "code",
      "metadata": {
        "id": "snFDe45IVfZ1"
      },
      "source": [
        "hot = pd.read_csv(\"/content/drive/My Drive/Glue Labs/Abuse Model 12/inputs/hinglish/hinglish.csv\")\n",
        "hind = pd.read_csv(\"/content/drive/My Drive/Glue Labs/Abuse Model 12/inputs/hinglish/HIND.csv\")\n",
        "hot.drop(['Unnamed: 0'], axis = 1, inplace = True)"
      ],
      "execution_count": null,
      "outputs": []
    },
    {
      "cell_type": "code",
      "metadata": {
        "id": "8AGWNmYnJT0r"
      },
      "source": [
        "hind = pd.concat([hind, hot, hind3], axis = 0)\n",
        "hind.index = range(hind.shape[0])                 ## pls fix dis"
      ],
      "execution_count": null,
      "outputs": []
    },
    {
      "cell_type": "code",
      "metadata": {
        "id": "XX_tE8ENJT1i"
      },
      "source": [
        "hind.to_csv(\"/content/drive/My Drive/Glue Labs/Abuse Model 12/inputs/HINDI.csv\")   # Here's where you grab the total data"
      ],
      "execution_count": null,
      "outputs": []
    },
    {
      "cell_type": "markdown",
      "metadata": {
        "id": "01N0ok-l1kxx"
      },
      "source": [
        "## Compiling for SpanFrenEngHinGerman"
      ]
    },
    {
      "cell_type": "code",
      "metadata": {
        "id": "PwGAT4ww1kx0"
      },
      "source": [
        "german = pd.read_csv(\"/content/drive/My Drive/Glue Labs/Abuse Model 12/inputs/GERMAN.csv\")\n",
        "french = pd.read_csv(\"/content/drive/My Drive/Glue Labs/Abuse Model 12/inputs/french.csv\")\n",
        "hindi = pd.read_csv(\"/content/drive/My Drive/Glue Labs/Abuse Model 12/inputs/HINDI.csv\")\n",
        "english = pd.read_csv(\"/content/drive/My Drive/Glue Labs/Abuse Model 12/inputs/ENGLISH.csv\")\n",
        "spanish = pd.read_csv(\"/content/drive/My Drive/Glue Labs/Abuse Model 12/inputs/SPANISH.csv\")"
      ],
      "execution_count": null,
      "outputs": []
    },
    {
      "cell_type": "code",
      "metadata": {
        "id": "lp5i41jX119A"
      },
      "source": [
        "french.drop(['Unnamed: 0'], axis = 1, inplace = True)\n",
        "german.drop(['Unnamed: 0'], axis = 1, inplace = True)\n",
        "english.drop(['Unnamed: 0'], axis = 1, inplace = True)\n",
        "spanish.drop(['Unnamed: 0'], axis = 1, inplace = True)\n",
        "hindi.drop(['Unnamed: 0', 'Unnamed: 0.1'], axis = 1, inplace = True)\n"
      ],
      "execution_count": null,
      "outputs": []
    },
    {
      "cell_type": "code",
      "metadata": {
        "id": "OH2ULpUR1kx6"
      },
      "source": [
        "input = pd.concat([german, english, hindi, french, spanish], axis = 0)"
      ],
      "execution_count": null,
      "outputs": []
    },
    {
      "cell_type": "code",
      "metadata": {
        "id": "HQfb_Xxg1kx8"
      },
      "source": [
        "input = input.sample(n = input.shape[0])\n",
        "input.index = range(input.shape[0])"
      ],
      "execution_count": null,
      "outputs": []
    },
    {
      "cell_type": "code",
      "metadata": {
        "id": "Z2ShI6zc1up8",
        "colab": {
          "base_uri": "https://localhost:8080/",
          "height": 415
        },
        "outputId": "2053363f-6b2a-4707-aae6-fcc78b58353a"
      },
      "source": [
        "input"
      ],
      "execution_count": null,
      "outputs": [
        {
          "output_type": "execute_result",
          "data": {
            "text/html": [
              "<div>\n",
              "<style scoped>\n",
              "    .dataframe tbody tr th:only-of-type {\n",
              "        vertical-align: middle;\n",
              "    }\n",
              "\n",
              "    .dataframe tbody tr th {\n",
              "        vertical-align: top;\n",
              "    }\n",
              "\n",
              "    .dataframe thead th {\n",
              "        text-align: right;\n",
              "    }\n",
              "</style>\n",
              "<table border=\"1\" class=\"dataframe\">\n",
              "  <thead>\n",
              "    <tr style=\"text-align: right;\">\n",
              "      <th></th>\n",
              "      <th>isoffensive</th>\n",
              "      <th>text</th>\n",
              "    </tr>\n",
              "  </thead>\n",
              "  <tbody>\n",
              "    <tr>\n",
              "      <th>0</th>\n",
              "      <td>Yes</td>\n",
              "      <td>yo perro azadas no una, sino todas las azadas</td>\n",
              "    </tr>\n",
              "    <tr>\n",
              "      <th>1</th>\n",
              "      <td>Yes</td>\n",
              "      <td>user you will and he's gonna get all dem bitches</td>\n",
              "    </tr>\n",
              "    <tr>\n",
              "      <th>2</th>\n",
              "      <td>No</td>\n",
              "      <td>india chaptain virat kohli bangladesh has play...</td>\n",
              "    </tr>\n",
              "    <tr>\n",
              "      <th>3</th>\n",
              "      <td>Yes</td>\n",
              "      <td>abhisara sara eka bhafava hai jo jaham̐ roti m...</td>\n",
              "    </tr>\n",
              "    <tr>\n",
              "      <th>4</th>\n",
              "      <td>No</td>\n",
              "      <td>user user user would not spend my money on tra...</td>\n",
              "    </tr>\n",
              "    <tr>\n",
              "      <th>...</th>\n",
              "      <td>...</td>\n",
              "      <td>...</td>\n",
              "    </tr>\n",
              "    <tr>\n",
              "      <th>50675</th>\n",
              "      <td>Yes</td>\n",
              "      <td>now i seperate from niggas i don't trust nigga...</td>\n",
              "    </tr>\n",
              "    <tr>\n",
              "      <th>50676</th>\n",
              "      <td>Yes</td>\n",
              "      <td>user can someone show hailie this tweet? bitch...</td>\n",
              "    </tr>\n",
              "    <tr>\n",
              "      <th>50677</th>\n",
              "      <td>Yes</td>\n",
              "      <td>user ya dude get the pussies drunk</td>\n",
              "    </tr>\n",
              "    <tr>\n",
              "      <th>50678</th>\n",
              "      <td>No</td>\n",
              "      <td>but pls dont play in others life.</td>\n",
              "    </tr>\n",
              "    <tr>\n",
              "      <th>50679</th>\n",
              "      <td>Yes</td>\n",
              "      <td>L'utilisateur que ta maman t'a élevé comme une...</td>\n",
              "    </tr>\n",
              "  </tbody>\n",
              "</table>\n",
              "<p>50680 rows × 2 columns</p>\n",
              "</div>"
            ],
            "text/plain": [
              "      isoffensive                                               text\n",
              "0             Yes      yo perro azadas no una, sino todas las azadas\n",
              "1             Yes  user you will and he's gonna get all dem bitches \n",
              "2              No  india chaptain virat kohli bangladesh has play...\n",
              "3             Yes  abhisara sara eka bhafava hai jo jaham̐ roti m...\n",
              "4              No  user user user would not spend my money on tra...\n",
              "...           ...                                                ...\n",
              "50675         Yes  now i seperate from niggas i don't trust nigga...\n",
              "50676         Yes  user can someone show hailie this tweet? bitch...\n",
              "50677         Yes                 user ya dude get the pussies drunk\n",
              "50678          No                  but pls dont play in others life.\n",
              "50679         Yes  L'utilisateur que ta maman t'a élevé comme une...\n",
              "\n",
              "[50680 rows x 2 columns]"
            ]
          },
          "metadata": {
            "tags": []
          },
          "execution_count": 93
        }
      ]
    },
    {
      "cell_type": "markdown",
      "metadata": {
        "id": "rB-XeIuh540W"
      },
      "source": [
        "The dataset above has about 20000+ non-abusive texts, while it also has 30000+ abusive texts."
      ]
    },
    {
      "cell_type": "code",
      "metadata": {
        "id": "ig4fe2Ra1kx_"
      },
      "source": [
        "train = input[:40680]\n",
        "valid = input[-10000:]\n",
        "\n",
        "train.to_csv(\"/content/drive/My Drive/Glue Labs/Abuse Model 12/SpanFrenEngHinGerman #3/train.csv\")\n",
        "valid.to_csv(\"/content/drive/My Drive/Glue Labs/Abuse Model 12/SpanFrenEngHinGerman #3/valid.csv\")\n",
        "input.to_csv(\"/content/drive/My Drive/Glue Labs/Abuse Model 12/SpanFrenEngHinGerman #3/input.csv\")\n"
      ],
      "execution_count": null,
      "outputs": []
    },
    {
      "cell_type": "markdown",
      "metadata": {
        "id": "RPbm3P5VUodS"
      },
      "source": [
        "# TamSpan\n",
        "\n",
        "---\n",
        "\n",
        "Tamil needs improvement"
      ]
    },
    {
      "cell_type": "markdown",
      "metadata": {
        "id": "CqAmr15hbDWQ"
      },
      "source": [
        "##Tamil "
      ]
    },
    {
      "cell_type": "code",
      "metadata": {
        "id": "u2tP4C56baoN"
      },
      "source": [
        "eng = pd.read_csv(\"/content/drive/My Drive/Glue Labs/Abuse Model #11 English/train.csv\")\n",
        "eng.drop(['Unnamed: 0'], axis = 1, inplace = True)\n",
        "eng.columns = ['isoffensive', 'text']\n",
        "tamil = eng.loc[:1000]\n",
        "tamil2 = eng.loc[1000:2000]\n",
        "tamil3 = eng.loc[2000:3000]\n",
        "tamil4 = eng.loc[3000:4000]\n",
        "tamil5 = eng.loc[4000:5000]\n",
        "tamil6 = eng.loc[5000:6000]\n",
        "tamil7 = eng.loc[6000:7000]\n",
        "tamil8 = eng.loc[7000:8000]\n",
        "tamil9 = eng.loc[8000:9000]\n",
        "tamil.index = range(tamil.shape[0])"
      ],
      "execution_count": null,
      "outputs": []
    },
    {
      "cell_type": "code",
      "metadata": {
        "id": "01slelNobapm",
        "colab": {
          "base_uri": "https://localhost:8080/",
          "height": 104
        },
        "outputId": "bad33660-ba97-4103-bfb9-491fa0e21456"
      },
      "source": [
        "for i in tamil.index:\n",
        "  text = tamil['text'].loc[i]\n",
        "  newtext = trans.translate(text, src = 'en', dest = 'ta')\n",
        "  tamil['text'].loc[i] = newtext.text"
      ],
      "execution_count": null,
      "outputs": [
        {
          "output_type": "stream",
          "text": [
            "/usr/local/lib/python3.6/dist-packages/ipykernel_launcher.py:4: SettingWithCopyWarning: \n",
            "A value is trying to be set on a copy of a slice from a DataFrame\n",
            "\n",
            "See the caveats in the documentation: https://pandas.pydata.org/pandas-docs/stable/user_guide/indexing.html#returning-a-view-versus-a-copy\n",
            "  after removing the cwd from sys.path.\n"
          ],
          "name": "stderr"
        }
      ]
    },
    {
      "cell_type": "code",
      "metadata": {
        "id": "phGHbpU8tIV-"
      },
      "source": [
        "tamil2 = tamil2.dropna()"
      ],
      "execution_count": null,
      "outputs": []
    },
    {
      "cell_type": "code",
      "metadata": {
        "id": "GUj2AsGDrGji",
        "colab": {
          "base_uri": "https://localhost:8080/",
          "height": 104
        },
        "outputId": "67730f26-42c5-4470-b9c0-c1c712781cde"
      },
      "source": [
        "for i in tamil2.index:\n",
        "  text = tamil2['text'].loc[i]\n",
        "  newtext = trans.translate(text, src = 'en', dest = 'ta')\n",
        "  tamil2['text'].loc[i] = newtext.text"
      ],
      "execution_count": null,
      "outputs": [
        {
          "output_type": "stream",
          "text": [
            "/usr/local/lib/python3.6/dist-packages/ipykernel_launcher.py:4: SettingWithCopyWarning: \n",
            "A value is trying to be set on a copy of a slice from a DataFrame\n",
            "\n",
            "See the caveats in the documentation: https://pandas.pydata.org/pandas-docs/stable/user_guide/indexing.html#returning-a-view-versus-a-copy\n",
            "  after removing the cwd from sys.path.\n"
          ],
          "name": "stderr"
        }
      ]
    },
    {
      "cell_type": "code",
      "metadata": {
        "id": "tqlygHtsrGbS"
      },
      "source": [
        "tamil3 = tamil3.dropna()\n",
        "\n",
        "for i in tamil3.index:\n",
        "  text = tamil3['text'].loc[i]\n",
        "  newtext = trans.translate(text, src = 'en', dest = 'ta')\n",
        "  tamil3['text'].loc[i] = newtext.text"
      ],
      "execution_count": null,
      "outputs": []
    },
    {
      "cell_type": "code",
      "metadata": {
        "id": "rbO9LfOlwVEF"
      },
      "source": [
        "tamil4 = tamil4.dropna()\n",
        "tamil5 = tamil5.dropna()\n",
        "tamil6 = tamil6.dropna()\n",
        "tamil7 = tamil7.dropna()\n",
        "tamil8 = tamil8.dropna()\n",
        "tamil9 = tamil9.dropna()\n"
      ],
      "execution_count": null,
      "outputs": []
    },
    {
      "cell_type": "code",
      "metadata": {
        "id": "pMjxvniQrGVi"
      },
      "source": [
        "for i in tamil4.index:\n",
        "  text = tamil4['text'].loc[i]\n",
        "  newtext = trans.translate(text, src = 'en', dest = 'ta')\n",
        "  tamil4['text'].loc[i] = newtext.text"
      ],
      "execution_count": null,
      "outputs": []
    },
    {
      "cell_type": "code",
      "metadata": {
        "id": "X6ui5bnKrGOx"
      },
      "source": [
        "for i in tamil5.index:\n",
        "  text = tamil5['text'].loc[i]\n",
        "  newtext = trans.translate(text, src = 'en', dest = 'ta')\n",
        "  tamil5['text'].loc[i] = newtext.text"
      ],
      "execution_count": null,
      "outputs": []
    },
    {
      "cell_type": "code",
      "metadata": {
        "id": "Ol3uwfhGrGJ_"
      },
      "source": [
        "for i in tamil6.index:\n",
        "  text = tamil6['text'].loc[i]\n",
        "  newtext = trans.translate(text, src = 'en', dest = 'ta')\n",
        "  tamil6['text'].loc[i] = newtext.text"
      ],
      "execution_count": null,
      "outputs": []
    },
    {
      "cell_type": "code",
      "metadata": {
        "id": "rgv1-1xprGFE"
      },
      "source": [
        "for i in tamil7.index:\n",
        "  text = tamil7['text'].loc[i]\n",
        "  newtext = trans.translate(text, src = 'en', dest = 'ta')\n",
        "  tamil7['text'].loc[i] = newtext.text"
      ],
      "execution_count": null,
      "outputs": []
    },
    {
      "cell_type": "code",
      "metadata": {
        "id": "zlm5D25PrF-w"
      },
      "source": [
        "for i in tamil8.index:\n",
        "  text = tamil8['text'].loc[i]\n",
        "  newtext = trans.translate(text, src = 'en', dest = 'ta')\n",
        "  tamil8['text'].loc[i] = newtext.text"
      ],
      "execution_count": null,
      "outputs": []
    },
    {
      "cell_type": "code",
      "metadata": {
        "id": "-Mb-fbsJrF4E"
      },
      "source": [
        "for i in tamil9.index:\n",
        "  text = tamil9['text'].loc[i]\n",
        "  newtext = trans.translate(text, src = 'en', dest = 'ta')\n",
        "  tamil9['text'].loc[i] = newtext.text"
      ],
      "execution_count": null,
      "outputs": []
    },
    {
      "cell_type": "code",
      "metadata": {
        "id": "xpNdzx41jKMV"
      },
      "source": [
        "tamil = pd.concat([tamil, tamil2, tamil3, tamil4, tamil5, tamil6, tamil7, tamil8, tamil9], axis = 0)"
      ],
      "execution_count": null,
      "outputs": []
    },
    {
      "cell_type": "code",
      "metadata": {
        "id": "nG0IDJMs3qXJ"
      },
      "source": [
        "tamil.index = range(tamil.shape[0])"
      ],
      "execution_count": null,
      "outputs": []
    },
    {
      "cell_type": "code",
      "metadata": {
        "id": "7DjbYR0slIoW"
      },
      "source": [
        "from indic_transliteration import sanscript, detect\n",
        "from indic_transliteration.sanscript import SchemeMap, SCHEMES, transliterate\n",
        "\n",
        "def translittamil(text):\n",
        "  newtext = transliterate(text, sanscript.TAMIL, sanscript.IAST)\n",
        "  return newtext.lower()"
      ],
      "execution_count": null,
      "outputs": []
    },
    {
      "cell_type": "code",
      "metadata": {
        "id": "sjNjU8_MlIpz"
      },
      "source": [
        "originaltamil = tamil.copy()\n",
        "\n",
        "for i in tamil.index:\n",
        "  tamil['text'].loc[i] = translittamil(tamil['text'].loc[i])"
      ],
      "execution_count": null,
      "outputs": []
    },
    {
      "cell_type": "code",
      "metadata": {
        "id": "HErXEgmK42lb"
      },
      "source": [
        "import re\n",
        "\n",
        "def hindiprepro(text):\n",
        "  a = re.sub('ī', 'i', text)\n",
        "  b = re.sub('ā', 'a', a)\n",
        "  c = re.sub('ṃ', 'n', b)\n",
        "  d = re.sub('ś', 'sh', c)\n",
        "  e = re.sub('|', '', d)\n",
        "  f = re.sub('cā', 'ka', e)\n",
        "  g = re.sub('  ', ' ', f)\n",
        "  h = re.sub('#', '', g)\n",
        "  i = re.sub('ū', 'u', h)\n",
        "  j = re.sub('ḍ', 'd', i)\n",
        "  k = re.sub('a़', 'a', j)\n",
        "  l = re.sub('ṭ', 't', k)\n",
        "  m = re.sub('-', '', l)\n",
        "  n = re.sub('c', 'ch', m)\n",
        "  o = re.sub('ṣaṇa', 'sh', n)\n",
        "  return o.lower()"
      ],
      "execution_count": null,
      "outputs": []
    },
    {
      "cell_type": "code",
      "metadata": {
        "id": "N7n9ohl547xG"
      },
      "source": [
        "for i in tamil.index:\n",
        "  tamil['text'].loc[i] = hindiprepro(tamil['text'].loc[i])"
      ],
      "execution_count": null,
      "outputs": []
    },
    {
      "cell_type": "code",
      "metadata": {
        "id": "9KlGmA0g5EyB",
        "colab": {
          "base_uri": "https://localhost:8080/",
          "height": 424
        },
        "outputId": "4fa80af6-d8c3-44e9-f4de-465c2be968a2"
      },
      "source": [
        "tamil"
      ],
      "execution_count": null,
      "outputs": [
        {
          "output_type": "execute_result",
          "data": {
            "text/html": [
              "<div>\n",
              "<style scoped>\n",
              "    .dataframe tbody tr th:only-of-type {\n",
              "        vertical-align: middle;\n",
              "    }\n",
              "\n",
              "    .dataframe tbody tr th {\n",
              "        vertical-align: top;\n",
              "    }\n",
              "\n",
              "    .dataframe thead th {\n",
              "        text-align: right;\n",
              "    }\n",
              "</style>\n",
              "<table border=\"1\" class=\"dataframe\">\n",
              "  <thead>\n",
              "    <tr style=\"text-align: right;\">\n",
              "      <th></th>\n",
              "      <th>isoffensive</th>\n",
              "      <th>text</th>\n",
              "    </tr>\n",
              "  </thead>\n",
              "  <tbody>\n",
              "    <tr>\n",
              "      <th>0</th>\n",
              "      <td>Yes</td>\n",
              "      <td>user follow my dog.. he has over k bitchhes us...</td>\n",
              "    </tr>\n",
              "    <tr>\n",
              "      <th>1</th>\n",
              "      <td>Yes</td>\n",
              "      <td>mighavun oriṉa jherghghaiyaḻaragha iṛndha bhay...</td>\n",
              "    </tr>\n",
              "    <tr>\n",
              "      <th>2</th>\n",
              "      <td>Yes</td>\n",
              "      <td>alibhabha / jagh ma ghodhdha ôṛ bhaiyaṉai nejh...</td>\n",
              "    </tr>\n",
              "    <tr>\n",
              "      <th>3</th>\n",
              "      <td>No</td>\n",
              "      <td>user user user it's a mutation. genealogy is c...</td>\n",
              "    </tr>\n",
              "    <tr>\n",
              "      <th>4</th>\n",
              "      <td>Yes</td>\n",
              "      <td>ladhdhari bhoṉr̂a indha maṇvêdhdhighaḻai viḻai...</td>\n",
              "    </tr>\n",
              "    <tr>\n",
              "      <th>...</th>\n",
              "      <td>...</td>\n",
              "      <td>...</td>\n",
              "    </tr>\n",
              "    <tr>\n",
              "      <th>9003</th>\n",
              "      <td>No</td>\n",
              "      <td>user mochk draft?</td>\n",
              "    </tr>\n",
              "    <tr>\n",
              "      <th>9004</th>\n",
              "      <td>Yes</td>\n",
              "      <td>êṉ dhôlaibhejhi eṉ ôṛ bhijh</td>\n",
              "    </tr>\n",
              "    <tr>\n",
              "      <th>9005</th>\n",
              "      <td>Yes</td>\n",
              "      <td>êṉ bhidhjhughaḻiliṛndhu nirvaṇaṅghaḻaibh bhêr̂...</td>\n",
              "    </tr>\n",
              "    <tr>\n",
              "      <th>9006</th>\n",
              "      <td>Yes</td>\n",
              "      <td>bhayaṉar hus indha nadhghaḻil iṇaibhbhu bhoṉr̂...</td>\n",
              "    </tr>\n",
              "    <tr>\n",
              "      <th>9007</th>\n",
              "      <td>No</td>\n",
              "      <td>user rape? channibalism? you won't rechognize ...</td>\n",
              "    </tr>\n",
              "  </tbody>\n",
              "</table>\n",
              "<p>9008 rows × 2 columns</p>\n",
              "</div>"
            ],
            "text/plain": [
              "     isoffensive                                               text\n",
              "0            Yes  user follow my dog.. he has over k bitchhes us...\n",
              "1            Yes  mighavun oriṉa jherghghaiyaḻaragha iṛndha bhay...\n",
              "2            Yes  alibhabha / jagh ma ghodhdha ôṛ bhaiyaṉai nejh...\n",
              "3             No  user user user it's a mutation. genealogy is c...\n",
              "4            Yes  ladhdhari bhoṉr̂a indha maṇvêdhdhighaḻai viḻai...\n",
              "...          ...                                                ...\n",
              "9003          No                                  user mochk draft?\n",
              "9004         Yes                        êṉ dhôlaibhejhi eṉ ôṛ bhijh\n",
              "9005         Yes  êṉ bhidhjhughaḻiliṛndhu nirvaṇaṅghaḻaibh bhêr̂...\n",
              "9006         Yes  bhayaṉar hus indha nadhghaḻil iṇaibhbhu bhoṉr̂...\n",
              "9007          No  user rape? channibalism? you won't rechognize ...\n",
              "\n",
              "[9008 rows x 2 columns]"
            ]
          },
          "metadata": {
            "tags": []
          },
          "execution_count": 50
        }
      ]
    },
    {
      "cell_type": "code",
      "metadata": {
        "id": "htN93xN6t3nM"
      },
      "source": [
        "tamil.to_csv(\"/content/drive/My Drive/Glue Labs/Abuse Model 12/inputs/tamil.csv\")"
      ],
      "execution_count": null,
      "outputs": []
    },
    {
      "cell_type": "markdown",
      "metadata": {
        "id": "AzU2W9A19XYw"
      },
      "source": [
        "## Compiling for TamSpan"
      ]
    },
    {
      "cell_type": "code",
      "metadata": {
        "id": "ZmuNWLDp9s3S"
      },
      "source": [
        "german = pd.read_csv(\"/content/drive/My Drive/Glue Labs/Abuse Model 12/inputs/GERMAN.csv\")\n",
        "french = pd.read_csv(\"/content/drive/My Drive/Glue Labs/Abuse Model 12/inputs/french.csv\")\n",
        "hindi = pd.read_csv(\"/content/drive/My Drive/Glue Labs/Abuse Model 12/inputs/HINDI.csv\")\n",
        "english = pd.read_csv(\"/content/drive/My Drive/Glue Labs/Abuse Model 12/inputs/ENGLISH.csv\")\n",
        "spanish = pd.read_csv(\"/content/drive/My Drive/Glue Labs/Abuse Model 12/inputs/SPANISH.csv\")\n",
        "tamil = pd.read_csv(\"/content/drive/My Drive/Glue Labs/Abuse Model 12/inputs/tamil.csv\")"
      ],
      "execution_count": null,
      "outputs": []
    },
    {
      "cell_type": "code",
      "metadata": {
        "id": "fBg2QZg79s3b"
      },
      "source": [
        "french.drop(['Unnamed: 0'], axis = 1, inplace = True)\n",
        "german.drop(['Unnamed: 0'], axis = 1, inplace = True)\n",
        "english.drop(['Unnamed: 0'], axis = 1, inplace = True)\n",
        "spanish.drop(['Unnamed: 0'], axis = 1, inplace = True)\n",
        "hindi.drop(['Unnamed: 0', 'Unnamed: 0.1'], axis = 1, inplace = True)\n",
        "tamil.drop(['Unnamed: 0'], axis = 1, inplace = True)\n"
      ],
      "execution_count": null,
      "outputs": []
    },
    {
      "cell_type": "code",
      "metadata": {
        "id": "3OAsh_ae9s3e"
      },
      "source": [
        "input = pd.concat([german, english, hindi, french, spanish, tamil], axis = 0)"
      ],
      "execution_count": null,
      "outputs": []
    },
    {
      "cell_type": "code",
      "metadata": {
        "id": "7RRUxSeR9s3h"
      },
      "source": [
        "input = input.sample(n = input.shape[0])\n",
        "input.index = range(input.shape[0])"
      ],
      "execution_count": null,
      "outputs": []
    },
    {
      "cell_type": "code",
      "metadata": {
        "id": "JXoNnUcZ9-sS"
      },
      "source": [
        "input = input.dropna()"
      ],
      "execution_count": null,
      "outputs": []
    },
    {
      "cell_type": "code",
      "metadata": {
        "id": "CSDS4eZU-ZM-",
        "colab": {
          "base_uri": "https://localhost:8080/",
          "height": 415
        },
        "outputId": "6e23fa39-451d-4b11-d051-51795efb9462"
      },
      "source": [
        "input"
      ],
      "execution_count": null,
      "outputs": [
        {
          "output_type": "execute_result",
          "data": {
            "text/html": [
              "<div>\n",
              "<style scoped>\n",
              "    .dataframe tbody tr th:only-of-type {\n",
              "        vertical-align: middle;\n",
              "    }\n",
              "\n",
              "    .dataframe tbody tr th {\n",
              "        vertical-align: top;\n",
              "    }\n",
              "\n",
              "    .dataframe thead th {\n",
              "        text-align: right;\n",
              "    }\n",
              "</style>\n",
              "<table border=\"1\" class=\"dataframe\">\n",
              "  <thead>\n",
              "    <tr style=\"text-align: right;\">\n",
              "      <th></th>\n",
              "      <th>isoffensive</th>\n",
              "      <th>text</th>\n",
              "    </tr>\n",
              "  </thead>\n",
              "  <tbody>\n",
              "    <tr>\n",
              "      <th>0</th>\n",
              "      <td>No</td>\n",
              "      <td>eka aura muslima shakhsa ka moba linchinga, jh...</td>\n",
              "    </tr>\n",
              "    <tr>\n",
              "      <th>1</th>\n",
              "      <td>No</td>\n",
              "      <td>apane pita daॉ vakaara ahamada shaha sahaba ke...</td>\n",
              "    </tr>\n",
              "    <tr>\n",
              "      <th>2</th>\n",
              "      <td>No</td>\n",
              "      <td>user i drowning in my own tears link</td>\n",
              "    </tr>\n",
              "    <tr>\n",
              "      <th>3</th>\n",
              "      <td>Yes</td>\n",
              "      <td>' if this ugly ass niggah can be with her , i ...</td>\n",
              "    </tr>\n",
              "    <tr>\n",
              "      <th>4</th>\n",
              "      <td>Yes</td>\n",
              "      <td>bhayaṉar niṅghaḻ bhughaibhidhighghun</td>\n",
              "    </tr>\n",
              "    <tr>\n",
              "      <th>...</th>\n",
              "      <td>...</td>\n",
              "      <td>...</td>\n",
              "    </tr>\n",
              "    <tr>\n",
              "      <th>59683</th>\n",
              "      <td>Yes</td>\n",
              "      <td>user das ist die stadt mit der armlänge.... lb...</td>\n",
              "    </tr>\n",
              "    <tr>\n",
              "      <th>59684</th>\n",
              "      <td>No</td>\n",
              "      <td>apana dila apani tabahi ka sababa hota hai.. y...</td>\n",
              "    </tr>\n",
              "    <tr>\n",
              "      <th>59685</th>\n",
              "      <td>Yes</td>\n",
              "      <td>user i'm convinced that some of y'all bitches ...</td>\n",
              "    </tr>\n",
              "    <tr>\n",
              "      <th>59686</th>\n",
              "      <td>Yes</td>\n",
              "      <td>sacha sunate hi kutte ki taraha duma dabakara ...</td>\n",
              "    </tr>\n",
              "    <tr>\n",
              "      <th>59687</th>\n",
              "      <td>Yes</td>\n",
              "      <td>usuario cuando bae canta \"no hay nada para cor...</td>\n",
              "    </tr>\n",
              "  </tbody>\n",
              "</table>\n",
              "<p>59682 rows × 2 columns</p>\n",
              "</div>"
            ],
            "text/plain": [
              "      isoffensive                                               text\n",
              "0              No  eka aura muslima shakhsa ka moba linchinga, jh...\n",
              "1              No  apane pita daॉ vakaara ahamada shaha sahaba ke...\n",
              "2              No               user i drowning in my own tears link\n",
              "3             Yes  ' if this ugly ass niggah can be with her , i ...\n",
              "4             Yes               bhayaṉar niṅghaḻ bhughaibhidhighghun\n",
              "...           ...                                                ...\n",
              "59683         Yes  user das ist die stadt mit der armlänge.... lb...\n",
              "59684          No  apana dila apani tabahi ka sababa hota hai.. y...\n",
              "59685         Yes  user i'm convinced that some of y'all bitches ...\n",
              "59686         Yes  sacha sunate hi kutte ki taraha duma dabakara ...\n",
              "59687         Yes  usuario cuando bae canta \"no hay nada para cor...\n",
              "\n",
              "[59682 rows x 2 columns]"
            ]
          },
          "metadata": {
            "tags": []
          },
          "execution_count": 61
        }
      ]
    },
    {
      "cell_type": "code",
      "metadata": {
        "id": "rFtbhehB9s3j"
      },
      "source": [
        "train = input[:50000]\n",
        "valid = input[-9682:]\n",
        "\n",
        "train.to_csv(\"/content/drive/My Drive/Glue Labs/Abuse Model 12/TanSpanFrenEngHinGer #5/train.csv\")\n",
        "valid.to_csv(\"/content/drive/My Drive/Glue Labs/Abuse Model 12/TanSpanFrenEngHinGer #5/valid.csv\")\n",
        "input.to_csv(\"/content/drive/My Drive/Glue Labs/Abuse Model 12/TanSpanFrenEngHinGer #5/input.csv\")\n"
      ],
      "execution_count": null,
      "outputs": []
    },
    {
      "cell_type": "markdown",
      "metadata": {
        "id": "Mqec5hWtkrkU"
      },
      "source": [
        "## Korean\n",
        "---\n",
        "Got this data through the folowing repository: https://github.com/kocohub/korean-hate-speech/tree/master/labeled"
      ]
    },
    {
      "cell_type": "markdown",
      "metadata": {
        "id": "Rp5m4bZLUxWo"
      },
      "source": [
        "This model will be able to predict on Tamil, Spanish, French, English, Hinglish and German."
      ]
    },
    {
      "cell_type": "code",
      "metadata": {
        "id": "LofB2GO_HNae"
      },
      "source": [
        "!pip install korean_romanizer"
      ],
      "execution_count": null,
      "outputs": []
    },
    {
      "cell_type": "code",
      "metadata": {
        "id": "Zc5UQ775tULt"
      },
      "source": [
        "!wget https://raw.githubusercontent.com/kocohub/korean-hate-speech/master/labeled/train.tsv\n",
        "\n",
        "korean = pd.read_csv(\"/content/train.tsv\", sep= '\\t')\n",
        "korean = pd.concat([korean['hate'], korean['comments']], axis = 1)"
      ],
      "execution_count": null,
      "outputs": []
    },
    {
      "cell_type": "code",
      "metadata": {
        "id": "NgNLc8JnGWTO"
      },
      "source": [
        "for i in korean[korean['hate'] == 'hate'].index:\n",
        "  korean.hate.loc[i] = 'Yes'\n",
        "\n",
        "for i in korean[korean['hate'] == 'none'].index:\n",
        "  korean.hate.loc[i] = 'No'  "
      ],
      "execution_count": null,
      "outputs": []
    },
    {
      "cell_type": "code",
      "metadata": {
        "id": "iZvXIW6LHDbu"
      },
      "source": [
        "from korean_romanizer.romanizer import Romanizer\n",
        "\n",
        "def kor2roman(text):\n",
        "  r = Romanizer(text)\n",
        "  roman = r.romanize() \n",
        "  return roman\n"
      ],
      "execution_count": null,
      "outputs": []
    },
    {
      "cell_type": "code",
      "metadata": {
        "id": "HUzrflq7Gc1e"
      },
      "source": [
        "for i in korean.index"
      ],
      "execution_count": null,
      "outputs": []
    },
    {
      "cell_type": "markdown",
      "metadata": {
        "id": "NfcNDJhShmlq"
      },
      "source": [
        "#Final Model a."
      ]
    },
    {
      "cell_type": "markdown",
      "metadata": {
        "id": "ryM6wCF8nbMa"
      },
      "source": [
        "## French"
      ]
    },
    {
      "cell_type": "code",
      "metadata": {
        "id": "cS_FhXlxn5q7"
      },
      "source": [
        ""
      ],
      "execution_count": null,
      "outputs": []
    },
    {
      "cell_type": "markdown",
      "metadata": {
        "id": "IFBx_LvthjnG"
      },
      "source": [
        "## Spanish"
      ]
    },
    {
      "cell_type": "code",
      "metadata": {
        "id": "edr35A2VhVOx",
        "colab": {
          "base_uri": "https://localhost:8080/"
        },
        "outputId": "cac90a43-6558-4594-d74a-e6fbe4d7333c"
      },
      "source": [
        "cleanspanish = convert2(eng2, eng2.index, 'es')"
      ],
      "execution_count": null,
      "outputs": [
        {
          "output_type": "stream",
          "text": [
            "/usr/local/lib/python3.6/dist-packages/pandas/core/indexing.py:670: SettingWithCopyWarning: \n",
            "A value is trying to be set on a copy of a slice from a DataFrame\n",
            "\n",
            "See the caveats in the documentation: https://pandas.pydata.org/pandas-docs/stable/user_guide/indexing.html#returning-a-view-versus-a-copy\n",
            "  iloc._setitem_with_indexer(indexer, value)\n"
          ],
          "name": "stderr"
        }
      ]
    },
    {
      "cell_type": "code",
      "metadata": {
        "id": "Va_wNk7Ihz7u"
      },
      "source": [
        "def addnewdata(nodataset, yesdataset):\n",
        "  \n",
        "  yesdata = yesdataset[yesdataset['isoffensive'] == 'Yes']\n",
        "\n",
        "  data = pd.concat([nodataset, yesdata], axis = 0)\n",
        "  data = data.sample(n = data.shape[0])\n",
        "  data.index = range(data.shape[0])\n",
        "  return data"
      ],
      "execution_count": null,
      "outputs": []
    },
    {
      "cell_type": "code",
      "metadata": {
        "id": "sGwN4KrYhz74",
        "colab": {
          "base_uri": "https://localhost:8080/"
        },
        "outputId": "be3b6905-b062-4b87-d11b-5335865467d5"
      },
      "source": [
        "spanish = pd.read_csv(\"/content/drive/My Drive/Glue Labs/Abuse Model 12/inputs/spanish.csv\")\n",
        "spanish.drop(['Unnamed: 0'], axis = 1, inplace = True)\n",
        "spanish = addnewdata(cleanspanish, spanish)\n",
        "spanish.shape"
      ],
      "execution_count": null,
      "outputs": [
        {
          "output_type": "execute_result",
          "data": {
            "text/plain": [
              "(11964, 3)"
            ]
          },
          "metadata": {
            "tags": []
          },
          "execution_count": 10
        }
      ]
    },
    {
      "cell_type": "code",
      "metadata": {
        "id": "Zfwcxoeihz7-"
      },
      "source": [
        "spanish.to_csv(\"/content/drive/My Drive/Glue Labs/Abuse Model 12/inputs/malayalam.csv\")"
      ],
      "execution_count": null,
      "outputs": []
    },
    {
      "cell_type": "markdown",
      "metadata": {
        "id": "cgn7gHXC3lkY"
      },
      "source": [
        "## English\n"
      ]
    },
    {
      "cell_type": "code",
      "metadata": {
        "id": "FkMfJRJQ3og_"
      },
      "source": [
        "reddit = praw.Reddit(client_id = 'bpbCjQVOP9_6_w', client_secret = '8fG58nA_SmtIZTiRk_lyAHuSKmQ',\n",
        "                     user_agent = 'GlueLabs')"
      ],
      "execution_count": null,
      "outputs": []
    },
    {
      "cell_type": "code",
      "metadata": {
        "id": "0yoAfGzt5y21"
      },
      "source": [
        "# Defining a function that gets text from reddit and provides us with a DataFrame:\n",
        "def getred(text):\n",
        "  subreddit = []\n",
        "  posts = reddit.subreddit(text).top(limit = 1000)\n",
        "  for post in posts:\n",
        "    subreddit.append(post.title)\n",
        "\n",
        "  # Producing a list of annotations:\n",
        "  isoffensive = ['No']*1000\n",
        "  \n",
        "  # Making the DataFrames that will be concatenated:\n",
        "  subreddit = pd.DataFrame(subreddit, columns = ['text'])\n",
        "  isoffensive = pd.DataFrame(isoffensive, columns = ['isoffensive'])\n",
        "\n",
        "  data = pd.concat([isoffensive, subreddit], axis = 1)\n",
        "  data = data.dropna()\n",
        "  return data"
      ],
      "execution_count": null,
      "outputs": []
    },
    {
      "cell_type": "code",
      "metadata": {
        "id": "ERHZTsNJ5yzl"
      },
      "source": [
        "business = getred('Business')"
      ],
      "execution_count": null,
      "outputs": []
    },
    {
      "cell_type": "code",
      "metadata": {
        "id": "85krI-uw5yye"
      },
      "source": [
        "entrepreneur = getred('Entrepreneur')"
      ],
      "execution_count": null,
      "outputs": []
    },
    {
      "cell_type": "code",
      "metadata": {
        "id": "xLMtm8L15yvG"
      },
      "source": [
        "LPT = getred('LifeProTips')\n",
        "for i in LPT.index:\n",
        "  LPT.text.loc[i] = re.sub('LPT: ', '', LPT.text.loc[i])"
      ],
      "execution_count": null,
      "outputs": []
    },
    {
      "cell_type": "code",
      "metadata": {
        "id": "gOv94mfj5ytK"
      },
      "source": [
        "cleanjokes = getred('CleanJokes')"
      ],
      "execution_count": null,
      "outputs": []
    },
    {
      "cell_type": "code",
      "metadata": {
        "id": "jR73MjDl5yrG"
      },
      "source": [
        "startup = getred('startups')"
      ],
      "execution_count": null,
      "outputs": []
    },
    {
      "cell_type": "code",
      "metadata": {
        "id": "--MUQASs5yoK"
      },
      "source": [
        "sb = getred('smallbusiness')"
      ],
      "execution_count": null,
      "outputs": []
    },
    {
      "cell_type": "code",
      "metadata": {
        "id": "S31Iy2vP5yl2",
        "colab": {
          "base_uri": "https://localhost:8080/",
          "height": 34
        },
        "outputId": "d33f5b78-671c-42d0-c1db-8eb2b4dc34c6"
      },
      "source": [
        "sb.shape"
      ],
      "execution_count": null,
      "outputs": [
        {
          "output_type": "execute_result",
          "data": {
            "text/plain": [
              "(998, 2)"
            ]
          },
          "metadata": {
            "tags": []
          },
          "execution_count": 14
        }
      ]
    },
    {
      "cell_type": "code",
      "metadata": {
        "id": "4sqLEQY15ygk"
      },
      "source": [
        "econ = getred('Economics')"
      ],
      "execution_count": null,
      "outputs": []
    },
    {
      "cell_type": "code",
      "metadata": {
        "id": "jj6Sol9Rv1ug"
      },
      "source": [
        "iwtl = getred('IWantToLearn')\n",
        "\n",
        "for i in iwtl.index:\n",
        "  iwtl.text.loc[i] = re.sub(\"IWTL\", \"\", iwtl.text.loc[i])"
      ],
      "execution_count": null,
      "outputs": []
    },
    {
      "cell_type": "code",
      "metadata": {
        "id": "3VIFZlWjv1kG"
      },
      "source": [
        "# Combining the DataFrames to form a major one:\n",
        "eng2 = pd.concat([iwtl, econ, sb, startup, cleanjokes, LPT, entrepreneur, business], axis = 0)"
      ],
      "execution_count": null,
      "outputs": []
    },
    {
      "cell_type": "code",
      "metadata": {
        "id": "XgVvY52y2LLq"
      },
      "source": [
        "#eng2.to_csv(\"/content/drive/My Drive/Glue Labs/Data-Abuse/eng2.csv\")\n",
        "eng2 = pd.read_csv(\"/content/drive/My Drive/Glue Labs/Data-Abuse/eng2.csv\")"
      ],
      "execution_count": null,
      "outputs": []
    },
    {
      "cell_type": "code",
      "metadata": {
        "id": "_kEvm1pUxk_s"
      },
      "source": [
        "def convert2(dataset, index, dest):\n",
        "  for i in index:\n",
        "    text = dataset.text.loc[i]\n",
        "    translation = trans.translate(text, dest = dest)\n",
        "    dataset.text.loc[i] = translation.pronunciation\n",
        "  return dataset"
      ],
      "execution_count": null,
      "outputs": []
    },
    {
      "cell_type": "code",
      "metadata": {
        "id": "VA7o-n9A65pc",
        "colab": {
          "base_uri": "https://localhost:8080/",
          "height": 124
        },
        "outputId": "624c9d19-829e-43d4-c4ef-b9aa4ee21ebb"
      },
      "source": [
        "cleanhindi = convert2(eng2, eng2.index, 'hi')"
      ],
      "execution_count": null,
      "outputs": [
        {
          "output_type": "stream",
          "text": [
            "/usr/local/lib/python3.6/dist-packages/pandas/core/indexing.py:670: SettingWithCopyWarning: \n",
            "A value is trying to be set on a copy of a slice from a DataFrame\n",
            "\n",
            "See the caveats in the documentation: https://pandas.pydata.org/pandas-docs/stable/user_guide/indexing.html#returning-a-view-versus-a-copy\n",
            "  iloc._setitem_with_indexer(indexer, value)\n"
          ],
          "name": "stderr"
        }
      ]
    },
    {
      "cell_type": "code",
      "metadata": {
        "id": "LuGf8BhIASiD",
        "colab": {
          "base_uri": "https://localhost:8080/",
          "height": 424
        },
        "outputId": "46450b60-0476-4e66-b571-49db884709e2"
      },
      "source": [
        "cleanhindi"
      ],
      "execution_count": null,
      "outputs": [
        {
          "output_type": "execute_result",
          "data": {
            "text/html": [
              "<div>\n",
              "<style scoped>\n",
              "    .dataframe tbody tr th:only-of-type {\n",
              "        vertical-align: middle;\n",
              "    }\n",
              "\n",
              "    .dataframe tbody tr th {\n",
              "        vertical-align: top;\n",
              "    }\n",
              "\n",
              "    .dataframe thead th {\n",
              "        text-align: right;\n",
              "    }\n",
              "</style>\n",
              "<table border=\"1\" class=\"dataframe\">\n",
              "  <thead>\n",
              "    <tr style=\"text-align: right;\">\n",
              "      <th></th>\n",
              "      <th>Unnamed: 0</th>\n",
              "      <th>isoffensive</th>\n",
              "      <th>text</th>\n",
              "    </tr>\n",
              "  </thead>\n",
              "  <tbody>\n",
              "    <tr>\n",
              "      <th>0</th>\n",
              "      <td>0</td>\n",
              "      <td>No</td>\n",
              "      <td>yukti: yadi aap nahin jaanate ki kahaan se shu...</td>\n",
              "    </tr>\n",
              "    <tr>\n",
              "      <th>1</th>\n",
              "      <td>1</td>\n",
              "      <td>No</td>\n",
              "      <td>main seekhana chaahata hoon kee mahilaon ke aa...</td>\n",
              "    </tr>\n",
              "    <tr>\n",
              "      <th>2</th>\n",
              "      <td>2</td>\n",
              "      <td>No</td>\n",
              "      <td>75 kaurase sarteephiket jo ab aap mupht mein k...</td>\n",
              "    </tr>\n",
              "    <tr>\n",
              "      <th>3</th>\n",
              "      <td>3</td>\n",
              "      <td>No</td>\n",
              "      <td>namaste vahaan, agar kisee kee dilachaspee (ki...</td>\n",
              "    </tr>\n",
              "    <tr>\n",
              "      <th>4</th>\n",
              "      <td>4</td>\n",
              "      <td>No</td>\n",
              "      <td>[[]]</td>\n",
              "    </tr>\n",
              "    <tr>\n",
              "      <th>...</th>\n",
              "      <td>...</td>\n",
              "      <td>...</td>\n",
              "      <td>...</td>\n",
              "    </tr>\n",
              "    <tr>\n",
              "      <th>7909</th>\n",
              "      <td>984</td>\n",
              "      <td>No</td>\n",
              "      <td>arabapati ron perelamain lagabhag har cheej ko...</td>\n",
              "    </tr>\n",
              "    <tr>\n",
              "      <th>7910</th>\n",
              "      <td>985</td>\n",
              "      <td>No</td>\n",
              "      <td>sveet tomaito koronovaayaras shatadaun par har...</td>\n",
              "    </tr>\n",
              "    <tr>\n",
              "      <th>7911</th>\n",
              "      <td>986</td>\n",
              "      <td>No</td>\n",
              "      <td>, khudara sarvanaash ’jaaree hai: gaip, phaimi...</td>\n",
              "    </tr>\n",
              "    <tr>\n",
              "      <th>7912</th>\n",
              "      <td>987</td>\n",
              "      <td>No</td>\n",
              "      <td>Big Pharma companies spend more on marketing t...</td>\n",
              "    </tr>\n",
              "    <tr>\n",
              "      <th>7913</th>\n",
              "      <td>988</td>\n",
              "      <td>No</td>\n",
              "      <td>jeedeepeeaar ke mukadamon mein phesabuk aur go...</td>\n",
              "    </tr>\n",
              "  </tbody>\n",
              "</table>\n",
              "<p>7914 rows × 3 columns</p>\n",
              "</div>"
            ],
            "text/plain": [
              "      Unnamed: 0 isoffensive                                               text\n",
              "0              0          No  yukti: yadi aap nahin jaanate ki kahaan se shu...\n",
              "1              1          No  main seekhana chaahata hoon kee mahilaon ke aa...\n",
              "2              2          No  75 kaurase sarteephiket jo ab aap mupht mein k...\n",
              "3              3          No  namaste vahaan, agar kisee kee dilachaspee (ki...\n",
              "4              4          No                                               [[]]\n",
              "...          ...         ...                                                ...\n",
              "7909         984          No  arabapati ron perelamain lagabhag har cheej ko...\n",
              "7910         985          No  sveet tomaito koronovaayaras shatadaun par har...\n",
              "7911         986          No  , khudara sarvanaash ’jaaree hai: gaip, phaimi...\n",
              "7912         987          No  Big Pharma companies spend more on marketing t...\n",
              "7913         988          No  jeedeepeeaar ke mukadamon mein phesabuk aur go...\n",
              "\n",
              "[7914 rows x 3 columns]"
            ]
          },
          "metadata": {
            "tags": []
          },
          "execution_count": 13
        }
      ]
    },
    {
      "cell_type": "code",
      "metadata": {
        "id": "gOO6NBFyEAzr"
      },
      "source": [
        "cleanhindi.to_csv(\"/content/drive/My Drive/Glue Labs/Abuse Model 12/inputs/Clean Translates/hindi.csv\")"
      ],
      "execution_count": null,
      "outputs": []
    },
    {
      "cell_type": "code",
      "metadata": {
        "id": "hf5oBT52AL6D",
        "colab": {
          "base_uri": "https://localhost:8080/",
          "height": 124
        },
        "outputId": "30ef56c7-7298-4a5d-e00e-48fa1dc4c48c"
      },
      "source": [
        "cleankorean = convert2(eng2, eng2.index, 'ko')"
      ],
      "execution_count": null,
      "outputs": [
        {
          "output_type": "stream",
          "text": [
            "/usr/local/lib/python3.6/dist-packages/pandas/core/indexing.py:670: SettingWithCopyWarning: \n",
            "A value is trying to be set on a copy of a slice from a DataFrame\n",
            "\n",
            "See the caveats in the documentation: https://pandas.pydata.org/pandas-docs/stable/user_guide/indexing.html#returning-a-view-versus-a-copy\n",
            "  iloc._setitem_with_indexer(indexer, value)\n"
          ],
          "name": "stderr"
        }
      ]
    },
    {
      "cell_type": "code",
      "metadata": {
        "id": "4r1BsI42EZXu",
        "colab": {
          "base_uri": "https://localhost:8080/",
          "height": 424
        },
        "outputId": "6c33fce1-e41b-4482-c8e3-a108cbf26760"
      },
      "source": [
        "cleankorean\n"
      ],
      "execution_count": null,
      "outputs": [
        {
          "output_type": "execute_result",
          "data": {
            "text/html": [
              "<div>\n",
              "<style scoped>\n",
              "    .dataframe tbody tr th:only-of-type {\n",
              "        vertical-align: middle;\n",
              "    }\n",
              "\n",
              "    .dataframe tbody tr th {\n",
              "        vertical-align: top;\n",
              "    }\n",
              "\n",
              "    .dataframe thead th {\n",
              "        text-align: right;\n",
              "    }\n",
              "</style>\n",
              "<table border=\"1\" class=\"dataframe\">\n",
              "  <thead>\n",
              "    <tr style=\"text-align: right;\">\n",
              "      <th></th>\n",
              "      <th>Unnamed: 0</th>\n",
              "      <th>isoffensive</th>\n",
              "      <th>text</th>\n",
              "    </tr>\n",
              "  </thead>\n",
              "  <tbody>\n",
              "    <tr>\n",
              "      <th>0</th>\n",
              "      <td>0</td>\n",
              "      <td>No</td>\n",
              "      <td>tib : eodiseobuteo sijaghaeyahalji moleugessda...</td>\n",
              "    </tr>\n",
              "    <tr>\n",
              "      <th>1</th>\n",
              "      <td>1</td>\n",
              "      <td>No</td>\n",
              "      <td>yeoseongdeul-ege jeogjeolhage ilhaneun beob-eu...</td>\n",
              "    </tr>\n",
              "    <tr>\n",
              "      <th>2</th>\n",
              "      <td>2</td>\n",
              "      <td>No</td>\n",
              "      <td>ije mulyolo hoegdeug hal su-issneun 75 gaeui k...</td>\n",
              "    </tr>\n",
              "    <tr>\n",
              "      <th>3</th>\n",
              "      <td>3</td>\n",
              "      <td>No</td>\n",
              "      <td>annyeonghaseyo, nugungaga gwansim-i issdamyeon...</td>\n",
              "    </tr>\n",
              "    <tr>\n",
              "      <th>4</th>\n",
              "      <td>4</td>\n",
              "      <td>No</td>\n",
              "      <td>[[]]</td>\n",
              "    </tr>\n",
              "    <tr>\n",
              "      <th>...</th>\n",
              "      <td>...</td>\n",
              "      <td>...</td>\n",
              "      <td>...</td>\n",
              "    </tr>\n",
              "    <tr>\n",
              "      <th>7909</th>\n",
              "      <td>984</td>\n",
              "      <td>No</td>\n",
              "      <td>Billionaire Ron Perelman selling almost everyt...</td>\n",
              "    </tr>\n",
              "    <tr>\n",
              "      <th>7910</th>\n",
              "      <td>985</td>\n",
              "      <td>No</td>\n",
              "      <td>Sweet Tomatoes confirms it’s permanently closi...</td>\n",
              "    </tr>\n",
              "    <tr>\n",
              "      <th>7911</th>\n",
              "      <td>986</td>\n",
              "      <td>No</td>\n",
              "      <td>'somae jongmal'gyesog : Gap, Family Dollar, su...</td>\n",
              "    </tr>\n",
              "    <tr>\n",
              "      <th>7912</th>\n",
              "      <td>987</td>\n",
              "      <td>No</td>\n",
              "      <td>daehyeong jeyag hoesaneun R &amp; Dboda maketing-e...</td>\n",
              "    </tr>\n",
              "    <tr>\n",
              "      <th>7913</th>\n",
              "      <td>988</td>\n",
              "      <td>No</td>\n",
              "      <td>Facebookgwa Googlei GDPR sosong-eseo 88 eog da...</td>\n",
              "    </tr>\n",
              "  </tbody>\n",
              "</table>\n",
              "<p>7914 rows × 3 columns</p>\n",
              "</div>"
            ],
            "text/plain": [
              "      Unnamed: 0 isoffensive                                               text\n",
              "0              0          No  tib : eodiseobuteo sijaghaeyahalji moleugessda...\n",
              "1              1          No  yeoseongdeul-ege jeogjeolhage ilhaneun beob-eu...\n",
              "2              2          No  ije mulyolo hoegdeug hal su-issneun 75 gaeui k...\n",
              "3              3          No  annyeonghaseyo, nugungaga gwansim-i issdamyeon...\n",
              "4              4          No                                               [[]]\n",
              "...          ...         ...                                                ...\n",
              "7909         984          No  Billionaire Ron Perelman selling almost everyt...\n",
              "7910         985          No  Sweet Tomatoes confirms it’s permanently closi...\n",
              "7911         986          No  'somae jongmal'gyesog : Gap, Family Dollar, su...\n",
              "7912         987          No  daehyeong jeyag hoesaneun R & Dboda maketing-e...\n",
              "7913         988          No  Facebookgwa Googlei GDPR sosong-eseo 88 eog da...\n",
              "\n",
              "[7914 rows x 3 columns]"
            ]
          },
          "metadata": {
            "tags": []
          },
          "execution_count": 7
        }
      ]
    },
    {
      "cell_type": "code",
      "metadata": {
        "id": "I9dLYYQ4EZSt"
      },
      "source": [
        "cleankorean.to_csv(\"/content/drive/My Drive/Glue Labs/Abuse Model 12/inputs/Clean Translates/korean.csv\")\n"
      ],
      "execution_count": null,
      "outputs": []
    },
    {
      "cell_type": "code",
      "metadata": {
        "id": "ILZulaMEEZMC",
        "colab": {
          "base_uri": "https://localhost:8080/",
          "height": 124
        },
        "outputId": "2f982926-8578-4e64-875c-310dbe8565a9"
      },
      "source": [
        "cleantelugu = convert2(eng2, eng2.index, 'te')"
      ],
      "execution_count": null,
      "outputs": [
        {
          "output_type": "stream",
          "text": [
            "/usr/local/lib/python3.6/dist-packages/pandas/core/indexing.py:670: SettingWithCopyWarning: \n",
            "A value is trying to be set on a copy of a slice from a DataFrame\n",
            "\n",
            "See the caveats in the documentation: https://pandas.pydata.org/pandas-docs/stable/user_guide/indexing.html#returning-a-view-versus-a-copy\n",
            "  iloc._setitem_with_indexer(indexer, value)\n"
          ],
          "name": "stderr"
        }
      ]
    },
    {
      "cell_type": "code",
      "metadata": {
        "id": "MCrgqm2XUKGJ",
        "colab": {
          "base_uri": "https://localhost:8080/",
          "height": 424
        },
        "outputId": "3ef1e0f8-77bf-441e-bda6-ac4769037457"
      },
      "source": [
        "cleantelugu"
      ],
      "execution_count": null,
      "outputs": [
        {
          "output_type": "execute_result",
          "data": {
            "text/html": [
              "<div>\n",
              "<style scoped>\n",
              "    .dataframe tbody tr th:only-of-type {\n",
              "        vertical-align: middle;\n",
              "    }\n",
              "\n",
              "    .dataframe tbody tr th {\n",
              "        vertical-align: top;\n",
              "    }\n",
              "\n",
              "    .dataframe thead th {\n",
              "        text-align: right;\n",
              "    }\n",
              "</style>\n",
              "<table border=\"1\" class=\"dataframe\">\n",
              "  <thead>\n",
              "    <tr style=\"text-align: right;\">\n",
              "      <th></th>\n",
              "      <th>Unnamed: 0</th>\n",
              "      <th>isoffensive</th>\n",
              "      <th>text</th>\n",
              "    </tr>\n",
              "  </thead>\n",
              "  <tbody>\n",
              "    <tr>\n",
              "      <th>0</th>\n",
              "      <td>0</td>\n",
              "      <td>No</td>\n",
              "      <td>Ciṭkā: Ekkaḍa prārambhin̄cālō mīku teliyakapōt...</td>\n",
              "    </tr>\n",
              "    <tr>\n",
              "      <th>1</th>\n",
              "      <td>1</td>\n",
              "      <td>No</td>\n",
              "      <td>Nēnu mahiḷala cuṭṭū elā pani cēyālō nērcukōvāl...</td>\n",
              "    </tr>\n",
              "    <tr>\n",
              "      <th>2</th>\n",
              "      <td>2</td>\n",
              "      <td>No</td>\n",
              "      <td>75 Kōrsula sarṭiphikēṭ mīru ippuḍu ucitaṅgā sa...</td>\n",
              "    </tr>\n",
              "    <tr>\n",
              "      <th>3</th>\n",
              "      <td>3</td>\n",
              "      <td>No</td>\n",
              "      <td>Halō, evarainā āsakti kaligi uṇṭē (konni kāraṇ...</td>\n",
              "    </tr>\n",
              "    <tr>\n",
              "      <th>4</th>\n",
              "      <td>4</td>\n",
              "      <td>No</td>\n",
              "      <td>[[]]</td>\n",
              "    </tr>\n",
              "    <tr>\n",
              "      <th>...</th>\n",
              "      <td>...</td>\n",
              "      <td>...</td>\n",
              "      <td>...</td>\n",
              "    </tr>\n",
              "    <tr>\n",
              "      <th>7909</th>\n",
              "      <td>984</td>\n",
              "      <td>No</td>\n",
              "      <td>Billionaire Ron Perelman selling almost everyt...</td>\n",
              "    </tr>\n",
              "    <tr>\n",
              "      <th>7910</th>\n",
              "      <td>985</td>\n",
              "      <td>No</td>\n",
              "      <td>Karōnāvairas ṣaṭḍaunlapai prati sthānānni śāśv...</td>\n",
              "    </tr>\n",
              "    <tr>\n",
              "      <th>7911</th>\n",
              "      <td>986</td>\n",
              "      <td>No</td>\n",
              "      <td>‘Retail apocalypse’ continues: Gap, Family Dol...</td>\n",
              "    </tr>\n",
              "    <tr>\n",
              "      <th>7912</th>\n",
              "      <td>987</td>\n",
              "      <td>No</td>\n",
              "      <td>Big phārmā kampenīlu ār‌aṇḍ‌ḍi kaṇṭē mārkeṭiṅg...</td>\n",
              "    </tr>\n",
              "    <tr>\n",
              "      <th>7913</th>\n",
              "      <td>988</td>\n",
              "      <td>No</td>\n",
              "      <td>Phēsbuk mariyu gūgul jiḍipi'ār vyājyālalō 8 8....</td>\n",
              "    </tr>\n",
              "  </tbody>\n",
              "</table>\n",
              "<p>7914 rows × 3 columns</p>\n",
              "</div>"
            ],
            "text/plain": [
              "      Unnamed: 0 isoffensive                                               text\n",
              "0              0          No  Ciṭkā: Ekkaḍa prārambhin̄cālō mīku teliyakapōt...\n",
              "1              1          No  Nēnu mahiḷala cuṭṭū elā pani cēyālō nērcukōvāl...\n",
              "2              2          No  75 Kōrsula sarṭiphikēṭ mīru ippuḍu ucitaṅgā sa...\n",
              "3              3          No  Halō, evarainā āsakti kaligi uṇṭē (konni kāraṇ...\n",
              "4              4          No                                               [[]]\n",
              "...          ...         ...                                                ...\n",
              "7909         984          No  Billionaire Ron Perelman selling almost everyt...\n",
              "7910         985          No  Karōnāvairas ṣaṭḍaunlapai prati sthānānni śāśv...\n",
              "7911         986          No  ‘Retail apocalypse’ continues: Gap, Family Dol...\n",
              "7912         987          No  Big phārmā kampenīlu ār‌aṇḍ‌ḍi kaṇṭē mārkeṭiṅg...\n",
              "7913         988          No  Phēsbuk mariyu gūgul jiḍipi'ār vyājyālalō 8 8....\n",
              "\n",
              "[7914 rows x 3 columns]"
            ]
          },
          "metadata": {
            "tags": []
          },
          "execution_count": 7
        }
      ]
    },
    {
      "cell_type": "code",
      "metadata": {
        "id": "kMQR6PDREZGk"
      },
      "source": [
        "cleantelugu.to_csv(\"/content/drive/My Drive/Glue Labs/Abuse Model 12/inputs/Clean Translates/korean.csv\")"
      ],
      "execution_count": null,
      "outputs": []
    },
    {
      "cell_type": "code",
      "metadata": {
        "id": "KH26ZF9-EY-9"
      },
      "source": [
        "new"
      ],
      "execution_count": null,
      "outputs": []
    },
    {
      "cell_type": "markdown",
      "metadata": {
        "id": "5sK-ZOF6GI7N"
      },
      "source": [
        "## Malayalam"
      ]
    },
    {
      "cell_type": "code",
      "metadata": {
        "id": "4dWAcmbnh0-e"
      },
      "source": [
        "def addnewdata(nodataset, yesdataset):\n",
        "  \n",
        "  yesdata = yesdataset[yesdataset['isoffensive'] == 'Yes']\n",
        "\n",
        "  data = pd.concat([nodataset, yesdata], axis = 0)\n",
        "  data = data.sample(n = data.shape[0])\n",
        "  data.index = range(data.shape[0])\n",
        "  return data"
      ],
      "execution_count": null,
      "outputs": []
    },
    {
      "cell_type": "code",
      "metadata": {
        "id": "Yzwy3gTFh1B6",
        "colab": {
          "base_uri": "https://localhost:8080/",
          "height": 34
        },
        "outputId": "275c476a-5501-48b3-db29-3f70f9d8eb95"
      },
      "source": [
        "malayalam = pd.read_csv(\"/content/drive/My Drive/Glue Labs/Abuse Model 12/inputs/malayalam.csv\")\n",
        "malayalam.drop(['Unnamed: 0'], axis = 1, inplace = True)\n",
        "malayalam = addnewdata(cleanmalayalam, malayalam)\n",
        "malayalam.shape"
      ],
      "execution_count": null,
      "outputs": [
        {
          "output_type": "execute_result",
          "data": {
            "text/plain": [
              "(13299, 2)"
            ]
          },
          "metadata": {
            "tags": []
          },
          "execution_count": 24
        }
      ]
    },
    {
      "cell_type": "code",
      "metadata": {
        "id": "WY17ocBtc0wv"
      },
      "source": [
        "malayalam.to_csv(\"/content/drive/My Drive/Glue Labs/Abuse Model 12/inputs/malayalam.csv\")"
      ],
      "execution_count": null,
      "outputs": []
    },
    {
      "cell_type": "markdown",
      "metadata": {
        "id": "VqJkA_XOhhom"
      },
      "source": [
        "## Chinese"
      ]
    },
    {
      "cell_type": "code",
      "metadata": {
        "id": "6CmtZe7IirEb"
      },
      "source": [
        "chin = eng.loc[:8000]\n",
        "chin = chin.dropna()"
      ],
      "execution_count": null,
      "outputs": []
    },
    {
      "cell_type": "code",
      "metadata": {
        "id": "zJnIqmvbirEl"
      },
      "source": [
        "for i in chin.index:\n",
        "  text = chin.text.loc[i]\n",
        "  chinese = trans.translate(text, src = 'en', dest = 'zh-cn')\n",
        "  chin.text.loc[i] = chinese.texta"
      ],
      "execution_count": null,
      "outputs": []
    },
    {
      "cell_type": "code",
      "metadata": {
        "id": "CGi49F7NaAsQ"
      },
      "source": [
        "for i in chin.index:\n",
        "  text = chin.text.loc[i]\n",
        "  chinese = trans.translate(text, src = 'en', dest = 'zh-cn')\n",
        "  chin.text.loc[i] = chinese.pronunciation"
      ],
      "execution_count": null,
      "outputs": []
    },
    {
      "cell_type": "code",
      "metadata": {
        "id": "Be_64eNvMVrB",
        "colab": {
          "base_uri": "https://localhost:8080/",
          "height": 415
        },
        "outputId": "464fc3ac-b236-48d0-f31e-99aa94bb6623"
      },
      "source": [
        "chin"
      ],
      "execution_count": null,
      "outputs": [
        {
          "output_type": "execute_result",
          "data": {
            "text/html": [
              "<div>\n",
              "<style scoped>\n",
              "    .dataframe tbody tr th:only-of-type {\n",
              "        vertical-align: middle;\n",
              "    }\n",
              "\n",
              "    .dataframe tbody tr th {\n",
              "        vertical-align: top;\n",
              "    }\n",
              "\n",
              "    .dataframe thead th {\n",
              "        text-align: right;\n",
              "    }\n",
              "</style>\n",
              "<table border=\"1\" class=\"dataframe\">\n",
              "  <thead>\n",
              "    <tr style=\"text-align: right;\">\n",
              "      <th></th>\n",
              "      <th>isoffensive</th>\n",
              "      <th>text</th>\n",
              "    </tr>\n",
              "  </thead>\n",
              "  <tbody>\n",
              "    <tr>\n",
              "      <th>0</th>\n",
              "      <td>Yes</td>\n",
              "      <td>用户跟随我的狗..他有超过k个母狗用户我今天在公园里为我的母狗做了一个金毛寻回犬。链接...</td>\n",
              "    </tr>\n",
              "    <tr>\n",
              "      <th>1</th>\n",
              "      <td>Yes</td>\n",
              "      <td>user that was so gay. and i was tanning bitch....</td>\n",
              "    </tr>\n",
              "    <tr>\n",
              "      <th>2</th>\n",
              "      <td>Yes</td>\n",
              "      <td>阿里巴巴/杰克·马·达塔（Alibaba / Jack Ma Gotta）爱一个击败梅格·惠...</td>\n",
              "    </tr>\n",
              "    <tr>\n",
              "      <th>3</th>\n",
              "      <td>No</td>\n",
              "      <td>用户用户用户这是一个突变。家谱是令人费解的。基本上，宰杀了斑马基因</td>\n",
              "    </tr>\n",
              "    <tr>\n",
              "      <th>4</th>\n",
              "      <td>Yes</td>\n",
              "      <td>像彩票一样玩这些ho头</td>\n",
              "    </tr>\n",
              "    <tr>\n",
              "      <th>...</th>\n",
              "      <td>...</td>\n",
              "      <td>...</td>\n",
              "    </tr>\n",
              "    <tr>\n",
              "      <th>7996</th>\n",
              "      <td>Yes</td>\n",
              "      <td>Yònghù kàn qǐlái xiàng shì yào chuīxū mǒu rén</td>\n",
              "    </tr>\n",
              "    <tr>\n",
              "      <th>7997</th>\n",
              "      <td>Yes</td>\n",
              "      <td>\"user user user bitch fuck u link maybe you'll...</td>\n",
              "    </tr>\n",
              "    <tr>\n",
              "      <th>7998</th>\n",
              "      <td>No</td>\n",
              "      <td>only just got this message, not ignoring you. ...</td>\n",
              "    </tr>\n",
              "    <tr>\n",
              "      <th>7999</th>\n",
              "      <td>Yes</td>\n",
              "      <td>you fucking fag user this is e what i am talki...</td>\n",
              "    </tr>\n",
              "    <tr>\n",
              "      <th>8000</th>\n",
              "      <td>No</td>\n",
              "      <td>i've got a birds eye view of all the secrets y...</td>\n",
              "    </tr>\n",
              "  </tbody>\n",
              "</table>\n",
              "<p>8000 rows × 2 columns</p>\n",
              "</div>"
            ],
            "text/plain": [
              "     isoffensive                                               text\n",
              "0            Yes     用户跟随我的狗..他有超过k个母狗用户我今天在公园里为我的母狗做了一个金毛寻回犬。链接...\n",
              "1            Yes  user that was so gay. and i was tanning bitch....\n",
              "2            Yes  阿里巴巴/杰克·马·达塔（Alibaba / Jack Ma Gotta）爱一个击败梅格·惠...\n",
              "3             No                  用户用户用户这是一个突变。家谱是令人费解的。基本上，宰杀了斑马基因\n",
              "4            Yes                                        像彩票一样玩这些ho头\n",
              "...          ...                                                ...\n",
              "7996         Yes      Yònghù kàn qǐlái xiàng shì yào chuīxū mǒu rén\n",
              "7997         Yes  \"user user user bitch fuck u link maybe you'll...\n",
              "7998          No  only just got this message, not ignoring you. ...\n",
              "7999         Yes  you fucking fag user this is e what i am talki...\n",
              "8000          No  i've got a birds eye view of all the secrets y...\n",
              "\n",
              "[8000 rows x 2 columns]"
            ]
          },
          "metadata": {
            "tags": []
          },
          "execution_count": 115
        }
      ]
    },
    {
      "cell_type": "code",
      "metadata": {
        "id": "mWvOFym1OiBO"
      },
      "source": [
        "chin.to_csv(\"/content/drive/My Drive/Glue Labs/Abuse Model 12/inputs/chinese.csv\")"
      ],
      "execution_count": null,
      "outputs": []
    },
    {
      "cell_type": "markdown",
      "metadata": {
        "id": "yAjb8kB3iLXj"
      },
      "source": [
        "## Korean"
      ]
    },
    {
      "cell_type": "code",
      "metadata": {
        "id": "TXL07aEciQXr"
      },
      "source": [
        ""
      ],
      "execution_count": null,
      "outputs": []
    },
    {
      "cell_type": "code",
      "metadata": {
        "id": "EqHU1P-wiXT2",
        "colab": {
          "base_uri": "https://localhost:8080/",
          "height": 124
        },
        "outputId": "30ef56c7-7298-4a5d-e00e-48fa1dc4c48c"
      },
      "source": [
        "cleankorean = convert2(eng2, eng2.index, 'ko')"
      ],
      "execution_count": null,
      "outputs": [
        {
          "output_type": "stream",
          "text": [
            "/usr/local/lib/python3.6/dist-packages/pandas/core/indexing.py:670: SettingWithCopyWarning: \n",
            "A value is trying to be set on a copy of a slice from a DataFrame\n",
            "\n",
            "See the caveats in the documentation: https://pandas.pydata.org/pandas-docs/stable/user_guide/indexing.html#returning-a-view-versus-a-copy\n",
            "  iloc._setitem_with_indexer(indexer, value)\n"
          ],
          "name": "stderr"
        }
      ]
    },
    {
      "cell_type": "code",
      "metadata": {
        "id": "8hXNj3A3iXVR"
      },
      "source": [
        "cleankorean.to_csv(\"/content/drive/My Drive/Glue Labs/Abuse Model 12/inputs/Clean Translates/korean.csv\")\n"
      ],
      "execution_count": null,
      "outputs": []
    },
    {
      "cell_type": "code",
      "metadata": {
        "id": "tdCZ6-N0iQzQ",
        "colab": {
          "background_save": true
        }
      },
      "source": [
        "def addnewdata(nodataset, yesdataset):\n",
        "  \n",
        "  yesdata = yesdataset[yesdataset['isoffensive'] == 'Yes']\n",
        "\n",
        "  data = pd.concat([nodataset, yesdata], axis = 0)\n",
        "  data = data.sample(n = data.shape[0])\n",
        "  data.index = range(data.shape[0])\n",
        "  return data"
      ],
      "execution_count": null,
      "outputs": []
    },
    {
      "cell_type": "code",
      "metadata": {
        "id": "58aGb2djiQz6",
        "colab": {
          "base_uri": "https://localhost:8080/",
          "height": 34
        },
        "outputId": "275c476a-5501-48b3-db29-3f70f9d8eb95"
      },
      "source": [
        "malayalam = pd.read_csv(\"/content/drive/My Drive/Glue Labs/Abuse Model 12/inputs/korean.csv\")\n",
        "malayalam.drop(['Unnamed: 0'], axis = 1, inplace = True)\n",
        "malayalam = addnewdata(cleanmalayalam, malayalam)\n",
        "malayalam.shape"
      ],
      "execution_count": null,
      "outputs": [
        {
          "output_type": "execute_result",
          "data": {
            "text/plain": [
              "(13299, 2)"
            ]
          },
          "metadata": {
            "tags": []
          },
          "execution_count": 24
        }
      ]
    },
    {
      "cell_type": "code",
      "metadata": {
        "id": "YF41XCWwiQ0e"
      },
      "source": [
        "malayalam.to_csv(\"/content/drive/My Drive/Glue Labs/Abuse Model 12/inputs/malayalam.csv\")"
      ],
      "execution_count": null,
      "outputs": []
    },
    {
      "cell_type": "markdown",
      "metadata": {
        "id": "FSNdqAE_UmT5"
      },
      "source": [
        "## Telugu"
      ]
    },
    {
      "cell_type": "code",
      "metadata": {
        "id": "yIEIMZ7hUoUf"
      },
      "source": [
        "tel = eng.loc[:6000]\n",
        "tel = tel.dropna()"
      ],
      "execution_count": null,
      "outputs": []
    },
    {
      "cell_type": "code",
      "metadata": {
        "id": "8Nr5W324UoUm"
      },
      "source": [
        "for i in tel.index:\n",
        "  text = tel.text.loc[i]\n",
        "  telugu = trans.translate(text, src = 'en', dest = 'te')\n",
        "  tel.text.loc[i] = telugu.pronunciation"
      ],
      "execution_count": null,
      "outputs": []
    },
    {
      "cell_type": "markdown",
      "metadata": {
        "id": "4aJdiGQqXS2q"
      },
      "source": [
        "## Final Compile a."
      ]
    },
    {
      "cell_type": "code",
      "metadata": {
        "id": "gYxqfsb6XUrB"
      },
      "source": [
        "german = pd.read_csv(\"/content/drive/My Drive/Glue Labs/Abuse Model 12/inputs/GERMAN.csv\")\n",
        "french = pd.read_csv(\"/content/drive/My Drive/Glue Labs/Abuse Model 12/inputs/french.csv\")\n",
        "hindi = pd.read_csv(\"/content/drive/My Drive/Glue Labs/Abuse Model 12/inputs/HINDI.csv\")\n",
        "english = pd.read_csv(\"/content/drive/My Drive/Glue Labs/Abuse Model 12/inputs/ENGLISH.csv\")\n",
        "spanish = pd.read_csv(\"/content/drive/My Drive/Glue Labs/Abuse Model 12/inputs/SPANISH.csv\")\n",
        "tamil = pd.read_csv(\"/content/drive/My Drive/Glue Labs/Abuse Model 12/inputs/tamil.csv\")\n",
        "malayalam = pd.read_csv(\"/content/drive/My Drive/Glue Labs/Abuse Model 12/inputs/malayalam.csv\")\n",
        "telugu = pd.read_csv(\"/content/drive/My Drive/Glue Labs/Abuse Model 12/inputs/telugu.csv\")\n",
        "chinese = pd.read_csv(\"/content/drive/My Drive/Glue Labs/Abuse Model 12/inputs/chinese.csv\")\n",
        "korean = pd.read_csv(\"/content/drive/My Drive/Glue Labs/Abuse Model 12/inputs/korean.csv\")\n"
      ],
      "execution_count": null,
      "outputs": []
    },
    {
      "cell_type": "code",
      "metadata": {
        "id": "t6qYKaz3XUrI"
      },
      "source": [
        "\n",
        "french.drop(['Unnamed: 0', 'Unnamed: 0.1'], axis = 1, inplace = True)\n",
        "german.drop(['Unnamed: 0'], axis = 1, inplace = True)\n",
        "english.drop(['Unnamed: 0'], axis = 1, inplace = True)\n",
        "spanish.drop(['Unnamed: 0'], axis = 1, inplace = True)\n",
        "hindi.drop(['Unnamed: 0', 'Unnamed: 0.1'], axis = 1, inplace = True)\n",
        "malayalam.drop(['Unnamed: 0', 'Unnamed: 0.1'], axis = 1, inplace = True)\n",
        "telugu.drop(['Unnamed: 0'], axis = 1, inplace = True)\n",
        "chinese.drop(['Unnamed: 0', 'Unnamed: 0.1', 'Unnamed: 0.1.1'], axis = 1, inplace = True)\n",
        "korean.drop(['Unnamed: 0'], axis = 1, inplace = True)\n",
        "tamil.drop(['Unnamed: 0'], axis = 1, inplace = True)\n"
      ],
      "execution_count": null,
      "outputs": []
    },
    {
      "cell_type": "code",
      "metadata": {
        "id": "WU5wEZEOXUrM"
      },
      "source": [
        "input = pd.concat([german, english, hindi, french, spanish, tamil, telugu, korean, malayalam, chinese], axis = 0)"
      ],
      "execution_count": null,
      "outputs": []
    },
    {
      "cell_type": "code",
      "metadata": {
        "id": "mkoAETsAXUrP"
      },
      "source": [
        "input = input.sample(n = input.shape[0])\n",
        "input = input.dropna()\n",
        "input.index = range(input.shape[0])"
      ],
      "execution_count": null,
      "outputs": []
    },
    {
      "cell_type": "code",
      "metadata": {
        "id": "pcitOB-nXUrV"
      },
      "source": [
        "for i in input.index:\n",
        "  input.text.loc[i] = input.text.loc[i].lower()"
      ],
      "execution_count": null,
      "outputs": []
    },
    {
      "cell_type": "code",
      "metadata": {
        "id": "MaS2VYlp_rmp",
        "colab": {
          "base_uri": "https://localhost:8080/",
          "height": 415
        },
        "outputId": "27c1b296-f47d-488c-c0f9-0da6ba119428"
      },
      "source": [
        "input"
      ],
      "execution_count": null,
      "outputs": [
        {
          "output_type": "execute_result",
          "data": {
            "text/html": [
              "<div>\n",
              "<style scoped>\n",
              "    .dataframe tbody tr th:only-of-type {\n",
              "        vertical-align: middle;\n",
              "    }\n",
              "\n",
              "    .dataframe tbody tr th {\n",
              "        vertical-align: top;\n",
              "    }\n",
              "\n",
              "    .dataframe thead th {\n",
              "        text-align: right;\n",
              "    }\n",
              "</style>\n",
              "<table border=\"1\" class=\"dataframe\">\n",
              "  <thead>\n",
              "    <tr style=\"text-align: right;\">\n",
              "      <th></th>\n",
              "      <th>isoffensive</th>\n",
              "      <th>text</th>\n",
              "    </tr>\n",
              "  </thead>\n",
              "  <tbody>\n",
              "    <tr>\n",
              "      <th>0</th>\n",
              "      <td>No</td>\n",
              "      <td>girl scout sells hundreds of cookie boxes outs...</td>\n",
              "    </tr>\n",
              "    <tr>\n",
              "      <th>1</th>\n",
              "      <td>No</td>\n",
              "      <td>aseupilin-i simjang mabi jung-e saengmyeong-eu...</td>\n",
              "    </tr>\n",
              "    <tr>\n",
              "      <th>2</th>\n",
              "      <td>No</td>\n",
              "      <td>about some more subreddits to learn things</td>\n",
              "    </tr>\n",
              "    <tr>\n",
              "      <th>3</th>\n",
              "      <td>Yes</td>\n",
              "      <td>딸도 죄가 있지. 악마의 씨앗에서 태어난것도 문제가 되고...</td>\n",
              "    </tr>\n",
              "    <tr>\n",
              "      <th>4</th>\n",
              "      <td>Yes</td>\n",
              "      <td>fremde iphone imma nennen einen goth hoe link</td>\n",
              "    </tr>\n",
              "    <tr>\n",
              "      <th>...</th>\n",
              "      <td>...</td>\n",
              "      <td>...</td>\n",
              "    </tr>\n",
              "    <tr>\n",
              "      <th>120319</th>\n",
              "      <td>No</td>\n",
              "      <td>[[]]</td>\n",
              "    </tr>\n",
              "    <tr>\n",
              "      <th>120320</th>\n",
              "      <td>Yes</td>\n",
              "      <td>a lotta u niccas ain't who u say u is</td>\n",
              "    </tr>\n",
              "    <tr>\n",
              "      <th>120321</th>\n",
              "      <td>Yes</td>\n",
              "      <td>user user wir müssen zulegen und merkel vernic...</td>\n",
              "    </tr>\n",
              "    <tr>\n",
              "      <th>120322</th>\n",
              "      <td>Yes</td>\n",
              "      <td>bhayaṉar adhaghghamagha indha umai sbhigh bhad...</td>\n",
              "    </tr>\n",
              "    <tr>\n",
              "      <th>120323</th>\n",
              "      <td>No</td>\n",
              "      <td>und - wie sieht es bei euch mit den unweiblich...</td>\n",
              "    </tr>\n",
              "  </tbody>\n",
              "</table>\n",
              "<p>120324 rows × 2 columns</p>\n",
              "</div>"
            ],
            "text/plain": [
              "       isoffensive                                               text\n",
              "0               No  girl scout sells hundreds of cookie boxes outs...\n",
              "1               No  aseupilin-i simjang mabi jung-e saengmyeong-eu...\n",
              "2               No         about some more subreddits to learn things\n",
              "3              Yes                 딸도 죄가 있지. 악마의 씨앗에서 태어난것도 문제가 되고...\n",
              "4              Yes      fremde iphone imma nennen einen goth hoe link\n",
              "...            ...                                                ...\n",
              "120319          No                                               [[]]\n",
              "120320         Yes              a lotta u niccas ain't who u say u is\n",
              "120321         Yes  user user wir müssen zulegen und merkel vernic...\n",
              "120322         Yes  bhayaṉar adhaghghamagha indha umai sbhigh bhad...\n",
              "120323          No  und - wie sieht es bei euch mit den unweiblich...\n",
              "\n",
              "[120324 rows x 2 columns]"
            ]
          },
          "metadata": {
            "tags": []
          },
          "execution_count": 53
        }
      ]
    },
    {
      "cell_type": "code",
      "metadata": {
        "id": "ptcujYlsXUrX"
      },
      "source": [
        "train = input[:100000]\n",
        "valid = input[-20324:]\n",
        "\n",
        "train.to_csv(\"/content/drive/My Drive/Glue Labs/Abuse Model 12/FINAL 10/train.csv\")\n",
        "valid.to_csv(\"/content/drive/My Drive/Glue Labs/Abuse Model 12/FINAL 10/valid.csv\")\n",
        "input.to_csv(\"/content/drive/My Drive/Glue Labs/Abuse Model 12/FINAL 10/input.csv\")\n"
      ],
      "execution_count": null,
      "outputs": []
    },
    {
      "cell_type": "code",
      "metadata": {
        "id": "tGmggZYiEZPH"
      },
      "source": [
        "input.to_csv(\"/content/drive/My Drive/Glue Labs/Abuse Model 12/FINAL 10/input.csv\")\n"
      ],
      "execution_count": null,
      "outputs": []
    },
    {
      "cell_type": "code",
      "metadata": {
        "id": "qhRCTPcruXNd"
      },
      "source": [
        "reddit = pd.read_csv(\"/content/drive/My Drive/Glue Labs/Data-Abuse/reddit.csv\")"
      ],
      "execution_count": null,
      "outputs": []
    },
    {
      "cell_type": "code",
      "metadata": {
        "id": "j9y-WTFeucVD",
        "colab": {
          "base_uri": "https://localhost:8080/",
          "height": 589
        },
        "outputId": "01a4f9c7-1256-48ea-ffef-902ceb452bad"
      },
      "source": [
        "reddit"
      ],
      "execution_count": null,
      "outputs": [
        {
          "output_type": "execute_result",
          "data": {
            "text/html": [
              "<div>\n",
              "<style scoped>\n",
              "    .dataframe tbody tr th:only-of-type {\n",
              "        vertical-align: middle;\n",
              "    }\n",
              "\n",
              "    .dataframe tbody tr th {\n",
              "        vertical-align: top;\n",
              "    }\n",
              "\n",
              "    .dataframe thead th {\n",
              "        text-align: right;\n",
              "    }\n",
              "</style>\n",
              "<table border=\"1\" class=\"dataframe\">\n",
              "  <thead>\n",
              "    <tr style=\"text-align: right;\">\n",
              "      <th></th>\n",
              "      <th>id</th>\n",
              "      <th>text</th>\n",
              "      <th>hate_speech_idx</th>\n",
              "      <th>response</th>\n",
              "    </tr>\n",
              "  </thead>\n",
              "  <tbody>\n",
              "    <tr>\n",
              "      <th>0</th>\n",
              "      <td>1. e8q18lf\\n2. \\te8q9w5s\\n3. \\t\\te8qbobk\\n4. \\...</td>\n",
              "      <td>1. A subsection of retarded Hungarians? Ohh bo...</td>\n",
              "      <td>[1]</td>\n",
              "      <td>[\"I don't see a reason why it's okay to insult...</td>\n",
              "    </tr>\n",
              "    <tr>\n",
              "      <th>1</th>\n",
              "      <td>1. e9c6naz\\n2. \\te9d03a5\\n3. \\t\\te9d8e4d\\n</td>\n",
              "      <td>1. &gt; \"y'all hear sumn?\"  by all means I live i...</td>\n",
              "      <td>[3]</td>\n",
              "      <td>['Persons with disabilities is the accepted te...</td>\n",
              "    </tr>\n",
              "    <tr>\n",
              "      <th>2</th>\n",
              "      <td>1. e84rl2i\\n2. \\te84w60l\\n3. \\t\\te8544rn\\n4. \\...</td>\n",
              "      <td>1. wouldn't the defenders or whatever they are...</td>\n",
              "      <td>NaN</td>\n",
              "      <td>NaN</td>\n",
              "    </tr>\n",
              "    <tr>\n",
              "      <th>3</th>\n",
              "      <td>1. e7kq72n\\n2. \\te7m24ar\\n</td>\n",
              "      <td>1. Because the Japanese aren't retarded and kn...</td>\n",
              "      <td>[1]</td>\n",
              "      <td>[\"It's not right for anyone of any gender to b...</td>\n",
              "    </tr>\n",
              "    <tr>\n",
              "      <th>4</th>\n",
              "      <td>1. e7hdgoh\\n2. \\te7iyj6a\\n3. \\t\\te7j6iho\\n4. \\...</td>\n",
              "      <td>1. That might be true if we didn't have an exa...</td>\n",
              "      <td>[2, 3]</td>\n",
              "      <td>[\"You shouldn't be bringing up sensitive topic...</td>\n",
              "    </tr>\n",
              "    <tr>\n",
              "      <th>...</th>\n",
              "      <td>...</td>\n",
              "      <td>...</td>\n",
              "      <td>...</td>\n",
              "      <td>...</td>\n",
              "    </tr>\n",
              "    <tr>\n",
              "      <th>5015</th>\n",
              "      <td>1. e90fta8\\n2. \\te90g8px\\n3. \\t\\te90jlq5\\n4. \\...</td>\n",
              "      <td>1. Who does she claim as *her people*?\\n2. \\tI...</td>\n",
              "      <td>[8]</td>\n",
              "      <td>['its inappropriate to use the word faggot as ...</td>\n",
              "    </tr>\n",
              "    <tr>\n",
              "      <th>5016</th>\n",
              "      <td>1. e9b7mn2\\n2. \\te9bv6ir\\n</td>\n",
              "      <td>1. Here's what's going to happen:  Broward is ...</td>\n",
              "      <td>NaN</td>\n",
              "      <td>NaN</td>\n",
              "    </tr>\n",
              "    <tr>\n",
              "      <th>5017</th>\n",
              "      <td>1. e7q8ilv\\n2. \\te7qddqq\\n3. \\t\\te7qstbc\\n4. \\...</td>\n",
              "      <td>1. Oh boy...so here comes a long venting post ...</td>\n",
              "      <td>[1, 4]</td>\n",
              "      <td>[\"using the word 'nigger' is a direct attack t...</td>\n",
              "    </tr>\n",
              "    <tr>\n",
              "      <th>5018</th>\n",
              "      <td>1. dwp8jut\\n</td>\n",
              "      <td>1. OP, stop being a faggot and post videos nex...</td>\n",
              "      <td>[1]</td>\n",
              "      <td>[\"using the words 'faggot fuckers' is offensiv...</td>\n",
              "    </tr>\n",
              "    <tr>\n",
              "      <th>5019</th>\n",
              "      <td>1. e76148j\\n2. \\te76uzdz\\n3. \\t\\te772r42\\n4. \\...</td>\n",
              "      <td>1. In this 20 minute long video, Top Hate and ...</td>\n",
              "      <td>[2]</td>\n",
              "      <td>[\"Using the word 'retard'  is offensive to the...</td>\n",
              "    </tr>\n",
              "  </tbody>\n",
              "</table>\n",
              "<p>5020 rows × 4 columns</p>\n",
              "</div>"
            ],
            "text/plain": [
              "                                                     id  ...                                           response\n",
              "0     1. e8q18lf\\n2. \\te8q9w5s\\n3. \\t\\te8qbobk\\n4. \\...  ...  [\"I don't see a reason why it's okay to insult...\n",
              "1            1. e9c6naz\\n2. \\te9d03a5\\n3. \\t\\te9d8e4d\\n  ...  ['Persons with disabilities is the accepted te...\n",
              "2     1. e84rl2i\\n2. \\te84w60l\\n3. \\t\\te8544rn\\n4. \\...  ...                                                NaN\n",
              "3                            1. e7kq72n\\n2. \\te7m24ar\\n  ...  [\"It's not right for anyone of any gender to b...\n",
              "4     1. e7hdgoh\\n2. \\te7iyj6a\\n3. \\t\\te7j6iho\\n4. \\...  ...  [\"You shouldn't be bringing up sensitive topic...\n",
              "...                                                 ...  ...                                                ...\n",
              "5015  1. e90fta8\\n2. \\te90g8px\\n3. \\t\\te90jlq5\\n4. \\...  ...  ['its inappropriate to use the word faggot as ...\n",
              "5016                         1. e9b7mn2\\n2. \\te9bv6ir\\n  ...                                                NaN\n",
              "5017  1. e7q8ilv\\n2. \\te7qddqq\\n3. \\t\\te7qstbc\\n4. \\...  ...  [\"using the word 'nigger' is a direct attack t...\n",
              "5018                                       1. dwp8jut\\n  ...  [\"using the words 'faggot fuckers' is offensiv...\n",
              "5019  1. e76148j\\n2. \\te76uzdz\\n3. \\t\\te772r42\\n4. \\...  ...  [\"Using the word 'retard'  is offensive to the...\n",
              "\n",
              "[5020 rows x 4 columns]"
            ]
          },
          "metadata": {
            "tags": []
          },
          "execution_count": 13
        }
      ]
    },
    {
      "cell_type": "markdown",
      "metadata": {
        "id": "CGIzHruRpCrf"
      },
      "source": [
        "# Final Compile b"
      ]
    },
    {
      "cell_type": "code",
      "metadata": {
        "id": "b8_cYK7sp1N7"
      },
      "source": [
        "input = pd.read_csv(\"/content/drive/My Drive/Glue Labs/Abuse Model 12/FINAL 10/input.csv\")"
      ],
      "execution_count": null,
      "outputs": []
    },
    {
      "cell_type": "code",
      "metadata": {
        "id": "SdQpO4W9iSce"
      },
      "source": [
        "input = input.dropna()"
      ],
      "execution_count": null,
      "outputs": []
    },
    {
      "cell_type": "code",
      "metadata": {
        "id": "wabaxKdf8OCj"
      },
      "source": [
        "for i in input.index:\n",
        "  nantext = re.sub('[\\d+[a-z]+]', \"N@N\", input.text.loc[i])\n",
        "\n",
        "  t = re.search('N@N', nantext)\n",
        "  t = str(t)\n",
        "  if t == 'None':\n",
        "    nantext = numpy.NaN\n",
        "  \n",
        "  input.text.loc[i] = nantext"
      ],
      "execution_count": null,
      "outputs": []
    },
    {
      "cell_type": "code",
      "metadata": {
        "id": "Gw2grcIPhpKG"
      },
      "source": [
        "import regex\n",
        "def compileB(text):\n",
        "  a = re.sub('-', ' ', text)\n",
        "  b = re.sub('\\n', ' ', a)\n",
        "  c = re.sub('\"', ' \" ', b)\n",
        "\n",
        "  d = re.sub('\\$', '$ ', c)\n",
        "  e = re.sub('£', ' ', d)\n",
        "\n",
        "  f = re.sub('\\(', '', e)\n",
        "  g = re.sub('\\)', '', f)\n",
        "  h = re.sub('/', '/ ', g)\n",
        "  i = re.sub('\\[\\[]]', '', h)\n",
        "  j = re.sub(':', ' : ', i)\n",
        "  k = re.sub('\\...', ' ... ', j)\n",
        "\n",
        "\n",
        "\n",
        "\n",
        "  x = re.sub('    ', ' ', k)\n",
        "  y = re.sub('   ', ' ', x)\n",
        "  z = re.sub('  ', ' ', y)\n",
        "  return z"
      ],
      "execution_count": null,
      "outputs": []
    },
    {
      "cell_type": "code",
      "metadata": {
        "id": "A-Bwbe9wlF2h"
      },
      "source": [
        "import regex\n",
        "def premodel(text):\n",
        "\n",
        "  a = re.sub('-', ' ', text)\n",
        "  c = re.sub('\"', ' \" ', b)\n",
        "\n",
        "  d = re.sub('$', '$ ', c)\n",
        "  e = re.sub('£', ' ', d)\n",
        "\n",
        "\n",
        "\n",
        "  x = re.sub('    ', ' ', w)\n",
        "  y = re.sub('   ', ' ', x)\n",
        "  z = re.sub('  ', ' ', y)\n",
        "  return e"
      ],
      "execution_count": null,
      "outputs": []
    },
    {
      "cell_type": "code",
      "metadata": {
        "id": "1BKTHYGHOqcg",
        "colab": {
          "base_uri": "https://localhost:8080/",
          "height": 124
        },
        "outputId": "08f72124-aea4-4fb0-b72d-f993686dee5b"
      },
      "source": [
        "for i in input.index:\n",
        "  t = input.text.loc[i]\n",
        "  input.text.loc[i] = compileB(t)"
      ],
      "execution_count": null,
      "outputs": [
        {
          "output_type": "stream",
          "text": [
            "/usr/local/lib/python3.6/dist-packages/pandas/core/indexing.py:670: SettingWithCopyWarning: \n",
            "A value is trying to be set on a copy of a slice from a DataFrame\n",
            "\n",
            "See the caveats in the documentation: https://pandas.pydata.org/pandas-docs/stable/user_guide/indexing.html#returning-a-view-versus-a-copy\n",
            "  iloc._setitem_with_indexer(indexer, value)\n"
          ],
          "name": "stderr"
        }
      ]
    },
    {
      "cell_type": "code",
      "metadata": {
        "id": "jpfhXC6aO8bh",
        "colab": {
          "base_uri": "https://localhost:8080/",
          "height": 424
        },
        "outputId": "f0dfb162-14b4-447a-9a18-81da95b06ce9"
      },
      "source": [
        "input"
      ],
      "execution_count": null,
      "outputs": [
        {
          "output_type": "execute_result",
          "data": {
            "text/html": [
              "<div>\n",
              "<style scoped>\n",
              "    .dataframe tbody tr th:only-of-type {\n",
              "        vertical-align: middle;\n",
              "    }\n",
              "\n",
              "    .dataframe tbody tr th {\n",
              "        vertical-align: top;\n",
              "    }\n",
              "\n",
              "    .dataframe thead th {\n",
              "        text-align: right;\n",
              "    }\n",
              "</style>\n",
              "<table border=\"1\" class=\"dataframe\">\n",
              "  <thead>\n",
              "    <tr style=\"text-align: right;\">\n",
              "      <th></th>\n",
              "      <th>isoffensive</th>\n",
              "      <th>text</th>\n",
              "    </tr>\n",
              "  </thead>\n",
              "  <tbody>\n",
              "    <tr>\n",
              "      <th>0</th>\n",
              "      <td>No</td>\n",
              "      <td>i'll talk to the others and probably just come...</td>\n",
              "    </tr>\n",
              "    <tr>\n",
              "      <th>1</th>\n",
              "      <td>Yes</td>\n",
              "      <td>wenn ich täglich diesen geistigen dünnschiss ü...</td>\n",
              "    </tr>\n",
              "    <tr>\n",
              "      <th>2</th>\n",
              "      <td>Yes</td>\n",
              "      <td>um eine brustverkleinerung zu bekommen, stehen...</td>\n",
              "    </tr>\n",
              "    <tr>\n",
              "      <th>3</th>\n",
              "      <td>No</td>\n",
              "      <td>how do you make a tissue dance?</td>\n",
              "    </tr>\n",
              "    <tr>\n",
              "      <th>4</th>\n",
              "      <td>No</td>\n",
              "      <td>'it's really over' : corporate pensions head f...</td>\n",
              "    </tr>\n",
              "    <tr>\n",
              "      <th>...</th>\n",
              "      <td>...</td>\n",
              "      <td>...</td>\n",
              "    </tr>\n",
              "    <tr>\n",
              "      <th>115244</th>\n",
              "      <td>Yes</td>\n",
              "      <td>gijaya neodo ingan ini?</td>\n",
              "    </tr>\n",
              "    <tr>\n",
              "      <th>115245</th>\n",
              "      <td>Yes</td>\n",
              "      <td>user all i heard was i'm a bitch nigga</td>\n",
              "    </tr>\n",
              "    <tr>\n",
              "      <th>115246</th>\n",
              "      <td>No</td>\n",
              "      <td>gaurakṣa ke nama para bhifa ekatra karake kisi...</td>\n",
              "    </tr>\n",
              "    <tr>\n",
              "      <th>115247</th>\n",
              "      <td>No</td>\n",
              "      <td>merkel hau ab die mehrheit der deutschen wünsc...</td>\n",
              "    </tr>\n",
              "    <tr>\n",
              "      <th>115248</th>\n",
              "      <td>Yes</td>\n",
              "      <td>bad bitchhes is the only thing that i like</td>\n",
              "    </tr>\n",
              "  </tbody>\n",
              "</table>\n",
              "<p>115249 rows × 2 columns</p>\n",
              "</div>"
            ],
            "text/plain": [
              "       isoffensive                                               text\n",
              "0               No  i'll talk to the others and probably just come...\n",
              "1              Yes  wenn ich täglich diesen geistigen dünnschiss ü...\n",
              "2              Yes  um eine brustverkleinerung zu bekommen, stehen...\n",
              "3               No                    how do you make a tissue dance?\n",
              "4               No  'it's really over' : corporate pensions head f...\n",
              "...            ...                                                ...\n",
              "115244         Yes                            gijaya neodo ingan ini?\n",
              "115245         Yes             user all i heard was i'm a bitch nigga\n",
              "115246          No  gaurakṣa ke nama para bhifa ekatra karake kisi...\n",
              "115247          No  merkel hau ab die mehrheit der deutschen wünsc...\n",
              "115248         Yes         bad bitchhes is the only thing that i like\n",
              "\n",
              "[115249 rows x 2 columns]"
            ]
          },
          "metadata": {
            "tags": []
          },
          "execution_count": 23
        }
      ]
    },
    {
      "cell_type": "code",
      "metadata": {
        "id": "vc01wlEPSD38"
      },
      "source": [
        "train = input[:100000]\n",
        "valid = input[-15249:]\n",
        "minival = input[5000:8000]\n",
        "\n",
        "minival.to_csv(\"/content/drive/My Drive/Glue Labs/Abuse Model 12/FINAL 10/minival.csv\")\n",
        "train.to_csv(\"/content/drive/My Drive/Glue Labs/Abuse Model 12/FINAL 10/train.csv\")\n",
        "valid.to_csv(\"/content/drive/My Drive/Glue Labs/Abuse Model 12/FINAL 10/valid.csv\")\n",
        "input.to_csv(\"/content/drive/My Drive/Glue Labs/Abuse Model 12/FINAL 10/input.csv\")\n"
      ],
      "execution_count": null,
      "outputs": []
    },
    {
      "cell_type": "code",
      "metadata": {
        "id": "F6uwmig4CiKQ"
      },
      "source": [
        ""
      ],
      "execution_count": null,
      "outputs": []
    },
    {
      "cell_type": "markdown",
      "metadata": {
        "id": "jJMcbglPdXVX"
      },
      "source": [
        "# Final Compile c"
      ]
    },
    {
      "cell_type": "code",
      "metadata": {
        "id": "o3VZfdSuffVn",
        "colab": {
          "base_uri": "https://localhost:8080/"
        },
        "outputId": "8bae0c50-573f-4282-e3ac-a02691a6efbf"
      },
      "source": [
        "!git clone https://github.com/RobertJGabriel/Google-profanity-words.git\n",
        "!git clone https://github.com/pmathur5k10/Hinglish-Offensive-Text-Classification.git\n",
        "!git clone https://github.com/khvorostin/useful-english-phrases.git"
      ],
      "execution_count": null,
      "outputs": [
        {
          "output_type": "stream",
          "text": [
            "fatal: destination path 'Google-profanity-words' already exists and is not an empty directory.\n",
            "Cloning into 'Hinglish-Offensive-Text-Classification'...\n",
            "remote: Enumerating objects: 21, done.\u001b[K\n",
            "remote: Total 21 (delta 0), reused 0 (delta 0), pack-reused 21\u001b[K\n",
            "Unpacking objects: 100% (21/21), done.\n"
          ],
          "name": "stdout"
        }
      ]
    },
    {
      "cell_type": "code",
      "metadata": {
        "id": "DRJuCoiTfrmm"
      },
      "source": [
        "abusivew = pd.read_csv(\"/content/Google-profanity-words/list.txt\", sep='\\n')\n",
        "abusivew.columns = ['text']\n",
        "list = pd.DataFrame(['Yes']*450, columns = ['isoffensive'])\n",
        "eng_abuse = pd.concat([list, abusivew], axis = 1)\n"
      ],
      "execution_count": null,
      "outputs": []
    },
    {
      "cell_type": "code",
      "metadata": {
        "id": "Attci8oH7OzR"
      },
      "source": [
        "# Adding some greetings in english:\n",
        "eng = pd.read_csv(\"/content/useful-english-phrases/09-conversational-phrases.txt\", sep='\\n')\n",
        "eng.columns = ['text']\n",
        "list = pd.DataFrame(['Yes']*939, columns = ['isoffensive'])\n",
        "eng1 = pd.concat([list, eng], axis = 1)"
      ],
      "execution_count": null,
      "outputs": []
    },
    {
      "cell_type": "code",
      "metadata": {
        "id": "4OYPPGbEf7xS",
        "colab": {
          "base_uri": "https://localhost:8080/"
        },
        "outputId": "2c167ab0-713d-420e-e6df-71fff5709aab"
      },
      "source": [
        "hingab = pd.read_csv(\"/content/Hinglish-Offensive-Text-Classification/Hinglish_Profanity_List.csv\", encoding= 'unicode_escape')\n",
        "hingab.columns = ['text', 'isoffensive', '0']\n",
        "\n",
        "for i in hingab.index:\n",
        "  hingab.isoffensive.loc[i] = 'Yes'\n",
        "\n",
        "hingab.drop(['0'], axis = 1, inplace = True)\n",
        "\n",
        "hingab = pd.concat([hingab['isoffensive'], hingab['text']], axis = 1)"
      ],
      "execution_count": null,
      "outputs": [
        {
          "output_type": "stream",
          "text": [
            "/usr/local/lib/python3.6/dist-packages/pandas/core/indexing.py:670: SettingWithCopyWarning: \n",
            "A value is trying to be set on a copy of a slice from a DataFrame\n",
            "\n",
            "See the caveats in the documentation: https://pandas.pydata.org/pandas-docs/stable/user_guide/indexing.html#returning-a-view-versus-a-copy\n",
            "  iloc._setitem_with_indexer(indexer, value)\n"
          ],
          "name": "stderr"
        }
      ]
    },
    {
      "cell_type": "code",
      "metadata": {
        "id": "PXG3Y5cOdWv1"
      },
      "source": [
        "input = pd.read_csv(\"/content/drive/My Drive/Glue Labs/Abuse Model 12/FINAL 10/input.csv\")\n"
      ],
      "execution_count": null,
      "outputs": []
    },
    {
      "cell_type": "code",
      "metadata": {
        "id": "Q3Mo-SjAjpVe"
      },
      "source": [
        "input.drop(['Unnamed: 0'], axis = 1, inplace = True)"
      ],
      "execution_count": null,
      "outputs": []
    },
    {
      "cell_type": "code",
      "metadata": {
        "id": "zZOYLnFXmiPh"
      },
      "source": [
        "input = input.dropna()"
      ],
      "execution_count": null,
      "outputs": []
    },
    {
      "cell_type": "code",
      "metadata": {
        "id": "x3DQPl9jjcEb"
      },
      "source": [
        "input = pd.concat([hingab, input, eng_abuse, eng1], axis = 0)"
      ],
      "execution_count": null,
      "outputs": []
    },
    {
      "cell_type": "code",
      "metadata": {
        "id": "CrX7LTb8dlaL"
      },
      "source": [
        "import regex\n",
        "def compileC(text):\n",
        "\n",
        "  a = re.sub('\\'', ' ', text)\n",
        "  c = re.sub('\"', '', a)\n",
        "\n",
        "  x = re.sub('    ', ' ', a)\n",
        "  y = re.sub('   ', ' ', x)\n",
        "  z = re.sub('  ', ' ', y)\n",
        "  return z"
      ],
      "execution_count": null,
      "outputs": []
    },
    {
      "cell_type": "code",
      "metadata": {
        "id": "VPVANQ2UmcKb",
        "colab": {
          "base_uri": "https://localhost:8080/"
        },
        "outputId": "0a45909c-66c4-4368-f640-c0a34df9d303"
      },
      "source": [
        "input.shape"
      ],
      "execution_count": null,
      "outputs": [
        {
          "output_type": "execute_result",
          "data": {
            "text/plain": [
              "(115907, 2)"
            ]
          },
          "metadata": {
            "tags": []
          },
          "execution_count": 52
        }
      ]
    },
    {
      "cell_type": "code",
      "metadata": {
        "id": "dD1TjQpwnBz_"
      },
      "source": [
        "input.index = range(input.shape[0])"
      ],
      "execution_count": null,
      "outputs": []
    },
    {
      "cell_type": "code",
      "metadata": {
        "id": "sQXi7i4Sdm7_"
      },
      "source": [
        "for i in input.index:\n",
        "  input.text.loc[i] = compileC(input.text.loc[i])"
      ],
      "execution_count": null,
      "outputs": []
    },
    {
      "cell_type": "code",
      "metadata": {
        "id": "61m9pcIs151-"
      },
      "source": [
        "input = input.sample(n = input.shape[0])\n",
        "input.index = range(input.shape[0])"
      ],
      "execution_count": null,
      "outputs": []
    },
    {
      "cell_type": "code",
      "metadata": {
        "id": "4_Wqnmadm2_t"
      },
      "source": [
        "train = input[:100000]\n",
        "valid = input[-15907:]\n",
        "minival = input[5000:8000]\n",
        "\n",
        "minival.to_csv(\"/content/drive/My Drive/Glue Labs/Abuse Model 13/input/minival.csv\")\n",
        "train.to_csv(\"/content/drive/My Drive/Glue Labs/Abuse Model 13/input/train.csv\")\n",
        "valid.to_csv(\"/content/drive/My Drive/Glue Labs/Abuse Model 13/input/valid.csv\")\n",
        "input.to_csv(\"/content/drive/My Drive/Glue Labs/Abuse Model 13/input/input.csv\")"
      ],
      "execution_count": null,
      "outputs": []
    }
  ]
}