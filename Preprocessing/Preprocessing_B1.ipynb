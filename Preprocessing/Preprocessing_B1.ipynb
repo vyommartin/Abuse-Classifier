{
  "nbformat": 4,
  "nbformat_minor": 0,
  "metadata": {
    "colab": {
      "name": "Preprocessing B1.ipynb",
      "provenance": [],
      "collapsed_sections": [
        "xYtW5Buhrcjo",
        "pGpSTiTOYAFS",
        "OmLkV5aM7Rz-",
        "L1arGAYLrxwc",
        "RResT3wH3JEv",
        "Yb0ocuHgCtsq",
        "1FJ8SkY_Ekcc",
        "11rzJVHbyqLZ",
        "ui2i_d7sav-I",
        "MgVSBxT5V8e3",
        "YNmtjpco59W9",
        "PlY3Ql2HGqsF",
        "sAi23BNy7_1p",
        "2p0cWG09G6uH",
        "aOmzLn_nkTWj",
        "U-UIivG2r61n",
        "P80QVcODn5w3",
        "jeGVB5vL8WL9",
        "T1cBYztVr_QT",
        "LR6dLDwoucEg",
        "IPMn2GHHvqnj",
        "gfwRGqRJypy4",
        "H2Qa-cS135Hn"
      ]
    },
    "kernelspec": {
      "display_name": "Python 3",
      "name": "python3"
    }
  },
  "cells": [
    {
      "cell_type": "markdown",
      "metadata": {
        "id": "xYtW5Buhrcjo"
      },
      "source": [
        "# Links\n",
        "These are the publicly available datasets used."
      ]
    },
    {
      "cell_type": "markdown",
      "metadata": {
        "id": "2v0x-99lsSvj"
      },
      "source": [
        "1) Characterizing and Detecting Hateful Users on Twitter \n",
        "\n",
        "*https://github.com/manoelhortaribeiro/HatefulUsersTwitter*\n",
        "\n",
        "\n",
        "2) Trac2 Hindi Dataset / JNU\n",
        "\n",
        "*https://drive.google.com/file/d/1MRRWK1t6gO-VoS0TevNK5fFl_dtZHJ_A/view*\n",
        "\n",
        "3) Hinglish-Offensive-Text-Classification / PKMATHUR\n",
        "\n",
        "*https://raw.githubusercontent.com/pmathur5k10/Hinglish-Offensive-Text-Classification/master/Hinglish_Profanity_List.csv*\n",
        "\n",
        "4) HAD dataset\n",
        "\n",
        "*https://github.com/vikaskumarjha9/hindi_abusive_dataset/blob/master/train.txt*"
      ]
    },
    {
      "cell_type": "markdown",
      "metadata": {
        "id": "pGpSTiTOYAFS"
      },
      "source": [
        "# Importing Stuff"
      ]
    },
    {
      "cell_type": "code",
      "metadata": {
        "id": "djGi5MBIX3_o",
        "colab": {
          "base_uri": "https://localhost:8080/"
        },
        "outputId": "8a661ef1-7b50-46a9-88a0-3af9dc2dc8e2"
      },
      "source": [
        "import pandas as pd\n",
        "import numpy as np\n",
        "from tqdm import tqdm\n",
        "\n",
        "import nltk\n",
        "from nltk.corpus import stopwords\n",
        "nltk.download('stopwords')\n",
        "nltk.download('punkt')\n",
        "from nltk.tokenize import word_tokenize"
      ],
      "execution_count": null,
      "outputs": [
        {
          "output_type": "stream",
          "text": [
            "[nltk_data] Downloading package stopwords to /root/nltk_data...\n",
            "[nltk_data]   Package stopwords is already up-to-date!\n",
            "[nltk_data] Downloading package punkt to /root/nltk_data...\n",
            "[nltk_data]   Package punkt is already up-to-date!\n"
          ],
          "name": "stdout"
        }
      ]
    },
    {
      "cell_type": "markdown",
      "metadata": {
        "id": "ohgtZM_oynXj"
      },
      "source": [
        "# Functions"
      ]
    },
    {
      "cell_type": "markdown",
      "metadata": {
        "id": "OmLkV5aM7Rz-"
      },
      "source": [
        "## Preprocess"
      ]
    },
    {
      "cell_type": "code",
      "metadata": {
        "id": "bdDy735I7R8j"
      },
      "source": [
        "import re\n",
        "\n",
        "def preprocess(text):\n",
        "  o = re.sub(r'\\\\', ' ', text)\n",
        "  k = re.sub(r'\\n', ' ', o)\n",
        "  l = re.sub(r'&', '', k)\n",
        "  m = re.sub(r'RT ', '', l)\n",
        "  n = re.sub(r'~', '', m)\n",
        "  o = re.sub(r'#', '', n)\n",
        "  p = re.sub(r'!+', '', o)\n",
        "  q = re.sub(r'(http[s]?\\S+)|(\\w+\\.[A-Za-z]{2,4}\\S*)', 'link', p)\n",
        "  r = re.sub(r'[*]', '', q)\n",
        "  s = re.sub(r'[@]\\w+', 'user', r)\n",
        "  t = re.sub(r'[:|;]', '', s)\n",
        "  u = re.sub(r'[\\\\x]\\W+|\\d', '', t)\n",
        "  v = re.sub(r'[\\\\x]\\W+|\\d', '', u)\n",
        "  w = re.sub(r'[\\\\x]\\w+', '', v)\n",
        "  x = re.sub(r'    ', ' ', w)\n",
        "  y = re.sub(r'   ', ' ', x)\n",
        "  z = re.sub(r'  ', ' ', y)\n",
        "  ProcessedTweet = z.lower()\n",
        "  return ProcessedTweet"
      ],
      "execution_count": null,
      "outputs": []
    },
    {
      "cell_type": "markdown",
      "metadata": {
        "id": "L1arGAYLrxwc"
      },
      "source": [
        "## Translate(and transliterate)"
      ]
    },
    {
      "cell_type": "code",
      "metadata": {
        "id": "UjF2XgAZeKOo"
      },
      "source": [
        "import requests, uuid, json\n",
        "def translate(text, language):\n",
        "\n",
        "# Add your subscription key and endpoint\n",
        "  subscription_key = \"cdb39eb4c2934bd1a79993564f5da906\"\n",
        "  endpoint = \"https://api.cognitive.microsofttranslator.com\"\n",
        "\n",
        "# Add your location, also known as region. The default is global.\n",
        "# This is required if using a Cognitive Services resource.\n",
        "  location = \"global\"\n",
        "\n",
        "  path = '/translate'\n",
        "  constructed_url = endpoint + path\n",
        "\n",
        "  params = {\n",
        "      'api-version': '3.0',\n",
        "      'from': 'en',\n",
        "      'to': [language],\n",
        "      'toScript': 'latn'\n",
        "  }\n",
        "  constructed_url = endpoint + path\n",
        "\n",
        "  headers = {\n",
        "    'Ocp-Apim-Subscription-Key': subscription_key,\n",
        "    'Ocp-Apim-Subscription-Region': location,\n",
        "    'Content-type': 'application/json',\n",
        "    'X-ClientTraceId': str(uuid.uuid4())\n",
        "  }\n",
        "\n",
        "# You can pass more than one object in body.\n",
        "  body = [{\n",
        "    'text': text\n",
        "  }]\n",
        "\n",
        "  request = requests.post(constructed_url, params=params, headers=headers, json=body)\n",
        "  response = request.json()\n",
        "\n",
        "  a = response\n",
        " # translated = a[0]['translations'][0]['transliteration']['text']\n",
        "  return response"
      ],
      "execution_count": null,
      "outputs": []
    },
    {
      "cell_type": "code",
      "metadata": {
        "colab": {
          "base_uri": "https://localhost:8080/"
        },
        "id": "uKKYAn1MAkzc",
        "outputId": "573c4ea9-963d-40da-9a6f-072dec8399c2"
      },
      "source": [
        "translate(\"hi hello\", \"hi\")"
      ],
      "execution_count": null,
      "outputs": [
        {
          "output_type": "execute_result",
          "data": {
            "text/plain": [
              "{'error': {'code': 403001,\n",
              "  'message': 'The operation is not allowed because the subscription has exceeded its free quota.'}}"
            ]
          },
          "metadata": {
            "tags": []
          },
          "execution_count": 18
        }
      ]
    },
    {
      "cell_type": "markdown",
      "metadata": {
        "id": "RResT3wH3JEv"
      },
      "source": [
        "## TranslateAll(Transliterated)"
      ]
    },
    {
      "cell_type": "code",
      "metadata": {
        "id": "XoAN2VGI3Igk"
      },
      "source": [
        "def translateall(df, language):\n",
        "  for i in tqdm(df.index):\n",
        "    a = df['0'].loc[i]\n",
        "\n",
        "    # Converting the texts to hindi:\n",
        "    b = translate(a, language)\n",
        "    df['0'].loc[i] = b\n",
        "  return df\n"
      ],
      "execution_count": null,
      "outputs": []
    },
    {
      "cell_type": "markdown",
      "metadata": {
        "id": "Yb0ocuHgCtsq"
      },
      "source": [
        "## Translate"
      ]
    },
    {
      "cell_type": "code",
      "metadata": {
        "id": "JCCVG-ZFCtGD"
      },
      "source": [
        "import requests, uuid, json\n",
        "def translate2(text, language):\n",
        "\n",
        "# Add your subscription key and endpoint\n",
        "  subscription_key = \"cdb39eb4c2934bd1a79993564f5da906\"\n",
        "  endpoint = \"https://api.cognitive.microsofttranslator.com\"\n",
        "\n",
        "# Add your location, also known as region. The default is global.\n",
        "# This is required if using a Cognitive Services resource.\n",
        "  location = \"global\"\n",
        "\n",
        "  path = '/translate'\n",
        "  constructed_url = endpoint + path\n",
        "\n",
        "  params = {\n",
        "      'api-version': '3.0',\n",
        "      'from': 'en',\n",
        "      'to': [language]\n",
        "  }\n",
        "  constructed_url = endpoint + path\n",
        "\n",
        "  headers = {\n",
        "    'Ocp-Apim-Subscription-Key': subscription_key,\n",
        "    'Ocp-Apim-Subscription-Region': location,\n",
        "    'Content-type': 'application/json',\n",
        "    'X-ClientTraceId': str(uuid.uuid4())\n",
        "  }\n",
        "\n",
        "# You can pass more than one object in body.\n",
        "  body = [{\n",
        "    'text': text\n",
        "  }]\n",
        "\n",
        "  request = requests.post(constructed_url, params=params, headers=headers, json=body)\n",
        "  response = request.json()\n",
        "\n",
        "  a = response\n",
        "  #translated = a[0]['translations'][0]['text']\n",
        "  return a#translated"
      ],
      "execution_count": null,
      "outputs": []
    },
    {
      "cell_type": "markdown",
      "metadata": {
        "id": "1FJ8SkY_Ekcc"
      },
      "source": [
        "## TranslateAll"
      ]
    },
    {
      "cell_type": "code",
      "metadata": {
        "id": "VdECWB5uEkcc"
      },
      "source": [
        "def translateall2(df, language):\n",
        "  for i in tqdm(df.index):\n",
        "    a = df['0'].loc[i]\n",
        "\n",
        "    # Converting the texts to hindi:\n",
        "    b = translate2(a, language)\n",
        "    df['0'].loc[i] = b\n",
        "  return df\n"
      ],
      "execution_count": null,
      "outputs": []
    },
    {
      "cell_type": "markdown",
      "metadata": {
        "id": "11rzJVHbyqLZ"
      },
      "source": [
        "## Concat Export"
      ]
    },
    {
      "cell_type": "code",
      "metadata": {
        "id": "wRnuJscLypuN"
      },
      "source": [
        "def concatexport(newdf, olddf, path):\n",
        "  df = pd.concat([olddf, newdf], axis = 0)\n",
        "  df = df.sample(n = df.shape[0])\n",
        "  df.index = range(df.shape[0])\n",
        "  df.to_csv(path)\n",
        "  return"
      ],
      "execution_count": null,
      "outputs": []
    },
    {
      "cell_type": "markdown",
      "metadata": {
        "id": "raqEP0lRP44T"
      },
      "source": [
        "## RemoveStopwords"
      ]
    },
    {
      "cell_type": "code",
      "metadata": {
        "id": "l7W-seDiP4cD"
      },
      "source": [
        "def removestopwords(text):\n",
        "\n",
        "  text_tokens = word_tokenize(text)\n",
        "\n",
        "  tokens_without_sw = [word for word in text_tokens if not word in stopwords.words()]\n",
        "\n",
        "  filtered_sentence = (\" \").join(tokens_without_sw)\n",
        "  return filtered_sentence"
      ],
      "execution_count": null,
      "outputs": []
    },
    {
      "cell_type": "markdown",
      "metadata": {
        "id": "ui2i_d7sav-I"
      },
      "source": [
        "# English"
      ]
    },
    {
      "cell_type": "code",
      "metadata": {
        "colab": {
          "base_uri": "https://localhost:8080/",
          "height": 386
        },
        "id": "m9gY-WFIakBw",
        "outputId": "6c0f4b9a-8002-4a10-9628-d3b6ba6efdb7"
      },
      "source": [
        "english = pd.read_csv(\"/content/drive/MyDrive/Glue Labs/Abuse Model 15/Data/english.csv\")\n",
        "english.drop(['Unnamed: 0'], axis = 1, inplace = True)\n",
        "english.head(11)"
      ],
      "execution_count": null,
      "outputs": [
        {
          "output_type": "execute_result",
          "data": {
            "text/html": [
              "<div>\n",
              "<style scoped>\n",
              "    .dataframe tbody tr th:only-of-type {\n",
              "        vertical-align: middle;\n",
              "    }\n",
              "\n",
              "    .dataframe tbody tr th {\n",
              "        vertical-align: top;\n",
              "    }\n",
              "\n",
              "    .dataframe thead th {\n",
              "        text-align: right;\n",
              "    }\n",
              "</style>\n",
              "<table border=\"1\" class=\"dataframe\">\n",
              "  <thead>\n",
              "    <tr style=\"text-align: right;\">\n",
              "      <th></th>\n",
              "      <th>0</th>\n",
              "      <th>1</th>\n",
              "    </tr>\n",
              "  </thead>\n",
              "  <tbody>\n",
              "    <tr>\n",
              "      <th>0</th>\n",
              "      <td>love you brother</td>\n",
              "      <td>0.0</td>\n",
              "    </tr>\n",
              "    <tr>\n",
              "      <th>1</th>\n",
              "      <td>good job man i'm with you</td>\n",
              "      <td>0.0</td>\n",
              "    </tr>\n",
              "    <tr>\n",
              "      <th>2</th>\n",
              "      <td>user singh thank</td>\n",
              "      <td>0.0</td>\n",
              "    </tr>\n",
              "    <tr>\n",
              "      <th>3</th>\n",
              "      <td>vicary is really a good vicary.</td>\n",
              "      <td>0.0</td>\n",
              "    </tr>\n",
              "    <tr>\n",
              "      <th>4</th>\n",
              "      <td>hlooo</td>\n",
              "      <td>0.0</td>\n",
              "    </tr>\n",
              "    <tr>\n",
              "      <th>5</th>\n",
              "      <td>great video! thank you √∞¬ü¬ô¬è</td>\n",
              "      <td>0.0</td>\n",
              "    </tr>\n",
              "    <tr>\n",
              "      <th>6</th>\n",
              "      <td>nicetip</td>\n",
              "      <td>0.0</td>\n",
              "    </tr>\n",
              "    <tr>\n",
              "      <th>7</th>\n",
              "      <td>[](link what a sarcastic e 😂😂😂😂😂</td>\n",
              "      <td>0.0</td>\n",
              "    </tr>\n",
              "    <tr>\n",
              "      <th>8</th>\n",
              "      <td>super</td>\n",
              "      <td>0.0</td>\n",
              "    </tr>\n",
              "    <tr>\n",
              "      <th>9</th>\n",
              "      <td>people are scared of change and things they do...</td>\n",
              "      <td>0.0</td>\n",
              "    </tr>\n",
              "    <tr>\n",
              "      <th>10</th>\n",
              "      <td>please review agent sai sreenivasa athreya tel...</td>\n",
              "      <td>0.0</td>\n",
              "    </tr>\n",
              "  </tbody>\n",
              "</table>\n",
              "</div>"
            ],
            "text/plain": [
              "                                                    0    1\n",
              "0                                    love you brother  0.0\n",
              "1                           good job man i'm with you  0.0\n",
              "2                                    user singh thank  0.0\n",
              "3                     vicary is really a good vicary.  0.0\n",
              "4                                               hlooo  0.0\n",
              "5                     great video! thank you √∞¬ü¬ô¬è  0.0\n",
              "6                                             nicetip  0.0\n",
              "7                    [](link what a sarcastic e 😂😂😂😂😂  0.0\n",
              "8                                               super  0.0\n",
              "9   people are scared of change and things they do...  0.0\n",
              "10  please review agent sai sreenivasa athreya tel...  0.0"
            ]
          },
          "metadata": {
            "tags": []
          },
          "execution_count": 8
        }
      ]
    },
    {
      "cell_type": "markdown",
      "metadata": {
        "id": "FuvdM2vICZCj"
      },
      "source": [
        "### Adding *trac2* Dataset"
      ]
    },
    {
      "cell_type": "code",
      "metadata": {
        "id": "vN_dooAkAd2W"
      },
      "source": [
        "concatexport(p, english, \"/content/drive/MyDrive/Glue Labs/Abuse Model 15/Data/english.csv\")"
      ],
      "execution_count": null,
      "outputs": []
    },
    {
      "cell_type": "markdown",
      "metadata": {
        "id": "MgVSBxT5V8e3"
      },
      "source": [
        "# Hindi"
      ]
    },
    {
      "cell_type": "code",
      "metadata": {
        "id": "nkU1X1OBcT72"
      },
      "source": [
        "hindi = ethos.copy()\n",
        "\n",
        "for i in hindi.index:\n",
        "  a = hindi['0'].loc[i]\n",
        "\n",
        "  # Converting the texts to hindi:\n",
        "  hi = translate(a, 'hi')\n",
        "  hindi['0'].loc[i] = hi\n",
        "  \n",
        "hindi.to_csv(\"/content/drive/MyDrive/Glue Labs/Abuse Model 15/Data/hindi.csv\")\n",
        "hindi.head(11)"
      ],
      "execution_count": null,
      "outputs": []
    },
    {
      "cell_type": "markdown",
      "metadata": {
        "id": "tYRK53L83BUJ"
      },
      "source": [
        "### Adding Lexicon_Bad_words:"
      ]
    },
    {
      "cell_type": "code",
      "metadata": {
        "id": "3p2qOhlR5UwM"
      },
      "source": [
        "# Importing:\n",
        "lbw = pd.read_csv(\"/content/drive/MyDrive/Glue Labs/Abuse Model 15/Data/Originals/lexicon_badwords.csv\")\n",
        "hindi = pd.read_csv(\"/content/drive/MyDrive/Glue Labs/Abuse Model 15/Data/hindi.csv\")\n",
        "\n",
        "lbw.drop(['Unnamed: 0'], axis = 1, inplace = True)\n",
        "hindi.drop(['Unnamed: 0'], axis = 1, inplace = True)"
      ],
      "execution_count": null,
      "outputs": []
    },
    {
      "cell_type": "code",
      "metadata": {
        "id": "BmdJUP0y4kdg"
      },
      "source": [
        "lbw = translateall(lbw, 'hi')\n",
        "concatexport(lbw, hindi, \"/content/drive/MyDrive/Glue Labs/Abuse Model 15/Data/hindi.csv\")"
      ],
      "execution_count": null,
      "outputs": []
    },
    {
      "cell_type": "markdown",
      "metadata": {
        "id": "DadqCv4yE6Kf"
      },
      "source": [
        "### Adding trac2:"
      ]
    },
    {
      "cell_type": "code",
      "metadata": {
        "id": "K3S48P1sE74m"
      },
      "source": [
        "# Importing:\n",
        "trac2 = pd.read_csv(\"/content/drive/MyDrive/Glue Labs/Abuse Model 15/Data/Originals/trac2.csv\")\n",
        "hindi = pd.read_csv(\"/content/drive/MyDrive/Glue Labs/Abuse Model 15/Data/hindi.csv\")\n",
        "\n",
        "trac2.drop(['Unnamed: 0'], axis = 1, inplace = True)\n",
        "hindi.drop(['Unnamed: 0'], axis = 1, inplace = True)"
      ],
      "execution_count": null,
      "outputs": []
    },
    {
      "cell_type": "code",
      "metadata": {
        "colab": {
          "base_uri": "https://localhost:8080/"
        },
        "id": "i9yhnMWiE74m",
        "outputId": "a587ff09-66e5-4911-a731-d17e714f643f"
      },
      "source": [
        "trac2 = translateall(trac2, 'hi')\n",
        "concatexport(trac2, hindi, \"/content/um\")#\"/content/drive/MyDrive/Glue Labs/Abuse Model 15/Data/hindi.csv\")"
      ],
      "execution_count": null,
      "outputs": [
        {
          "output_type": "stream",
          "text": [
            "  0%|          | 0/4263 [00:00<?, ?it/s]/usr/local/lib/python3.6/dist-packages/pandas/core/indexing.py:670: SettingWithCopyWarning: \n",
            "A value is trying to be set on a copy of a slice from a DataFrame\n",
            "\n",
            "See the caveats in the documentation: https://pandas.pydata.org/pandas-docs/stable/user_guide/indexing.html#returning-a-view-versus-a-copy\n",
            "  iloc._setitem_with_indexer(indexer, value)\n",
            "100%|██████████| 4263/4263 [11:21<00:00,  6.25it/s]\n"
          ],
          "name": "stderr"
        }
      ]
    },
    {
      "cell_type": "markdown",
      "metadata": {
        "id": "sBcqrYyaiIWQ"
      },
      "source": [
        "# Tamil"
      ]
    },
    {
      "cell_type": "code",
      "metadata": {
        "id": "O8-RiE57iGzg"
      },
      "source": [
        "tamil = ethos.copy()\n",
        "\n",
        "for i in tqdm(tamil.index):\n",
        "  t = tamil['0'].loc[i]\n",
        "\n",
        "  translated = translate(t, 'ta')\n",
        "  tamil['0'].loc[i] = translated\n",
        "\n",
        "tamil.to_csv(\"/content/drive/MyDrive/Glue Labs/Abuse Model 15/Data/tamil.csv\")\n",
        "tamil.head(11)"
      ],
      "execution_count": null,
      "outputs": []
    },
    {
      "cell_type": "markdown",
      "metadata": {
        "id": "YNmtjpco59W9"
      },
      "source": [
        "### Adding Lexicon_Bad_words:"
      ]
    },
    {
      "cell_type": "code",
      "metadata": {
        "id": "crn5yC2Q59W9"
      },
      "source": [
        "# Importing:\n",
        "lbw = pd.read_csv(\"/content/drive/MyDrive/Glue Labs/Abuse Model 15/Data/Originals/lexicon_badwords.csv\")\n",
        "tamil = pd.read_csv(\"/content/drive/MyDrive/Glue Labs/Abuse Model 15/Data/tamil.csv\")\n",
        "\n",
        "lbw.drop(['Unnamed: 0'], axis = 1, inplace = True)\n",
        "tamil.drop(['Unnamed: 0'], axis = 1, inplace = True)"
      ],
      "execution_count": null,
      "outputs": []
    },
    {
      "cell_type": "code",
      "metadata": {
        "id": "pxpTbByC59W-"
      },
      "source": [
        "lbw = translateall(lbw, 'ta')\n",
        "concatexport(lbw, tamil, \"/content/drive/MyDrive/Glue Labs/Abuse Model 15/Data/tamil.csv\")"
      ],
      "execution_count": null,
      "outputs": []
    },
    {
      "cell_type": "markdown",
      "metadata": {
        "id": "PlY3Ql2HGqsF"
      },
      "source": [
        "### Adding trac2:"
      ]
    },
    {
      "cell_type": "code",
      "metadata": {
        "id": "n6l-EhpFGsUl"
      },
      "source": [
        "# Importing:\n",
        "trac2 = pd.read_csv(\"/content/drive/MyDrive/Glue Labs/Abuse Model 15/Data/Originals/trac2.csv\")\n",
        "tamil = pd.read_csv(\"/content/drive/MyDrive/Glue Labs/Abuse Model 15/Data/tamil.csv\")\n",
        "\n",
        "trac2.drop(['Unnamed: 0'], axis = 1, inplace = True)\n",
        "tamil.drop(['Unnamed: 0'], axis = 1, inplace = True)"
      ],
      "execution_count": null,
      "outputs": []
    },
    {
      "cell_type": "code",
      "metadata": {
        "colab": {
          "base_uri": "https://localhost:8080/"
        },
        "id": "Yhyykz_8GsUl",
        "outputId": "44263cb3-de6f-476a-d0df-884601c5b11e"
      },
      "source": [
        "trac2 = translateall(trac2, 'ta')\n",
        "concatexport(trac2, tamil, \"/content/drive/MyDrive/Glue Labs/Abuse Model 15/Data/tamil.csv\")"
      ],
      "execution_count": null,
      "outputs": [
        {
          "output_type": "stream",
          "text": [
            "\r  0%|          | 0/4263 [00:00<?, ?it/s]/usr/local/lib/python3.6/dist-packages/pandas/core/indexing.py:670: SettingWithCopyWarning: \n",
            "A value is trying to be set on a copy of a slice from a DataFrame\n",
            "\n",
            "See the caveats in the documentation: https://pandas.pydata.org/pandas-docs/stable/user_guide/indexing.html#returning-a-view-versus-a-copy\n",
            "  iloc._setitem_with_indexer(indexer, value)\n",
            "100%|██████████| 4263/4263 [10:40<00:00,  6.65it/s]\n"
          ],
          "name": "stderr"
        }
      ]
    },
    {
      "cell_type": "markdown",
      "metadata": {
        "id": "X7W0IhN_V_ws"
      },
      "source": [
        "# Telugu*"
      ]
    },
    {
      "cell_type": "code",
      "metadata": {
        "colab": {
          "base_uri": "https://localhost:8080/",
          "height": 510
        },
        "id": "DBsBzwYN6fB1",
        "outputId": "ec0d6568-b173-4cf4-bd68-bae1e653812a"
      },
      "source": [
        "telugu = english.copy()\n",
        "\n",
        "for i in tqdm(telugu.index):\n",
        "  t = telugu['0'].iloc[i]\n",
        "\n",
        "  # Converting the texts to telugu:\n",
        "  te = translate2(t, 'te')\n",
        "  telugu['0'].iloc[i] = te\n",
        "\n",
        "telugu.to_csv(\"/content/drive/MyDrive/Glue Labs/Abuse Model 15/Data/telugu.csv\")\n",
        "telugu.head(11)"
      ],
      "execution_count": null,
      "outputs": [
        {
          "output_type": "stream",
          "text": [
            "  0%|          | 0/5261 [00:00<?, ?it/s]/usr/local/lib/python3.6/dist-packages/pandas/core/indexing.py:670: SettingWithCopyWarning: \n",
            "A value is trying to be set on a copy of a slice from a DataFrame\n",
            "\n",
            "See the caveats in the documentation: https://pandas.pydata.org/pandas-docs/stable/user_guide/indexing.html#returning-a-view-versus-a-copy\n",
            "  iloc._setitem_with_indexer(indexer, value)\n",
            "100%|██████████| 5261/5261 [13:07<00:00,  6.68it/s]\n"
          ],
          "name": "stderr"
        },
        {
          "output_type": "execute_result",
          "data": {
            "text/html": [
              "<div>\n",
              "<style scoped>\n",
              "    .dataframe tbody tr th:only-of-type {\n",
              "        vertical-align: middle;\n",
              "    }\n",
              "\n",
              "    .dataframe tbody tr th {\n",
              "        vertical-align: top;\n",
              "    }\n",
              "\n",
              "    .dataframe thead th {\n",
              "        text-align: right;\n",
              "    }\n",
              "</style>\n",
              "<table border=\"1\" class=\"dataframe\">\n",
              "  <thead>\n",
              "    <tr style=\"text-align: right;\">\n",
              "      <th></th>\n",
              "      <th>0</th>\n",
              "      <th>1</th>\n",
              "    </tr>\n",
              "  </thead>\n",
              "  <tbody>\n",
              "    <tr>\n",
              "      <th>0</th>\n",
              "      <td>[{'translations': [{'text': 'ప్రేమించు బ్రదర్'...</td>\n",
              "      <td>0.0</td>\n",
              "    </tr>\n",
              "    <tr>\n",
              "      <th>1</th>\n",
              "      <td>[{'translations': [{'text': 'మంచి పని మనిషి నే...</td>\n",
              "      <td>0.0</td>\n",
              "    </tr>\n",
              "    <tr>\n",
              "      <th>2</th>\n",
              "      <td>[{'translations': [{'text': 'user singh ధన్యవా...</td>\n",
              "      <td>0.0</td>\n",
              "    </tr>\n",
              "    <tr>\n",
              "      <th>3</th>\n",
              "      <td>[{'translations': [{'text': 'viccary నిజంగా ఒక...</td>\n",
              "      <td>0.0</td>\n",
              "    </tr>\n",
              "    <tr>\n",
              "      <th>4</th>\n",
              "      <td>[{'translations': [{'text': 'hlooo', 'to': 'te...</td>\n",
              "      <td>0.0</td>\n",
              "    </tr>\n",
              "    <tr>\n",
              "      <th>5</th>\n",
              "      <td>[{'translations': [{'text': 'గొప్ప వీడియో! ధన్...</td>\n",
              "      <td>0.0</td>\n",
              "    </tr>\n",
              "    <tr>\n",
              "      <th>6</th>\n",
              "      <td>[{'translations': [{'text': 'nicetip', 'to': '...</td>\n",
              "      <td>0.0</td>\n",
              "    </tr>\n",
              "    <tr>\n",
              "      <th>7</th>\n",
              "      <td>[{'translations': [{'text': '[](ఏ వ్యంగ్యం తో ...</td>\n",
              "      <td>0.0</td>\n",
              "    </tr>\n",
              "    <tr>\n",
              "      <th>8</th>\n",
              "      <td>[{'translations': [{'text': 'సూపర్', 'to': 'te...</td>\n",
              "      <td>0.0</td>\n",
              "    </tr>\n",
              "    <tr>\n",
              "      <th>9</th>\n",
              "      <td>[{'translations': [{'text': 'ప్రజలు మార్పు మరి...</td>\n",
              "      <td>0.0</td>\n",
              "    </tr>\n",
              "    <tr>\n",
              "      <th>10</th>\n",
              "      <td>[{'translations': [{'text': 'దయచేసి రివ్యూ ఏజె...</td>\n",
              "      <td>0.0</td>\n",
              "    </tr>\n",
              "  </tbody>\n",
              "</table>\n",
              "</div>"
            ],
            "text/plain": [
              "                                                    0    1\n",
              "0   [{'translations': [{'text': 'ప్రేమించు బ్రదర్'...  0.0\n",
              "1   [{'translations': [{'text': 'మంచి పని మనిషి నే...  0.0\n",
              "2   [{'translations': [{'text': 'user singh ధన్యవా...  0.0\n",
              "3   [{'translations': [{'text': 'viccary నిజంగా ఒక...  0.0\n",
              "4   [{'translations': [{'text': 'hlooo', 'to': 'te...  0.0\n",
              "5   [{'translations': [{'text': 'గొప్ప వీడియో! ధన్...  0.0\n",
              "6   [{'translations': [{'text': 'nicetip', 'to': '...  0.0\n",
              "7   [{'translations': [{'text': '[](ఏ వ్యంగ్యం తో ...  0.0\n",
              "8   [{'translations': [{'text': 'సూపర్', 'to': 'te...  0.0\n",
              "9   [{'translations': [{'text': 'ప్రజలు మార్పు మరి...  0.0\n",
              "10  [{'translations': [{'text': 'దయచేసి రివ్యూ ఏజె...  0.0"
            ]
          },
          "metadata": {
            "tags": []
          },
          "execution_count": 112
        }
      ]
    },
    {
      "cell_type": "markdown",
      "metadata": {
        "id": "sAi23BNy7_1p"
      },
      "source": [
        "### Adding Lexicon_Bad_words:"
      ]
    },
    {
      "cell_type": "code",
      "metadata": {
        "id": "8tJ84Ra-7_1q"
      },
      "source": [
        "# Importing:\n",
        "trac2 = pd.read_csv(\"/content/drive/MyDrive/Glue Labs/Abuse Model 15/Data/Originals/trac2.csv\")\n",
        "telugu = pd.read_csv(\"/content/drive/MyDrive/Glue Labs/Abuse Model 15/Data/telugu.csv\")\n",
        "\n",
        "trac2.drop(['Unnamed: 0'], axis = 1, inplace = True)\n",
        "telugu.drop(['Unnamed: 0'], axis = 1, inplace = True)"
      ],
      "execution_count": null,
      "outputs": []
    },
    {
      "cell_type": "code",
      "metadata": {
        "id": "pZyjx0-c7_1q"
      },
      "source": [
        "trac2 = translateall(trac2, 'te')\n",
        "concatexport(lbw, telugu, \"/content/drive/MyDrive/Glue Labs/Abuse Model 15/Data/telugu.csv\")"
      ],
      "execution_count": null,
      "outputs": []
    },
    {
      "cell_type": "markdown",
      "metadata": {
        "id": "2p0cWG09G6uH"
      },
      "source": [
        "### Adding trac2:"
      ]
    },
    {
      "cell_type": "code",
      "metadata": {
        "id": "gC8ZlNSCG8kv"
      },
      "source": [
        "# Importing:\n",
        "trac2 = pd.read_csv(\"/content/drive/MyDrive/Glue Labs/Abuse Model 15/Data/Originals/trac2.csv\")\n",
        "telugu = pd.read_csv(\"/content/drive/MyDrive/Glue Labs/Abuse Model 15/Data/telugu.csv\")\n",
        "\n",
        "trac2.drop(['Unnamed: 0'], axis = 1, inplace = True)\n",
        "telugu.drop(['Unnamed: 0'], axis = 1, inplace = True)"
      ],
      "execution_count": null,
      "outputs": []
    },
    {
      "cell_type": "code",
      "metadata": {
        "id": "euhoXVv4G8kv"
      },
      "source": [
        "trac2 = translateall(trac2, 'ta')\n",
        "concatexport(trac2, telugu, \"/content/drive/MyDrive/Glue Labs/Abuse Model 15/Data/telugu.csv\")"
      ],
      "execution_count": null,
      "outputs": []
    },
    {
      "cell_type": "markdown",
      "metadata": {
        "id": "aOmzLn_nkTWj"
      },
      "source": [
        "# Korean *"
      ]
    },
    {
      "cell_type": "code",
      "metadata": {
        "colab": {
          "base_uri": "https://localhost:8080/"
        },
        "id": "UKdcM_UHnT-n",
        "outputId": "cd188612-f0cc-470a-b238-33c768247c8e"
      },
      "source": [
        "translate('hi how are you', 'ko')"
      ],
      "execution_count": null,
      "outputs": [
        {
          "output_type": "execute_result",
          "data": {
            "text/plain": [
              "{'error': {'code': 400004, 'message': 'The target script is not valid.'}}"
            ]
          },
          "metadata": {
            "tags": []
          },
          "execution_count": 64
        }
      ]
    },
    {
      "cell_type": "code",
      "metadata": {
        "id": "LOUaCuV3kSGO"
      },
      "source": [
        "korean = ethos.copy()\n",
        "\n",
        "for i in tqdm(korean.index):\n",
        "  t = korean['0'].iloc[i]\n",
        "\n",
        "  # Converting the texts to korean:\n",
        "  ko = translate(t, 'ko')\n",
        "  korean['0'].iloc[i] = ko\n",
        "\n",
        "korean.to_csv(\"/content/drive/MyDrive/Glue Labs/Abuse Model 15/Data/korean.csv\")\n",
        "korean.head(11)"
      ],
      "execution_count": null,
      "outputs": []
    },
    {
      "cell_type": "markdown",
      "metadata": {
        "id": "7SFPvXA1L1OF"
      },
      "source": [
        "### Adding trac2:"
      ]
    },
    {
      "cell_type": "code",
      "metadata": {
        "id": "4-C7i5xKL40T"
      },
      "source": [
        ""
      ],
      "execution_count": null,
      "outputs": []
    },
    {
      "cell_type": "markdown",
      "metadata": {
        "id": "U-UIivG2r61n"
      },
      "source": [
        "# French*"
      ]
    },
    {
      "cell_type": "code",
      "metadata": {
        "colab": {
          "base_uri": "https://localhost:8080/",
          "height": 35
        },
        "id": "J8qXEA7ar61p",
        "outputId": "d3184a11-1f36-467d-d391-61e86891777a"
      },
      "source": [
        "translate('hi how are you', 'fr').lower()"
      ],
      "execution_count": null,
      "outputs": [
        {
          "output_type": "execute_result",
          "data": {
            "application/vnd.google.colaboratory.intrinsic+json": {
              "type": "string"
            },
            "text/plain": [
              "'salut comment vas-tu'"
            ]
          },
          "metadata": {
            "tags": []
          },
          "execution_count": 15
        }
      ]
    },
    {
      "cell_type": "code",
      "metadata": {
        "colab": {
          "base_uri": "https://localhost:8080/",
          "height": 490
        },
        "id": "HX1Udiyqr61z",
        "outputId": "b0092ba7-3290-47dc-c609-2443213c877e"
      },
      "source": [
        "french = ethos.copy()\n",
        "\n",
        "for i in tqdm(french.index):\n",
        "  t = french['0'].loc[i]\n",
        "\n",
        "  translated = translate(t, 'fr')\n",
        "  french['0'].loc[i] = translated.lower()\n",
        "\n",
        "french.to_csv(\"/content/drive/MyDrive/Glue Labs/Abuse Model 15/Data/french.csv\")\n",
        "french.head(11)"
      ],
      "execution_count": null,
      "outputs": [
        {
          "output_type": "stream",
          "text": [
            "  0%|          | 0/998 [00:00<?, ?it/s]/usr/local/lib/python3.6/dist-packages/pandas/core/indexing.py:670: SettingWithCopyWarning: \n",
            "A value is trying to be set on a copy of a slice from a DataFrame\n",
            "\n",
            "See the caveats in the documentation: https://pandas.pydata.org/pandas-docs/stable/user_guide/indexing.html#returning-a-view-versus-a-copy\n",
            "  iloc._setitem_with_indexer(indexer, value)\n",
            "100%|██████████| 998/998 [03:16<00:00,  5.09it/s]\n"
          ],
          "name": "stderr"
        },
        {
          "output_type": "execute_result",
          "data": {
            "text/html": [
              "<div>\n",
              "<style scoped>\n",
              "    .dataframe tbody tr th:only-of-type {\n",
              "        vertical-align: middle;\n",
              "    }\n",
              "\n",
              "    .dataframe tbody tr th {\n",
              "        vertical-align: top;\n",
              "    }\n",
              "\n",
              "    .dataframe thead th {\n",
              "        text-align: right;\n",
              "    }\n",
              "</style>\n",
              "<table border=\"1\" class=\"dataframe\">\n",
              "  <thead>\n",
              "    <tr style=\"text-align: right;\">\n",
              "      <th></th>\n",
              "      <th>0</th>\n",
              "      <th>1</th>\n",
              "    </tr>\n",
              "  </thead>\n",
              "  <tbody>\n",
              "    <tr>\n",
              "      <th>0</th>\n",
              "      <td>vous devriez savoir que les sports féminins so...</td>\n",
              "      <td>1.0</td>\n",
              "    </tr>\n",
              "    <tr>\n",
              "      <th>1</th>\n",
              "      <td>vous ressemblez à paresseux avec le syndrome d...</td>\n",
              "      <td>1.0</td>\n",
              "    </tr>\n",
              "    <tr>\n",
              "      <th>2</th>\n",
              "      <td>vous ressemblez à russe et parlez comme des in...</td>\n",
              "      <td>1.0</td>\n",
              "    </tr>\n",
              "    <tr>\n",
              "      <th>3</th>\n",
              "      <td>les femmes méritent d’être maltraitées, je sup...</td>\n",
              "      <td>1.0</td>\n",
              "    </tr>\n",
              "    <tr>\n",
              "      <th>4</th>\n",
              "      <td>les femmes sont faites pour faire des bébés et...</td>\n",
              "      <td>1.0</td>\n",
              "    </tr>\n",
              "    <tr>\n",
              "      <th>5</th>\n",
              "      <td>pourquoi n’avez-vous pas pédés pris la bi-pilu...</td>\n",
              "      <td>1.0</td>\n",
              "    </tr>\n",
              "    <tr>\n",
              "      <th>6</th>\n",
              "      <td>pourquoi n’allez-vous pas faire appel à votre ...</td>\n",
              "      <td>1.0</td>\n",
              "    </tr>\n",
              "    <tr>\n",
              "      <th>7</th>\n",
              "      <td>pourquoi ce singe afro-américain tient-il une ...</td>\n",
              "      <td>1.0</td>\n",
              "    </tr>\n",
              "    <tr>\n",
              "      <th>8</th>\n",
              "      <td>pourquoi la bulgarie existe-t-elle en tant que...</td>\n",
              "      <td>1.0</td>\n",
              "    </tr>\n",
              "    <tr>\n",
              "      <th>9</th>\n",
              "      <td>pourquoi les nègres détruisent-ils leurs propr...</td>\n",
              "      <td>1.0</td>\n",
              "    </tr>\n",
              "    <tr>\n",
              "      <th>10</th>\n",
              "      <td>qui donne aa fuck sur les diamants merde des j...</td>\n",
              "      <td>1.0</td>\n",
              "    </tr>\n",
              "  </tbody>\n",
              "</table>\n",
              "</div>"
            ],
            "text/plain": [
              "                                                    0    1\n",
              "0   vous devriez savoir que les sports féminins so...  1.0\n",
              "1   vous ressemblez à paresseux avec le syndrome d...  1.0\n",
              "2   vous ressemblez à russe et parlez comme des in...  1.0\n",
              "3   les femmes méritent d’être maltraitées, je sup...  1.0\n",
              "4   les femmes sont faites pour faire des bébés et...  1.0\n",
              "5   pourquoi n’avez-vous pas pédés pris la bi-pilu...  1.0\n",
              "6   pourquoi n’allez-vous pas faire appel à votre ...  1.0\n",
              "7   pourquoi ce singe afro-américain tient-il une ...  1.0\n",
              "8   pourquoi la bulgarie existe-t-elle en tant que...  1.0\n",
              "9   pourquoi les nègres détruisent-ils leurs propr...  1.0\n",
              "10  qui donne aa fuck sur les diamants merde des j...  1.0"
            ]
          },
          "metadata": {
            "tags": []
          },
          "execution_count": 16
        }
      ]
    },
    {
      "cell_type": "markdown",
      "metadata": {
        "id": "P80QVcODn5w3"
      },
      "source": [
        "# Chinese*"
      ]
    },
    {
      "cell_type": "code",
      "metadata": {
        "colab": {
          "base_uri": "https://localhost:8080/"
        },
        "id": "drn-iSJDn6Lw",
        "outputId": "7e59acbe-42e5-4476-9793-18f8661b440f"
      },
      "source": [
        "translate('hi how are you', 'zh-Hans')"
      ],
      "execution_count": null,
      "outputs": [
        {
          "output_type": "execute_result",
          "data": {
            "text/plain": [
              "[{'translations': [{'text': '嗨，你好吗',\n",
              "    'to': 'zh-Hans',\n",
              "    'transliteration': {'script': 'Latn', 'text': 'hāi ， nǐ hǎo ma'}}]}]"
            ]
          },
          "metadata": {
            "tags": []
          },
          "execution_count": 65
        }
      ]
    },
    {
      "cell_type": "code",
      "metadata": {
        "colab": {
          "base_uri": "https://localhost:8080/",
          "height": 510
        },
        "id": "2epGqSM8n6L1",
        "outputId": "65a052c5-c2b8-4c27-d031-d0cf4c6f9a34"
      },
      "source": [
        "chinese = ethos.copy()\n",
        "\n",
        "for i in tqdm(chinese.index):\n",
        "  t = chinese['0'].iloc[i]\n",
        "\n",
        "  # Converting the texts to korean:\n",
        "  ch = translate(t, 'zh-Hans')\n",
        "  chinese['0'].iloc[i] = ch\n",
        "\n",
        "chinese.to_csv(\"/content/drive/MyDrive/Glue Labs/Abuse Model 15/Data/chinese.csv\")\n",
        "chinese.head(11)"
      ],
      "execution_count": null,
      "outputs": [
        {
          "output_type": "stream",
          "text": [
            "  0%|          | 0/998 [00:00<?, ?it/s]/usr/local/lib/python3.6/dist-packages/pandas/core/indexing.py:670: SettingWithCopyWarning: \n",
            "A value is trying to be set on a copy of a slice from a DataFrame\n",
            "\n",
            "See the caveats in the documentation: https://pandas.pydata.org/pandas-docs/stable/user_guide/indexing.html#returning-a-view-versus-a-copy\n",
            "  iloc._setitem_with_indexer(indexer, value)\n",
            "100%|██████████| 998/998 [12:07<00:00,  1.37it/s]\n"
          ],
          "name": "stderr"
        },
        {
          "output_type": "execute_result",
          "data": {
            "text/html": [
              "<div>\n",
              "<style scoped>\n",
              "    .dataframe tbody tr th:only-of-type {\n",
              "        vertical-align: middle;\n",
              "    }\n",
              "\n",
              "    .dataframe tbody tr th {\n",
              "        vertical-align: top;\n",
              "    }\n",
              "\n",
              "    .dataframe thead th {\n",
              "        text-align: right;\n",
              "    }\n",
              "</style>\n",
              "<table border=\"1\" class=\"dataframe\">\n",
              "  <thead>\n",
              "    <tr style=\"text-align: right;\">\n",
              "      <th></th>\n",
              "      <th>0</th>\n",
              "      <th>1</th>\n",
              "    </tr>\n",
              "  </thead>\n",
              "  <tbody>\n",
              "    <tr>\n",
              "      <th>0</th>\n",
              "      <td>nǐ yīng gāi zhī dào nǚ zǐ yùn dòng shì gè xiào...</td>\n",
              "      <td>1.0</td>\n",
              "    </tr>\n",
              "    <tr>\n",
              "      <th>1</th>\n",
              "      <td>nǐ kàn qǐ lái xiàng shù lǎn yǔ gèng shēn de xi...</td>\n",
              "      <td>1.0</td>\n",
              "    </tr>\n",
              "    <tr>\n",
              "      <th>2</th>\n",
              "      <td>nǐ kàn qǐ lái xiàng é luó sī rén ， shuō huà xi...</td>\n",
              "      <td>1.0</td>\n",
              "    </tr>\n",
              "    <tr>\n",
              "      <th>3</th>\n",
              "      <td>nǚ rén yīng gāi bèi nuè dài ， wǒ cāi 。</td>\n",
              "      <td>1.0</td>\n",
              "    </tr>\n",
              "    <tr>\n",
              "      <th>4</th>\n",
              "      <td>nǚ rén shì wèi shēng hái zi hé zuò fàn ér zuò ...</td>\n",
              "      <td>1.0</td>\n",
              "    </tr>\n",
              "    <tr>\n",
              "      <th>5</th>\n",
              "      <td>wèi shén me nǐ hái méi yǒu cǎi qǔ shuāng yào wán</td>\n",
              "      <td>1.0</td>\n",
              "    </tr>\n",
              "    <tr>\n",
              "      <th>6</th>\n",
              "      <td>nǐ wèi shén me bú qù zhāo hu nǐ de shàng dì mó...</td>\n",
              "      <td>1.0</td>\n",
              "    </tr>\n",
              "    <tr>\n",
              "      <th>7</th>\n",
              "      <td>wèi shén me nà gè fēi zhōu yì měi guó hóu zi n...</td>\n",
              "      <td>1.0</td>\n",
              "    </tr>\n",
              "    <tr>\n",
              "      <th>8</th>\n",
              "      <td>wèi shén me bǎo jiā lì yà zuò wéi yí gè guó ji...</td>\n",
              "      <td>1.0</td>\n",
              "    </tr>\n",
              "    <tr>\n",
              "      <th>9</th>\n",
              "      <td>wèi shén me dāng yí gè hēi rén bào tú bèi zhí ...</td>\n",
              "      <td>1.0</td>\n",
              "    </tr>\n",
              "    <tr>\n",
              "      <th>10</th>\n",
              "      <td>shuí gěi yí gè tā mā de nǐ gǒu shǐ zuàn shí có...</td>\n",
              "      <td>1.0</td>\n",
              "    </tr>\n",
              "  </tbody>\n",
              "</table>\n",
              "</div>"
            ],
            "text/plain": [
              "                                                    0    1\n",
              "0   nǐ yīng gāi zhī dào nǚ zǐ yùn dòng shì gè xiào...  1.0\n",
              "1   nǐ kàn qǐ lái xiàng shù lǎn yǔ gèng shēn de xi...  1.0\n",
              "2   nǐ kàn qǐ lái xiàng é luó sī rén ， shuō huà xi...  1.0\n",
              "3              nǚ rén yīng gāi bèi nuè dài ， wǒ cāi 。  1.0\n",
              "4   nǚ rén shì wèi shēng hái zi hé zuò fàn ér zuò ...  1.0\n",
              "5    wèi shén me nǐ hái méi yǒu cǎi qǔ shuāng yào wán  1.0\n",
              "6   nǐ wèi shén me bú qù zhāo hu nǐ de shàng dì mó...  1.0\n",
              "7   wèi shén me nà gè fēi zhōu yì měi guó hóu zi n...  1.0\n",
              "8   wèi shén me bǎo jiā lì yà zuò wéi yí gè guó ji...  1.0\n",
              "9   wèi shén me dāng yí gè hēi rén bào tú bèi zhí ...  1.0\n",
              "10  shuí gěi yí gè tā mā de nǐ gǒu shǐ zuàn shí có...  1.0"
            ]
          },
          "metadata": {
            "tags": []
          },
          "execution_count": 67
        }
      ]
    },
    {
      "cell_type": "markdown",
      "metadata": {
        "id": "jeGVB5vL8WL9"
      },
      "source": [
        "### Adding Lexicon_Bad_words:"
      ]
    },
    {
      "cell_type": "code",
      "metadata": {
        "id": "DfKsRs2D8WL9"
      },
      "source": [
        "# Importing:\n",
        "lbw = pd.read_csv(\"/content/drive/MyDrive/Glue Labs/Abuse Model 15/Data/Originals/lexicon_badwords.csv\")\n",
        "chinese = pd.read_csv(\"/content/drive/MyDrive/Glue Labs/Abuse Model 15/Data/chinese.csv\")\n",
        "\n",
        "lbw.drop(['Unnamed: 0'], axis = 1, inplace = True)\n",
        "chinese.drop(['Unnamed: 0'], axis = 1, inplace = True)"
      ],
      "execution_count": null,
      "outputs": []
    },
    {
      "cell_type": "code",
      "metadata": {
        "colab": {
          "background_save": true
        },
        "id": "E30LEaka8WL9"
      },
      "source": [
        "lbw = translateall(lbw, 'zh-Hans')\n",
        "concatexport(lbw, chinese, \"/content/drive/MyDrive/Glue Labs/Abuse Model 15/Data/chinese.csv\")"
      ],
      "execution_count": null,
      "outputs": []
    },
    {
      "cell_type": "markdown",
      "metadata": {
        "id": "QQlLggrSJWXK"
      },
      "source": [
        "### Adding trac2:"
      ]
    },
    {
      "cell_type": "code",
      "metadata": {
        "id": "84PZaV6WJbep"
      },
      "source": [
        "# Importing:\n",
        "trac2 = pd.read_csv(\"/content/drive/MyDrive/Glue Labs/Abuse Model 15/Data/Originals/trac2.csv\")\n",
        "chinese = pd.read_csv(\"/content/drive/MyDrive/Glue Labs/Abuse Model 15/Data/chinese.csv\")\n",
        "\n",
        "trac2.drop(['Unnamed: 0'], axis = 1, inplace = True)\n",
        "chinese.drop(['Unnamed: 0'], axis = 1, inplace = True)"
      ],
      "execution_count": null,
      "outputs": []
    },
    {
      "cell_type": "code",
      "metadata": {
        "colab": {
          "base_uri": "https://localhost:8080/",
          "height": 1000
        },
        "id": "QxXxFLGXJbep",
        "outputId": "b7a77973-027f-46dc-ec64-2a9fd76c1132"
      },
      "source": [
        "trac2 = translateall(trac2, 'zh-Hans')\n",
        "concatexport(trac2, chinese, \"/content/drive/MyDrive/Glue Labs/Abuse Model 15/Data/chinese.csv\")"
      ],
      "execution_count": null,
      "outputs": [
        {
          "output_type": "stream",
          "text": [
            "\n",
            "  0%|          | 0/4263 [00:00<?, ?it/s]\n"
          ],
          "name": "stderr"
        },
        {
          "output_type": "error",
          "ename": "ValueError",
          "evalue": "ignored",
          "traceback": [
            "\u001b[0;31m---------------------------------------------------------------------------\u001b[0m",
            "\u001b[0;31mKeyError\u001b[0m                                  Traceback (most recent call last)",
            "\u001b[0;32m/usr/local/lib/python3.6/dist-packages/pandas/core/generic.py\u001b[0m in \u001b[0;36m_get_axis_number\u001b[0;34m(cls, axis)\u001b[0m\n\u001b[1;32m    367\u001b[0m         \u001b[0;32mtry\u001b[0m\u001b[0;34m:\u001b[0m\u001b[0;34m\u001b[0m\u001b[0;34m\u001b[0m\u001b[0m\n\u001b[0;32m--> 368\u001b[0;31m             \u001b[0;32mreturn\u001b[0m \u001b[0mcls\u001b[0m\u001b[0;34m.\u001b[0m\u001b[0m_AXIS_TO_AXIS_NUMBER\u001b[0m\u001b[0;34m[\u001b[0m\u001b[0maxis\u001b[0m\u001b[0;34m]\u001b[0m\u001b[0;34m\u001b[0m\u001b[0;34m\u001b[0m\u001b[0m\n\u001b[0m\u001b[1;32m    369\u001b[0m         \u001b[0;32mexcept\u001b[0m \u001b[0mKeyError\u001b[0m\u001b[0;34m:\u001b[0m\u001b[0;34m\u001b[0m\u001b[0;34m\u001b[0m\u001b[0m\n",
            "\u001b[0;31mKeyError\u001b[0m: 1",
            "\nDuring handling of the above exception, another exception occurred:\n",
            "\u001b[0;31mValueError\u001b[0m                                Traceback (most recent call last)",
            "\u001b[0;32m<ipython-input-115-b86fab386ff2>\u001b[0m in \u001b[0;36m<module>\u001b[0;34m()\u001b[0m\n\u001b[0;32m----> 1\u001b[0;31m \u001b[0mtrac2\u001b[0m \u001b[0;34m=\u001b[0m \u001b[0mtranslateall\u001b[0m\u001b[0;34m(\u001b[0m\u001b[0mtrac2\u001b[0m\u001b[0;34m,\u001b[0m \u001b[0;34m'zh-Hans'\u001b[0m\u001b[0;34m)\u001b[0m\u001b[0;34m\u001b[0m\u001b[0;34m\u001b[0m\u001b[0m\n\u001b[0m\u001b[1;32m      2\u001b[0m \u001b[0mconcatexport\u001b[0m\u001b[0;34m(\u001b[0m\u001b[0mtrac2\u001b[0m\u001b[0;34m,\u001b[0m \u001b[0mchinese\u001b[0m\u001b[0;34m,\u001b[0m \u001b[0;34m\"/content/drive/MyDrive/Glue Labs/Abuse Model 15/Data/chinese.csv\"\u001b[0m\u001b[0;34m)\u001b[0m\u001b[0;34m\u001b[0m\u001b[0;34m\u001b[0m\u001b[0m\n",
            "\u001b[0;32m<ipython-input-81-2a03b208641a>\u001b[0m in \u001b[0;36mtranslateall\u001b[0;34m(df, language)\u001b[0m\n\u001b[1;32m      5\u001b[0m     \u001b[0;31m# Converting the texts to hindi:\u001b[0m\u001b[0;34m\u001b[0m\u001b[0;34m\u001b[0m\u001b[0;34m\u001b[0m\u001b[0m\n\u001b[1;32m      6\u001b[0m     \u001b[0mb\u001b[0m \u001b[0;34m=\u001b[0m \u001b[0mtranslate\u001b[0m\u001b[0;34m(\u001b[0m\u001b[0ma\u001b[0m\u001b[0;34m,\u001b[0m \u001b[0mlanguage\u001b[0m\u001b[0;34m)\u001b[0m\u001b[0;34m\u001b[0m\u001b[0;34m\u001b[0m\u001b[0m\n\u001b[0;32m----> 7\u001b[0;31m     \u001b[0mdf\u001b[0m\u001b[0;34m[\u001b[0m\u001b[0;34m'0'\u001b[0m\u001b[0;34m]\u001b[0m\u001b[0;34m.\u001b[0m\u001b[0mloc\u001b[0m\u001b[0;34m[\u001b[0m\u001b[0mi\u001b[0m\u001b[0;34m]\u001b[0m \u001b[0;34m=\u001b[0m \u001b[0mb\u001b[0m\u001b[0;34m\u001b[0m\u001b[0;34m\u001b[0m\u001b[0m\n\u001b[0m\u001b[1;32m      8\u001b[0m   \u001b[0;32mreturn\u001b[0m \u001b[0mdf\u001b[0m\u001b[0;34m\u001b[0m\u001b[0;34m\u001b[0m\u001b[0m\n",
            "\u001b[0;32m/usr/local/lib/python3.6/dist-packages/pandas/core/indexing.py\u001b[0m in \u001b[0;36m__setitem__\u001b[0;34m(self, key, value)\u001b[0m\n\u001b[1;32m    668\u001b[0m \u001b[0;34m\u001b[0m\u001b[0m\n\u001b[1;32m    669\u001b[0m         \u001b[0miloc\u001b[0m \u001b[0;34m=\u001b[0m \u001b[0mself\u001b[0m \u001b[0;32mif\u001b[0m \u001b[0mself\u001b[0m\u001b[0;34m.\u001b[0m\u001b[0mname\u001b[0m \u001b[0;34m==\u001b[0m \u001b[0;34m\"iloc\"\u001b[0m \u001b[0;32melse\u001b[0m \u001b[0mself\u001b[0m\u001b[0;34m.\u001b[0m\u001b[0mobj\u001b[0m\u001b[0;34m.\u001b[0m\u001b[0miloc\u001b[0m\u001b[0;34m\u001b[0m\u001b[0;34m\u001b[0m\u001b[0m\n\u001b[0;32m--> 670\u001b[0;31m         \u001b[0miloc\u001b[0m\u001b[0;34m.\u001b[0m\u001b[0m_setitem_with_indexer\u001b[0m\u001b[0;34m(\u001b[0m\u001b[0mindexer\u001b[0m\u001b[0;34m,\u001b[0m \u001b[0mvalue\u001b[0m\u001b[0;34m)\u001b[0m\u001b[0;34m\u001b[0m\u001b[0;34m\u001b[0m\u001b[0m\n\u001b[0m\u001b[1;32m    671\u001b[0m \u001b[0;34m\u001b[0m\u001b[0m\n\u001b[1;32m    672\u001b[0m     \u001b[0;32mdef\u001b[0m \u001b[0m_validate_key\u001b[0m\u001b[0;34m(\u001b[0m\u001b[0mself\u001b[0m\u001b[0;34m,\u001b[0m \u001b[0mkey\u001b[0m\u001b[0;34m,\u001b[0m \u001b[0maxis\u001b[0m\u001b[0;34m:\u001b[0m \u001b[0mint\u001b[0m\u001b[0;34m)\u001b[0m\u001b[0;34m:\u001b[0m\u001b[0;34m\u001b[0m\u001b[0;34m\u001b[0m\u001b[0m\n",
            "\u001b[0;32m/usr/local/lib/python3.6/dist-packages/pandas/core/indexing.py\u001b[0m in \u001b[0;36m_setitem_with_indexer\u001b[0;34m(self, indexer, value)\u001b[0m\n\u001b[1;32m   1788\u001b[0m                 \u001b[0;31m# setting for extensionarrays that store dicts. Need to decide\u001b[0m\u001b[0;34m\u001b[0m\u001b[0;34m\u001b[0m\u001b[0;34m\u001b[0m\u001b[0m\n\u001b[1;32m   1789\u001b[0m                 \u001b[0;31m# if it's worth supporting that.\u001b[0m\u001b[0;34m\u001b[0m\u001b[0;34m\u001b[0m\u001b[0;34m\u001b[0m\u001b[0m\n\u001b[0;32m-> 1790\u001b[0;31m                 \u001b[0mvalue\u001b[0m \u001b[0;34m=\u001b[0m \u001b[0mself\u001b[0m\u001b[0;34m.\u001b[0m\u001b[0m_align_series\u001b[0m\u001b[0;34m(\u001b[0m\u001b[0mindexer\u001b[0m\u001b[0;34m,\u001b[0m \u001b[0mSeries\u001b[0m\u001b[0;34m(\u001b[0m\u001b[0mvalue\u001b[0m\u001b[0;34m)\u001b[0m\u001b[0;34m)\u001b[0m\u001b[0;34m\u001b[0m\u001b[0;34m\u001b[0m\u001b[0m\n\u001b[0m\u001b[1;32m   1791\u001b[0m \u001b[0;34m\u001b[0m\u001b[0m\n\u001b[1;32m   1792\u001b[0m             \u001b[0;32melif\u001b[0m \u001b[0misinstance\u001b[0m\u001b[0;34m(\u001b[0m\u001b[0mvalue\u001b[0m\u001b[0;34m,\u001b[0m \u001b[0mABCDataFrame\u001b[0m\u001b[0;34m)\u001b[0m\u001b[0;34m:\u001b[0m\u001b[0;34m\u001b[0m\u001b[0;34m\u001b[0m\u001b[0m\n",
            "\u001b[0;32m/usr/local/lib/python3.6/dist-packages/pandas/core/indexing.py\u001b[0m in \u001b[0;36m_align_series\u001b[0;34m(self, indexer, ser, multiindex_indexer)\u001b[0m\n\u001b[1;32m   1943\u001b[0m \u001b[0;34m\u001b[0m\u001b[0m\n\u001b[1;32m   1944\u001b[0m         \u001b[0;32melif\u001b[0m \u001b[0mis_scalar\u001b[0m\u001b[0;34m(\u001b[0m\u001b[0mindexer\u001b[0m\u001b[0;34m)\u001b[0m\u001b[0;34m:\u001b[0m\u001b[0;34m\u001b[0m\u001b[0;34m\u001b[0m\u001b[0m\n\u001b[0;32m-> 1945\u001b[0;31m             \u001b[0max\u001b[0m \u001b[0;34m=\u001b[0m \u001b[0mself\u001b[0m\u001b[0;34m.\u001b[0m\u001b[0mobj\u001b[0m\u001b[0;34m.\u001b[0m\u001b[0m_get_axis\u001b[0m\u001b[0;34m(\u001b[0m\u001b[0;36m1\u001b[0m\u001b[0;34m)\u001b[0m\u001b[0;34m\u001b[0m\u001b[0;34m\u001b[0m\u001b[0m\n\u001b[0m\u001b[1;32m   1946\u001b[0m \u001b[0;34m\u001b[0m\u001b[0m\n\u001b[1;32m   1947\u001b[0m             \u001b[0;32mif\u001b[0m \u001b[0mser\u001b[0m\u001b[0;34m.\u001b[0m\u001b[0mindex\u001b[0m\u001b[0;34m.\u001b[0m\u001b[0mequals\u001b[0m\u001b[0;34m(\u001b[0m\u001b[0max\u001b[0m\u001b[0;34m)\u001b[0m\u001b[0;34m:\u001b[0m\u001b[0;34m\u001b[0m\u001b[0;34m\u001b[0m\u001b[0m\n",
            "\u001b[0;32m/usr/local/lib/python3.6/dist-packages/pandas/core/generic.py\u001b[0m in \u001b[0;36m_get_axis\u001b[0;34m(self, axis)\u001b[0m\n\u001b[1;32m    376\u001b[0m \u001b[0;34m\u001b[0m\u001b[0m\n\u001b[1;32m    377\u001b[0m     \u001b[0;32mdef\u001b[0m \u001b[0m_get_axis\u001b[0m\u001b[0;34m(\u001b[0m\u001b[0mself\u001b[0m\u001b[0;34m,\u001b[0m \u001b[0maxis\u001b[0m\u001b[0;34m:\u001b[0m \u001b[0mAxis\u001b[0m\u001b[0;34m)\u001b[0m \u001b[0;34m->\u001b[0m \u001b[0mIndex\u001b[0m\u001b[0;34m:\u001b[0m\u001b[0;34m\u001b[0m\u001b[0;34m\u001b[0m\u001b[0m\n\u001b[0;32m--> 378\u001b[0;31m         \u001b[0maxis_number\u001b[0m \u001b[0;34m=\u001b[0m \u001b[0mself\u001b[0m\u001b[0;34m.\u001b[0m\u001b[0m_get_axis_number\u001b[0m\u001b[0;34m(\u001b[0m\u001b[0maxis\u001b[0m\u001b[0;34m)\u001b[0m\u001b[0;34m\u001b[0m\u001b[0;34m\u001b[0m\u001b[0m\n\u001b[0m\u001b[1;32m    379\u001b[0m         \u001b[0;32massert\u001b[0m \u001b[0maxis_number\u001b[0m \u001b[0;32min\u001b[0m \u001b[0;34m{\u001b[0m\u001b[0;36m0\u001b[0m\u001b[0;34m,\u001b[0m \u001b[0;36m1\u001b[0m\u001b[0;34m}\u001b[0m\u001b[0;34m\u001b[0m\u001b[0;34m\u001b[0m\u001b[0m\n\u001b[1;32m    380\u001b[0m         \u001b[0;32mreturn\u001b[0m \u001b[0mself\u001b[0m\u001b[0;34m.\u001b[0m\u001b[0mindex\u001b[0m \u001b[0;32mif\u001b[0m \u001b[0maxis_number\u001b[0m \u001b[0;34m==\u001b[0m \u001b[0;36m0\u001b[0m \u001b[0;32melse\u001b[0m \u001b[0mself\u001b[0m\u001b[0;34m.\u001b[0m\u001b[0mcolumns\u001b[0m\u001b[0;34m\u001b[0m\u001b[0;34m\u001b[0m\u001b[0m\n",
            "\u001b[0;32m/usr/local/lib/python3.6/dist-packages/pandas/core/generic.py\u001b[0m in \u001b[0;36m_get_axis_number\u001b[0;34m(cls, axis)\u001b[0m\n\u001b[1;32m    368\u001b[0m             \u001b[0;32mreturn\u001b[0m \u001b[0mcls\u001b[0m\u001b[0;34m.\u001b[0m\u001b[0m_AXIS_TO_AXIS_NUMBER\u001b[0m\u001b[0;34m[\u001b[0m\u001b[0maxis\u001b[0m\u001b[0;34m]\u001b[0m\u001b[0;34m\u001b[0m\u001b[0;34m\u001b[0m\u001b[0m\n\u001b[1;32m    369\u001b[0m         \u001b[0;32mexcept\u001b[0m \u001b[0mKeyError\u001b[0m\u001b[0;34m:\u001b[0m\u001b[0;34m\u001b[0m\u001b[0;34m\u001b[0m\u001b[0m\n\u001b[0;32m--> 370\u001b[0;31m             \u001b[0;32mraise\u001b[0m \u001b[0mValueError\u001b[0m\u001b[0;34m(\u001b[0m\u001b[0;34mf\"No axis named {axis} for object type {cls.__name__}\"\u001b[0m\u001b[0;34m)\u001b[0m\u001b[0;34m\u001b[0m\u001b[0;34m\u001b[0m\u001b[0m\n\u001b[0m\u001b[1;32m    371\u001b[0m \u001b[0;34m\u001b[0m\u001b[0m\n\u001b[1;32m    372\u001b[0m     \u001b[0;34m@\u001b[0m\u001b[0mclassmethod\u001b[0m\u001b[0;34m\u001b[0m\u001b[0;34m\u001b[0m\u001b[0m\n",
            "\u001b[0;31mValueError\u001b[0m: No axis named 1 for object type Series"
          ]
        }
      ]
    },
    {
      "cell_type": "markdown",
      "metadata": {
        "id": "T1cBYztVr_QT"
      },
      "source": [
        "# French *"
      ]
    },
    {
      "cell_type": "code",
      "metadata": {
        "colab": {
          "base_uri": "https://localhost:8080/",
          "height": 35
        },
        "id": "9Obg5w6Gr_QW",
        "outputId": "352fa74f-84d6-4948-c935-d5c4faee956f"
      },
      "source": [
        "translate('hi how are you', 'fr').lower()"
      ],
      "execution_count": null,
      "outputs": [
        {
          "output_type": "execute_result",
          "data": {
            "application/vnd.google.colaboratory.intrinsic+json": {
              "type": "string"
            },
            "text/plain": [
              "'hello sukhamano'"
            ]
          },
          "metadata": {
            "tags": []
          },
          "execution_count": 70
        }
      ]
    },
    {
      "cell_type": "code",
      "metadata": {
        "colab": {
          "base_uri": "https://localhost:8080/",
          "height": 490
        },
        "id": "rnYFwHhAr_Qd",
        "outputId": "b0092ba7-3290-47dc-c609-2443213c877e"
      },
      "source": [
        "french = ethos.copy()\n",
        "\n",
        "for i in tqdm(french.index):\n",
        "  t = french['0'].loc[i]\n",
        "\n",
        "  translated = translate(t, 'fr')\n",
        "  french['0'].loc[i] = translated.lower()\n",
        "\n",
        "french.to_csv(\"/content/drive/MyDrive/Glue Labs/Abuse Model 15/Data/french.csv\")\n",
        "french.head(11)"
      ],
      "execution_count": null,
      "outputs": [
        {
          "output_type": "stream",
          "text": [
            "  0%|          | 0/998 [00:00<?, ?it/s]/usr/local/lib/python3.6/dist-packages/pandas/core/indexing.py:670: SettingWithCopyWarning: \n",
            "A value is trying to be set on a copy of a slice from a DataFrame\n",
            "\n",
            "See the caveats in the documentation: https://pandas.pydata.org/pandas-docs/stable/user_guide/indexing.html#returning-a-view-versus-a-copy\n",
            "  iloc._setitem_with_indexer(indexer, value)\n",
            "100%|██████████| 998/998 [03:16<00:00,  5.09it/s]\n"
          ],
          "name": "stderr"
        },
        {
          "output_type": "execute_result",
          "data": {
            "text/html": [
              "<div>\n",
              "<style scoped>\n",
              "    .dataframe tbody tr th:only-of-type {\n",
              "        vertical-align: middle;\n",
              "    }\n",
              "\n",
              "    .dataframe tbody tr th {\n",
              "        vertical-align: top;\n",
              "    }\n",
              "\n",
              "    .dataframe thead th {\n",
              "        text-align: right;\n",
              "    }\n",
              "</style>\n",
              "<table border=\"1\" class=\"dataframe\">\n",
              "  <thead>\n",
              "    <tr style=\"text-align: right;\">\n",
              "      <th></th>\n",
              "      <th>0</th>\n",
              "      <th>1</th>\n",
              "    </tr>\n",
              "  </thead>\n",
              "  <tbody>\n",
              "    <tr>\n",
              "      <th>0</th>\n",
              "      <td>vous devriez savoir que les sports féminins so...</td>\n",
              "      <td>1.0</td>\n",
              "    </tr>\n",
              "    <tr>\n",
              "      <th>1</th>\n",
              "      <td>vous ressemblez à paresseux avec le syndrome d...</td>\n",
              "      <td>1.0</td>\n",
              "    </tr>\n",
              "    <tr>\n",
              "      <th>2</th>\n",
              "      <td>vous ressemblez à russe et parlez comme des in...</td>\n",
              "      <td>1.0</td>\n",
              "    </tr>\n",
              "    <tr>\n",
              "      <th>3</th>\n",
              "      <td>les femmes méritent d’être maltraitées, je sup...</td>\n",
              "      <td>1.0</td>\n",
              "    </tr>\n",
              "    <tr>\n",
              "      <th>4</th>\n",
              "      <td>les femmes sont faites pour faire des bébés et...</td>\n",
              "      <td>1.0</td>\n",
              "    </tr>\n",
              "    <tr>\n",
              "      <th>5</th>\n",
              "      <td>pourquoi n’avez-vous pas pédés pris la bi-pilu...</td>\n",
              "      <td>1.0</td>\n",
              "    </tr>\n",
              "    <tr>\n",
              "      <th>6</th>\n",
              "      <td>pourquoi n’allez-vous pas faire appel à votre ...</td>\n",
              "      <td>1.0</td>\n",
              "    </tr>\n",
              "    <tr>\n",
              "      <th>7</th>\n",
              "      <td>pourquoi ce singe afro-américain tient-il une ...</td>\n",
              "      <td>1.0</td>\n",
              "    </tr>\n",
              "    <tr>\n",
              "      <th>8</th>\n",
              "      <td>pourquoi la bulgarie existe-t-elle en tant que...</td>\n",
              "      <td>1.0</td>\n",
              "    </tr>\n",
              "    <tr>\n",
              "      <th>9</th>\n",
              "      <td>pourquoi les nègres détruisent-ils leurs propr...</td>\n",
              "      <td>1.0</td>\n",
              "    </tr>\n",
              "    <tr>\n",
              "      <th>10</th>\n",
              "      <td>qui donne aa fuck sur les diamants merde des j...</td>\n",
              "      <td>1.0</td>\n",
              "    </tr>\n",
              "  </tbody>\n",
              "</table>\n",
              "</div>"
            ],
            "text/plain": [
              "                                                    0    1\n",
              "0   vous devriez savoir que les sports féminins so...  1.0\n",
              "1   vous ressemblez à paresseux avec le syndrome d...  1.0\n",
              "2   vous ressemblez à russe et parlez comme des in...  1.0\n",
              "3   les femmes méritent d’être maltraitées, je sup...  1.0\n",
              "4   les femmes sont faites pour faire des bébés et...  1.0\n",
              "5   pourquoi n’avez-vous pas pédés pris la bi-pilu...  1.0\n",
              "6   pourquoi n’allez-vous pas faire appel à votre ...  1.0\n",
              "7   pourquoi ce singe afro-américain tient-il une ...  1.0\n",
              "8   pourquoi la bulgarie existe-t-elle en tant que...  1.0\n",
              "9   pourquoi les nègres détruisent-ils leurs propr...  1.0\n",
              "10  qui donne aa fuck sur les diamants merde des j...  1.0"
            ]
          },
          "metadata": {
            "tags": []
          },
          "execution_count": 16
        }
      ]
    },
    {
      "cell_type": "markdown",
      "metadata": {
        "id": "LR6dLDwoucEg"
      },
      "source": [
        "# Malayalam*"
      ]
    },
    {
      "cell_type": "code",
      "metadata": {
        "colab": {
          "base_uri": "https://localhost:8080/",
          "height": 35
        },
        "id": "ENE1pfrHucEv",
        "outputId": "47eb320d-f66f-4f4a-8f52-80d191087eca"
      },
      "source": [
        "translate('hi how are you', 'ml')"
      ],
      "execution_count": null,
      "outputs": [
        {
          "output_type": "execute_result",
          "data": {
            "application/vnd.google.colaboratory.intrinsic+json": {
              "type": "string"
            },
            "text/plain": [
              "'hello sukhamano'"
            ]
          },
          "metadata": {
            "tags": []
          },
          "execution_count": 71
        }
      ]
    },
    {
      "cell_type": "code",
      "metadata": {
        "colab": {
          "base_uri": "https://localhost:8080/",
          "height": 510
        },
        "id": "Z5Z_ExZOucE9",
        "outputId": "64bdd475-75d0-4443-c192-19aa89f04c1a"
      },
      "source": [
        "malayalam = ethos.copy()\n",
        "\n",
        "for i in tqdm(malayalam.index):\n",
        "  t = malayalam['0'].iloc[i]\n",
        "\n",
        "  # Converting the texts to korean:\n",
        "  ml = translate(t, 'ml')\n",
        "  malayalam['0'].iloc[i] = ml\n",
        "\n",
        "malayalam.to_csv(\"/content/drive/MyDrive/Glue Labs/Abuse Model 15/Data/malayalam.csv\")\n",
        "malayalam.head(11)"
      ],
      "execution_count": null,
      "outputs": [
        {
          "output_type": "stream",
          "text": [
            "  0%|          | 0/998 [00:00<?, ?it/s]/usr/local/lib/python3.6/dist-packages/pandas/core/indexing.py:670: SettingWithCopyWarning: \n",
            "A value is trying to be set on a copy of a slice from a DataFrame\n",
            "\n",
            "See the caveats in the documentation: https://pandas.pydata.org/pandas-docs/stable/user_guide/indexing.html#returning-a-view-versus-a-copy\n",
            "  iloc._setitem_with_indexer(indexer, value)\n",
            "100%|██████████| 998/998 [12:56<00:00,  1.29it/s]\n"
          ],
          "name": "stderr"
        },
        {
          "output_type": "execute_result",
          "data": {
            "text/html": [
              "<div>\n",
              "<style scoped>\n",
              "    .dataframe tbody tr th:only-of-type {\n",
              "        vertical-align: middle;\n",
              "    }\n",
              "\n",
              "    .dataframe tbody tr th {\n",
              "        vertical-align: top;\n",
              "    }\n",
              "\n",
              "    .dataframe thead th {\n",
              "        text-align: right;\n",
              "    }\n",
              "</style>\n",
              "<table border=\"1\" class=\"dataframe\">\n",
              "  <thead>\n",
              "    <tr style=\"text-align: right;\">\n",
              "      <th></th>\n",
              "      <th>0</th>\n",
              "      <th>1</th>\n",
              "    </tr>\n",
              "  </thead>\n",
              "  <tbody>\n",
              "    <tr>\n",
              "      <th>0</th>\n",
              "      <td>streekalute kaika vinodam oru thamasayanenn ni...</td>\n",
              "      <td>1.0</td>\n",
              "    </tr>\n",
              "    <tr>\n",
              "      <th>1</th>\n",
              "      <td>knee azhathilulla downsindrome ulla slowth pol...</td>\n",
              "      <td>1.0</td>\n",
              "    </tr>\n",
              "    <tr>\n",
              "      <th>2</th>\n",
              "      <td>knee rashyakkaraneppole yane samsarikunnath. n...</td>\n",
              "      <td>1.0</td>\n",
              "    </tr>\n",
              "    <tr>\n",
              "      <th>3</th>\n",
              "      <td>streekal cke durupayogam cheyyan ar hathyunden...</td>\n",
              "      <td>1.0</td>\n",
              "    </tr>\n",
              "    <tr>\n",
              "      <th>4</th>\n",
              "      <td>streekale kunhungale undakannathinum athasham ...</td>\n",
              "      <td>1.0</td>\n",
              "    </tr>\n",
              "    <tr>\n",
              "      <th>5</th>\n",
              "      <td>knee ethuvare bai gulika kazhichittilla</td>\n",
              "      <td>1.0</td>\n",
              "    </tr>\n",
              "    <tr>\n",
              "      <th>6</th>\n",
              "      <td>knee yenthina ninne kollan ninte daivathe bequ...</td>\n",
              "      <td>1.0</td>\n",
              "    </tr>\n",
              "    <tr>\n",
              "      <th>7</th>\n",
              "      <td>endu kondan a africon american kurangan thokk ...</td>\n",
              "      <td>1.0</td>\n",
              "    </tr>\n",
              "    <tr>\n",
              "      <th>8</th>\n",
              "      <td>endukond oru rajyam alias nilail bulgaria nila...</td>\n",
              "      <td>1.0</td>\n",
              "    </tr>\n",
              "    <tr>\n",
              "      <th>9</th>\n",
              "      <td>niyamapalakar oru karutha gunda ye collumbol n...</td>\n",
              "      <td>1.0</td>\n",
              "    </tr>\n",
              "    <tr>\n",
              "      <th>10</th>\n",
              "      <td>aran a nashicha vajram joothanmar randum</td>\n",
              "      <td>1.0</td>\n",
              "    </tr>\n",
              "  </tbody>\n",
              "</table>\n",
              "</div>"
            ],
            "text/plain": [
              "                                                    0    1\n",
              "0   streekalute kaika vinodam oru thamasayanenn ni...  1.0\n",
              "1   knee azhathilulla downsindrome ulla slowth pol...  1.0\n",
              "2   knee rashyakkaraneppole yane samsarikunnath. n...  1.0\n",
              "3   streekal cke durupayogam cheyyan ar hathyunden...  1.0\n",
              "4   streekale kunhungale undakannathinum athasham ...  1.0\n",
              "5             knee ethuvare bai gulika kazhichittilla  1.0\n",
              "6   knee yenthina ninne kollan ninte daivathe bequ...  1.0\n",
              "7   endu kondan a africon american kurangan thokk ...  1.0\n",
              "8   endukond oru rajyam alias nilail bulgaria nila...  1.0\n",
              "9   niyamapalakar oru karutha gunda ye collumbol n...  1.0\n",
              "10           aran a nashicha vajram joothanmar randum  1.0"
            ]
          },
          "metadata": {
            "tags": []
          },
          "execution_count": 72
        }
      ]
    },
    {
      "cell_type": "markdown",
      "metadata": {
        "id": "kswhBSeT8oSN"
      },
      "source": [
        "### Adding Lexicon_Bad_words:"
      ]
    },
    {
      "cell_type": "code",
      "metadata": {
        "id": "_WycNVGz8oSN"
      },
      "source": [
        "# Importing:\n",
        "lbw = pd.read_csv(\"/content/drive/MyDrive/Glue Labs/Abuse Model 15/Data/Originals/lexicon_badwords.csv\")\n",
        "malayalam = pd.read_csv(\"/content/drive/MyDrive/Glue Labs/Abuse Model 15/Data/malayalam.csv\")\n",
        "\n",
        "lbw.drop(['Unnamed: 0'], axis = 1, inplace = True)\n",
        "malayalam.drop(['Unnamed: 0'], axis = 1, inplace = True)"
      ],
      "execution_count": null,
      "outputs": []
    },
    {
      "cell_type": "code",
      "metadata": {
        "id": "BgiZat-I8oSN"
      },
      "source": [
        "lbw = translateall(lbw, 'ml')\n",
        "concatexport(lbw, malayalam, \"/content/drive/MyDrive/Glue Labs/Abuse Model 15/Data/malayalam.csv\")"
      ],
      "execution_count": null,
      "outputs": []
    },
    {
      "cell_type": "markdown",
      "metadata": {
        "id": "IPMn2GHHvqnj"
      },
      "source": [
        "# German*"
      ]
    },
    {
      "cell_type": "code",
      "metadata": {
        "colab": {
          "base_uri": "https://localhost:8080/",
          "height": 35
        },
        "id": "yz-C1DWWvqnx",
        "outputId": "f3272ff4-7af3-4461-9c81-243d3e58cdb2"
      },
      "source": [
        "translate('hi how are you', 'de')"
      ],
      "execution_count": null,
      "outputs": [
        {
          "output_type": "execute_result",
          "data": {
            "application/vnd.google.colaboratory.intrinsic+json": {
              "type": "string"
            },
            "text/plain": [
              "'Hola cómo estás'"
            ]
          },
          "metadata": {
            "tags": []
          },
          "execution_count": 20
        }
      ]
    },
    {
      "cell_type": "code",
      "metadata": {
        "colab": {
          "base_uri": "https://localhost:8080/",
          "height": 490
        },
        "id": "SQig2YMIvqn-",
        "outputId": "735eadc0-9efa-4fc4-8190-4710e782c90a"
      },
      "source": [
        "german = ethos.copy()\n",
        "\n",
        "for i in tqdm(german.index):\n",
        "  t = german['0'].loc[i]\n",
        "\n",
        "  translated = translate(t, 'es')\n",
        "  german['0'].loc[i] = translated.lower()\n",
        "\n",
        "german.to_csv(\"/content/drive/MyDrive/Glue Labs/Abuse Model 15/Data/german.csv\")\n",
        "german.head(11)"
      ],
      "execution_count": null,
      "outputs": [
        {
          "output_type": "stream",
          "text": [
            "  0%|          | 0/998 [00:00<?, ?it/s]/usr/local/lib/python3.6/dist-packages/pandas/core/indexing.py:670: SettingWithCopyWarning: \n",
            "A value is trying to be set on a copy of a slice from a DataFrame\n",
            "\n",
            "See the caveats in the documentation: https://pandas.pydata.org/pandas-docs/stable/user_guide/indexing.html#returning-a-view-versus-a-copy\n",
            "  iloc._setitem_with_indexer(indexer, value)\n",
            "100%|██████████| 998/998 [04:02<00:00,  4.11it/s]\n"
          ],
          "name": "stderr"
        },
        {
          "output_type": "execute_result",
          "data": {
            "text/html": [
              "<div>\n",
              "<style scoped>\n",
              "    .dataframe tbody tr th:only-of-type {\n",
              "        vertical-align: middle;\n",
              "    }\n",
              "\n",
              "    .dataframe tbody tr th {\n",
              "        vertical-align: top;\n",
              "    }\n",
              "\n",
              "    .dataframe thead th {\n",
              "        text-align: right;\n",
              "    }\n",
              "</style>\n",
              "<table border=\"1\" class=\"dataframe\">\n",
              "  <thead>\n",
              "    <tr style=\"text-align: right;\">\n",
              "      <th></th>\n",
              "      <th>0</th>\n",
              "      <th>1</th>\n",
              "    </tr>\n",
              "  </thead>\n",
              "  <tbody>\n",
              "    <tr>\n",
              "      <th>0</th>\n",
              "      <td>sie sollten wissen, dass frauensport ein witz ist</td>\n",
              "      <td>1.0</td>\n",
              "    </tr>\n",
              "    <tr>\n",
              "      <th>1</th>\n",
              "      <td>sie sehen aus wie faultier mit tieferes down-s...</td>\n",
              "      <td>1.0</td>\n",
              "    </tr>\n",
              "    <tr>\n",
              "      <th>2</th>\n",
              "      <td>sie sehen aus wie russisch und sprechen wie in...</td>\n",
              "      <td>1.0</td>\n",
              "    </tr>\n",
              "    <tr>\n",
              "      <th>3</th>\n",
              "      <td>frauen verdienen es, missbraucht zu werden, de...</td>\n",
              "      <td>1.0</td>\n",
              "    </tr>\n",
              "    <tr>\n",
              "      <th>4</th>\n",
              "      <td>frauen sind für die herstellung von babys und ...</td>\n",
              "      <td>1.0</td>\n",
              "    </tr>\n",
              "    <tr>\n",
              "      <th>5</th>\n",
              "      <td>warum haben sie nicht faggots genommen die bi-...</td>\n",
              "      <td>1.0</td>\n",
              "    </tr>\n",
              "    <tr>\n",
              "      <th>6</th>\n",
              "      <td>warum gehst du deinen gott nicht dazu, dich zu...</td>\n",
              "      <td>1.0</td>\n",
              "    </tr>\n",
              "    <tr>\n",
              "      <th>7</th>\n",
              "      <td>warum hält dieser afrikanische amerikanische a...</td>\n",
              "      <td>1.0</td>\n",
              "    </tr>\n",
              "    <tr>\n",
              "      <th>8</th>\n",
              "      <td>warum gibt es bulgarien als land? es ist einer...</td>\n",
              "      <td>1.0</td>\n",
              "    </tr>\n",
              "    <tr>\n",
              "      <th>9</th>\n",
              "      <td>warum reißen neger ihre eigenen viertel nieder...</td>\n",
              "      <td>1.0</td>\n",
              "    </tr>\n",
              "    <tr>\n",
              "      <th>10</th>\n",
              "      <td>wer gibt aa ficken über scheißdiamanten von de...</td>\n",
              "      <td>1.0</td>\n",
              "    </tr>\n",
              "  </tbody>\n",
              "</table>\n",
              "</div>"
            ],
            "text/plain": [
              "                                                    0    1\n",
              "0   sie sollten wissen, dass frauensport ein witz ist  1.0\n",
              "1   sie sehen aus wie faultier mit tieferes down-s...  1.0\n",
              "2   sie sehen aus wie russisch und sprechen wie in...  1.0\n",
              "3   frauen verdienen es, missbraucht zu werden, de...  1.0\n",
              "4   frauen sind für die herstellung von babys und ...  1.0\n",
              "5   warum haben sie nicht faggots genommen die bi-...  1.0\n",
              "6   warum gehst du deinen gott nicht dazu, dich zu...  1.0\n",
              "7   warum hält dieser afrikanische amerikanische a...  1.0\n",
              "8   warum gibt es bulgarien als land? es ist einer...  1.0\n",
              "9   warum reißen neger ihre eigenen viertel nieder...  1.0\n",
              "10  wer gibt aa ficken über scheißdiamanten von de...  1.0"
            ]
          },
          "metadata": {
            "tags": []
          },
          "execution_count": 19
        }
      ]
    },
    {
      "cell_type": "code",
      "metadata": {
        "id": "sDd1TJGxvzIW"
      },
      "source": [
        ""
      ],
      "execution_count": null,
      "outputs": []
    },
    {
      "cell_type": "markdown",
      "metadata": {
        "id": "gfwRGqRJypy4"
      },
      "source": [
        "# Espanol*"
      ]
    },
    {
      "cell_type": "code",
      "metadata": {
        "colab": {
          "base_uri": "https://localhost:8080/",
          "height": 35
        },
        "id": "_VMEV5z_ypzF",
        "outputId": "bc663af8-88e1-4d13-b64c-5aa733a34f1a"
      },
      "source": [
        "translate('hi are you ok', 'es')"
      ],
      "execution_count": null,
      "outputs": [
        {
          "output_type": "execute_result",
          "data": {
            "application/vnd.google.colaboratory.intrinsic+json": {
              "type": "string"
            },
            "text/plain": [
              "'hola estás bien'"
            ]
          },
          "metadata": {
            "tags": []
          },
          "execution_count": 22
        }
      ]
    },
    {
      "cell_type": "code",
      "metadata": {
        "colab": {
          "base_uri": "https://localhost:8080/",
          "height": 490
        },
        "id": "PAL3a1q_ypzS",
        "outputId": "70c5cf31-cc40-40be-e9e2-b92715c7032c"
      },
      "source": [
        "spanish = ethos.copy()\n",
        "\n",
        "for i in tqdm(spanish.index):\n",
        "  t = spanish['0'].loc[i]\n",
        "\n",
        "  translated = translate(t, 'es')\n",
        "  spanish['0'].loc[i] = translated.lower()\n",
        "\n",
        "spanish.to_csv(\"/content/drive/MyDrive/Glue Labs/Abuse Model 15/Data/spanish.csv\")\n",
        "spanish.head(11)"
      ],
      "execution_count": null,
      "outputs": [
        {
          "output_type": "stream",
          "text": [
            "  0%|          | 0/998 [00:00<?, ?it/s]/usr/local/lib/python3.6/dist-packages/pandas/core/indexing.py:670: SettingWithCopyWarning: \n",
            "A value is trying to be set on a copy of a slice from a DataFrame\n",
            "\n",
            "See the caveats in the documentation: https://pandas.pydata.org/pandas-docs/stable/user_guide/indexing.html#returning-a-view-versus-a-copy\n",
            "  iloc._setitem_with_indexer(indexer, value)\n",
            "100%|██████████| 998/998 [04:05<00:00,  4.07it/s]\n"
          ],
          "name": "stderr"
        },
        {
          "output_type": "execute_result",
          "data": {
            "text/html": [
              "<div>\n",
              "<style scoped>\n",
              "    .dataframe tbody tr th:only-of-type {\n",
              "        vertical-align: middle;\n",
              "    }\n",
              "\n",
              "    .dataframe tbody tr th {\n",
              "        vertical-align: top;\n",
              "    }\n",
              "\n",
              "    .dataframe thead th {\n",
              "        text-align: right;\n",
              "    }\n",
              "</style>\n",
              "<table border=\"1\" class=\"dataframe\">\n",
              "  <thead>\n",
              "    <tr style=\"text-align: right;\">\n",
              "      <th></th>\n",
              "      <th>0</th>\n",
              "      <th>1</th>\n",
              "    </tr>\n",
              "  </thead>\n",
              "  <tbody>\n",
              "    <tr>\n",
              "      <th>0</th>\n",
              "      <td>usted debe saber que los deportes de las mujer...</td>\n",
              "      <td>1.0</td>\n",
              "    </tr>\n",
              "    <tr>\n",
              "      <th>1</th>\n",
              "      <td>te ves como perezoso con síndrome de down más ...</td>\n",
              "      <td>1.0</td>\n",
              "    </tr>\n",
              "    <tr>\n",
              "      <th>2</th>\n",
              "      <td>pareces ruso y hablas como indio. ambos son re...</td>\n",
              "      <td>1.0</td>\n",
              "    </tr>\n",
              "    <tr>\n",
              "      <th>3</th>\n",
              "      <td>las mujeres merecen ser abusadas, supongo.</td>\n",
              "      <td>1.0</td>\n",
              "    </tr>\n",
              "    <tr>\n",
              "      <th>4</th>\n",
              "      <td>las mujeres están hechas para hacer bebés y co...</td>\n",
              "      <td>1.0</td>\n",
              "    </tr>\n",
              "    <tr>\n",
              "      <th>5</th>\n",
              "      <td>¿por qué no han tomado los maricones tomar la ...</td>\n",
              "      <td>1.0</td>\n",
              "    </tr>\n",
              "    <tr>\n",
              "      <th>6</th>\n",
              "      <td>¿por qué no vas a llamar a tu dios para que te...</td>\n",
              "      <td>1.0</td>\n",
              "    </tr>\n",
              "    <tr>\n",
              "      <th>7</th>\n",
              "      <td>¿por qué ese mono americano africano tiene esa...</td>\n",
              "      <td>1.0</td>\n",
              "    </tr>\n",
              "    <tr>\n",
              "      <th>8</th>\n",
              "      <td>¿por qué existe bulgaria como país? es uno de ...</td>\n",
              "      <td>1.0</td>\n",
              "    </tr>\n",
              "    <tr>\n",
              "      <th>9</th>\n",
              "      <td>¿por qué los negros derriban sus propios barri...</td>\n",
              "      <td>1.0</td>\n",
              "    </tr>\n",
              "    <tr>\n",
              "      <th>10</th>\n",
              "      <td>que le importa un carajo sobre los diamantes d...</td>\n",
              "      <td>1.0</td>\n",
              "    </tr>\n",
              "  </tbody>\n",
              "</table>\n",
              "</div>"
            ],
            "text/plain": [
              "                                                    0    1\n",
              "0   usted debe saber que los deportes de las mujer...  1.0\n",
              "1   te ves como perezoso con síndrome de down más ...  1.0\n",
              "2   pareces ruso y hablas como indio. ambos son re...  1.0\n",
              "3          las mujeres merecen ser abusadas, supongo.  1.0\n",
              "4   las mujeres están hechas para hacer bebés y co...  1.0\n",
              "5   ¿por qué no han tomado los maricones tomar la ...  1.0\n",
              "6   ¿por qué no vas a llamar a tu dios para que te...  1.0\n",
              "7   ¿por qué ese mono americano africano tiene esa...  1.0\n",
              "8   ¿por qué existe bulgaria como país? es uno de ...  1.0\n",
              "9   ¿por qué los negros derriban sus propios barri...  1.0\n",
              "10  que le importa un carajo sobre los diamantes d...  1.0"
            ]
          },
          "metadata": {
            "tags": []
          },
          "execution_count": 23
        }
      ]
    },
    {
      "cell_type": "markdown",
      "metadata": {
        "id": "H2Qa-cS135Hn"
      },
      "source": [
        "# Compiling A"
      ]
    },
    {
      "cell_type": "code",
      "metadata": {
        "id": "SZWYQ75G4l29"
      },
      "source": [
        "e = pd.read_csv(\"/content/drive/MyDrive/Glue Labs/Abuse Model 15/Data/english.csv\")\n",
        "c = pd.read_csv(\"/content/drive/MyDrive/Glue Labs/Abuse Model 15/Data/chinese.csv\")\n",
        "f = pd.read_csv(\"/content/drive/MyDrive/Glue Labs/Abuse Model 15/Data/french.csv\")\n",
        "g = pd.read_csv(\"/content/drive/MyDrive/Glue Labs/Abuse Model 15/Data/german.csv\")\n",
        "h = pd.read_csv(\"/content/drive/MyDrive/Glue Labs/Abuse Model 15/Data/hindi.csv\")\n",
        "k = pd.read_csv(\"/content/drive/MyDrive/Glue Labs/Abuse Model 15/Data/korean.csv\")\n",
        "m = pd.read_csv(\"/content/drive/MyDrive/Glue Labs/Abuse Model 15/Data/malayalam.csv\")\n",
        "s = pd.read_csv(\"/content/drive/MyDrive/Glue Labs/Abuse Model 15/Data/spanish.csv\")\n",
        "ta = pd.read_csv(\"/content/drive/MyDrive/Glue Labs/Abuse Model 15/Data/tamil.csv\")\n",
        "te = pd.read_csv(\"/content/drive/MyDrive/Glue Labs/Abuse Model 15/Data/telugu.csv\")\n"
      ],
      "execution_count": null,
      "outputs": []
    },
    {
      "cell_type": "code",
      "metadata": {
        "id": "RDAEq_fn9Owr"
      },
      "source": [
        "list = [e, c, f, g, h, k, m, s, ta, te]"
      ],
      "execution_count": null,
      "outputs": []
    },
    {
      "cell_type": "code",
      "metadata": {
        "id": "k5OtM6cd9L1T"
      },
      "source": [
        "for i in list:\n",
        "  i.drop(['Unnamed: 0'], axis = 1, inplace = True)"
      ],
      "execution_count": null,
      "outputs": []
    },
    {
      "cell_type": "code",
      "metadata": {
        "id": "Y9sTSyy-jFwA"
      },
      "source": [
        "data = pd.concat(list, axis = 0)\n",
        "data.index = range(data.shape[0])\n",
        "\n",
        "data.columns = ['text', 'labels']"
      ],
      "execution_count": null,
      "outputs": []
    },
    {
      "cell_type": "code",
      "metadata": {
        "id": "wyI_dD0W34cL"
      },
      "source": [
        "data1 = data.sample(n = data.shape[0])\n",
        "data1.index = range(data.shape[0])\n",
        "\n",
        "train1 = data1.loc[:20000]\n",
        "test1 = data1.loc[20000:]\n",
        "\n",
        "train1.index = range(train1.shape[0])\n",
        "test1.index = range(test1.shape[0])\n"
      ],
      "execution_count": null,
      "outputs": []
    },
    {
      "cell_type": "code",
      "metadata": {
        "id": "eBnxck0_Btln"
      },
      "source": [
        "data1.to_csv(\"/content/drive/MyDrive/Glue Labs/Abuse Model 15/Data/data1.csv\")\n",
        "train1.to_csv(\"/content/drive/MyDrive/Glue Labs/Abuse Model 15/Data/train1.csv\")\n",
        "test1.to_csv(\"/content/drive/MyDrive/Glue Labs/Abuse Model 15/Data/test1.csv\")"
      ],
      "execution_count": null,
      "outputs": []
    }
  ]
}
