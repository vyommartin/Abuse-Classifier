{
  "nbformat": 4,
  "nbformat_minor": 0,
  "metadata": {
    "colab": {
      "name": "Abuse Preprocessing A2.ipynb",
      "provenance": []
    },
    "kernelspec": {
      "name": "python3",
      "display_name": "Python 3"
    }
  },
  "cells": [
    {
      "cell_type": "code",
      "metadata": {
        "id": "q58rzm9jkJa5"
      },
      "source": [
        "import os\n",
        "import pandas as pd\n",
        "import numpy"
      ],
      "execution_count": null,
      "outputs": []
    },
    {
      "cell_type": "code",
      "metadata": {
        "id": "lQwaGHBQkr5M",
        "colab": {
          "base_uri": "https://localhost:8080/",
          "height": 228
        },
        "outputId": "6de7042b-8093-4ead-9fa6-3b2201bbe297"
      },
      "source": [
        "## The Hinglish Offensive Dataset\n",
        "#!wget https://github.com/ramitsawhney27/OffensiveHinglishTweetClassification/blob/master/HOT_Dataset_modified.csv"
      ],
      "execution_count": null,
      "outputs": [
        {
          "output_type": "stream",
          "text": [
            "--2020-10-06 10:04:21--  https://github.com/ramitsawhney27/OffensiveHinglishTweetClassification/blob/master/HOT_Dataset_modified.csv\n",
            "Resolving github.com (github.com)... 140.82.112.3\n",
            "Connecting to github.com (github.com)|140.82.112.3|:443... connected.\n",
            "HTTP request sent, awaiting response... 200 OK\n",
            "Length: unspecified [text/html]\n",
            "Saving to: ‘HOT_Dataset_modified.csv.1’\n",
            "\n",
            "HOT_Dataset_modifie     [  <=>               ]   4.15M  19.9MB/s    in 0.2s    \n",
            "\n",
            "2020-10-06 10:04:22 (19.9 MB/s) - ‘HOT_Dataset_modified.csv.1’ saved [4349440]\n",
            "\n"
          ],
          "name": "stdout"
        }
      ]
    },
    {
      "cell_type": "code",
      "metadata": {
        "id": "5400KFF4nWt4"
      },
      "source": [
        "#shot = pd.concat([HOT['0'],HOT['@saud5683 @Mutayyab420 @shivang598 @Ranask35 @milkygaay @Aapaawaambaa @thetanmay @INCIndia Haa jaise tum bhi abhi p\\\\xe2\\\\x80\\\\xa6 https://t.co/wZmXZPIMTD']], axis = 1)"
      ],
      "execution_count": null,
      "outputs": []
    },
    {
      "cell_type": "code",
      "metadata": {
        "id": "_FetMKkBnoqb",
        "colab": {
          "base_uri": "https://localhost:8080/",
          "height": 260
        },
        "outputId": "c34c7cb7-5298-4e3f-8be6-faa4b47ebc13"
      },
      "source": [
        "#hot.columns = ['isoffensive', 'tweets']\n",
        "\n",
        "hot = hot.dropna()\n",
        "hot.shape\n",
        "hot.index = range(3188)\n",
        "hot.head"
      ],
      "execution_count": null,
      "outputs": [
        {
          "output_type": "execute_result",
          "data": {
            "text/plain": [
              "<bound method NDFrame.head of       isoffensive                                             tweets\n",
              "0             2.0  banti hai empowered woman, feminism pe gyan pe...\n",
              "1             2.0  rt user user user ab usko chhod mjse bat kr te...\n",
              "2             2.0  user user user punjab in madarchodon ko khila ...\n",
              "3             2.0  rt user agar koi bole ki ja ke chill maar to m...\n",
              "4             1.0  user user user main jutt punjabi hoon aur paka...\n",
              "...           ...                                                ...\n",
              "3183          1.0  user user user user user ye dekha tera islamic...\n",
              "3184          1.0     user all love jihaadi should ne killed aise hi\n",
              "3185          1.0  user user user user user ye dekh madarjaat, ra...\n",
              "3186          1.0  user user user user user user waise jihaadi ku...\n",
              "3187          1.0  user user kya madam, abhi tak apne , aapne hin...\n",
              "\n",
              "[3188 rows x 2 columns]>"
            ]
          },
          "metadata": {
            "tags": []
          },
          "execution_count": 33
        }
      ]
    },
    {
      "cell_type": "code",
      "metadata": {
        "id": "yoLp50_EoQlO",
        "colab": {
          "base_uri": "https://localhost:8080/",
          "height": 35
        },
        "outputId": "d5a76d40-0270-447a-c986-eb553a0dd804"
      },
      "source": [
        "hot.tweets[743]"
      ],
      "execution_count": null,
      "outputs": [
        {
          "output_type": "execute_result",
          "data": {
            "application/vnd.google.colaboratory.intrinsic+json": {
              "type": "string"
            },
            "text/plain": [
              "'rt user stonebwoy album out now here link link'"
            ]
          },
          "metadata": {
            "tags": []
          },
          "execution_count": 37
        }
      ]
    },
    {
      "cell_type": "code",
      "metadata": {
        "id": "oLvntPWJexNG",
        "colab": {
          "base_uri": "https://localhost:8080/",
          "height": 35
        },
        "outputId": "a1ca13c4-e487-4f33-bbce-7a4abf85cba2"
      },
      "source": [
        "hot.tweets[2134]"
      ],
      "execution_count": null,
      "outputs": [
        {
          "output_type": "execute_result",
          "data": {
            "application/vnd.google.colaboratory.intrinsic+json": {
              "type": "string"
            },
            "text/plain": [
              "'user in deed'"
            ]
          },
          "metadata": {
            "tags": []
          },
          "execution_count": 38
        }
      ]
    },
    {
      "cell_type": "code",
      "metadata": {
        "id": "vHr2KgCxd8p5"
      },
      "source": [
        "import re\n",
        "\n",
        "def preprocess(text):\n",
        "  l = re.sub(r'&', '', text)\n",
        "  m = re.sub(r'RT ', '', l)\n",
        "  n = re.sub(r'~', '', m)\n",
        "  o = re.sub(r'#', '', n)\n",
        "  p = re.sub(r'!+', '', o)\n",
        "  q = re.sub(r'(http[s]?\\S+)|(\\w+\\.[A-Za-z]{2,4}\\S*)', 'link', p)\n",
        "  r = re.sub(r'[*]', '', q)\n",
        "  s = re.sub(r'[@]\\w+', 'user', r)\n",
        "  t = re.sub(r'[:|;]', '', s)\n",
        "  u = re.sub(r'[\\\\x]\\W+|\\d', '', t)\n",
        "  v = re.sub(r'[\\\\x]\\W+|\\d', '', u)\n",
        "  w = re.sub(r'[\\\\x]\\w+', '', v)\n",
        "  x = re.sub(r'    ', ' ', w)\n",
        "  y = re.sub(r'   ', ' ', x)\n",
        "  z = re.sub(r'  ', ' ', y)\n",
        "  ProcessedTweet = z.lower()\n",
        "  return ProcessedTweet"
      ],
      "execution_count": null,
      "outputs": []
    },
    {
      "cell_type": "code",
      "metadata": {
        "id": "aq1nbiwKd8mw",
        "colab": {
          "base_uri": "https://localhost:8080/",
          "height": 52
        },
        "outputId": "99ef5df5-126c-4ed5-92f2-bcc14a3fefb5"
      },
      "source": [
        "hot.tweets[324], preprocess(hot.tweets[324])"
      ],
      "execution_count": null,
      "outputs": [
        {
          "output_type": "execute_result",
          "data": {
            "text/plain": [
              "('user member of chutia brigade forgot sikh massacre of ',\n",
              " 'user member of chutia brigade forgot sikh massacre of ')"
            ]
          },
          "metadata": {
            "tags": []
          },
          "execution_count": 40
        }
      ]
    },
    {
      "cell_type": "code",
      "metadata": {
        "id": "oj2e-Xn_d8ke",
        "colab": {
          "base_uri": "https://localhost:8080/",
          "height": 124
        },
        "outputId": "839d378e-e704-405d-f556-76276cc0f231"
      },
      "source": [
        "for i in range(hot.shape[0]):\n",
        "  text = hot.tweets[i]\n",
        "  preprocessed = preprocess(text)\n",
        "  hot.tweets[i] = preprocessed"
      ],
      "execution_count": null,
      "outputs": [
        {
          "output_type": "stream",
          "text": [
            "/usr/local/lib/python3.6/dist-packages/ipykernel_launcher.py:4: SettingWithCopyWarning: \n",
            "A value is trying to be set on a copy of a slice from a DataFrame\n",
            "\n",
            "See the caveats in the documentation: https://pandas.pydata.org/pandas-docs/stable/user_guide/indexing.html#returning-a-view-versus-a-copy\n",
            "  after removing the cwd from sys.path.\n"
          ],
          "name": "stderr"
        }
      ]
    },
    {
      "cell_type": "code",
      "metadata": {
        "id": "FFQhg4W_d8he",
        "colab": {
          "base_uri": "https://localhost:8080/",
          "height": 202
        },
        "outputId": "3cf05a75-e1d5-485e-ca52-7b5d8361d0cc"
      },
      "source": [
        "# hot.to_csv('/content/drive/My Drive/Glue Labs/Data-Abuse/MultiLingual/HOT.csv')\n",
        "hot.head()"
      ],
      "execution_count": null,
      "outputs": [
        {
          "output_type": "execute_result",
          "data": {
            "text/html": [
              "<div>\n",
              "<style scoped>\n",
              "    .dataframe tbody tr th:only-of-type {\n",
              "        vertical-align: middle;\n",
              "    }\n",
              "\n",
              "    .dataframe tbody tr th {\n",
              "        vertical-align: top;\n",
              "    }\n",
              "\n",
              "    .dataframe thead th {\n",
              "        text-align: right;\n",
              "    }\n",
              "</style>\n",
              "<table border=\"1\" class=\"dataframe\">\n",
              "  <thead>\n",
              "    <tr style=\"text-align: right;\">\n",
              "      <th></th>\n",
              "      <th>isoffensive</th>\n",
              "      <th>tweets</th>\n",
              "    </tr>\n",
              "  </thead>\n",
              "  <tbody>\n",
              "    <tr>\n",
              "      <th>0</th>\n",
              "      <td>2.0</td>\n",
              "      <td>banti hai empowered woman, feminism pe gyan pe...</td>\n",
              "    </tr>\n",
              "    <tr>\n",
              "      <th>1</th>\n",
              "      <td>2.0</td>\n",
              "      <td>user user user ab usko chhod mjse bat kr tera ...</td>\n",
              "    </tr>\n",
              "    <tr>\n",
              "      <th>2</th>\n",
              "      <td>2.0</td>\n",
              "      <td>user user user punjab in madarchodon ko khila ...</td>\n",
              "    </tr>\n",
              "    <tr>\n",
              "      <th>3</th>\n",
              "      <td>2.0</td>\n",
              "      <td>user agar koi bole ki ja ke chill maar to mada...</td>\n",
              "    </tr>\n",
              "    <tr>\n",
              "      <th>4</th>\n",
              "      <td>1.0</td>\n",
              "      <td>user user user main jutt punjabi hoon aur paka...</td>\n",
              "    </tr>\n",
              "  </tbody>\n",
              "</table>\n",
              "</div>"
            ],
            "text/plain": [
              "   isoffensive                                             tweets\n",
              "0          2.0  banti hai empowered woman, feminism pe gyan pe...\n",
              "1          2.0  user user user ab usko chhod mjse bat kr tera ...\n",
              "2          2.0  user user user punjab in madarchodon ko khila ...\n",
              "3          2.0  user agar koi bole ki ja ke chill maar to mada...\n",
              "4          1.0  user user user main jutt punjabi hoon aur paka..."
            ]
          },
          "metadata": {
            "tags": []
          },
          "execution_count": 57
        }
      ]
    },
    {
      "cell_type": "code",
      "metadata": {
        "id": "8he3PWtOWRxa"
      },
      "source": [
        "# The link to the Tamil and Malayalam datasets: https://dravidian-codemix.github.io/2020/datasets.html\n",
        "\n",
        "tamiltrain = pd.read_csv(\"/content/drive/My Drive/Glue Labs/Data-Abuse/multilingual/tamil_train.tsv\", sep = '\\t')\n",
        "malayalamtrain = pd.read_csv(\"/content/drive/My Drive/Glue Labs/Data-Abuse/multilingual/malayalam_train.tsv\", sep = '\\t')\n"
      ],
      "execution_count": null,
      "outputs": []
    },
    {
      "cell_type": "code",
      "metadata": {
        "id": "lFC0qf9DbCIv",
        "colab": {
          "base_uri": "https://localhost:8080/",
          "height": 202
        },
        "outputId": "344ca076-6779-42c4-ba04-bebd3847bec8"
      },
      "source": [
        "malayalamtrain.head()"
      ],
      "execution_count": null,
      "outputs": [
        {
          "output_type": "execute_result",
          "data": {
            "text/html": [
              "<div>\n",
              "<style scoped>\n",
              "    .dataframe tbody tr th:only-of-type {\n",
              "        vertical-align: middle;\n",
              "    }\n",
              "\n",
              "    .dataframe tbody tr th {\n",
              "        vertical-align: top;\n",
              "    }\n",
              "\n",
              "    .dataframe thead th {\n",
              "        text-align: right;\n",
              "    }\n",
              "</style>\n",
              "<table border=\"1\" class=\"dataframe\">\n",
              "  <thead>\n",
              "    <tr style=\"text-align: right;\">\n",
              "      <th></th>\n",
              "      <th>text</th>\n",
              "      <th>category</th>\n",
              "    </tr>\n",
              "  </thead>\n",
              "  <tbody>\n",
              "    <tr>\n",
              "      <th>0</th>\n",
              "      <td>hoo mammokka police vesham aaha anthas</td>\n",
              "      <td>Positive</td>\n",
              "    </tr>\n",
              "    <tr>\n",
              "      <th>1</th>\n",
              "      <td>Oru rekshayum illa...kidilam kannu nananjupoyi</td>\n",
              "      <td>Positive</td>\n",
              "    </tr>\n",
              "    <tr>\n",
              "      <th>2</th>\n",
              "      <td>Ikka     waiting.........</td>\n",
              "      <td>Positive</td>\n",
              "    </tr>\n",
              "    <tr>\n",
              "      <th>3</th>\n",
              "      <td>Raju Ettante Oro Shorttum Ijathi ppwli</td>\n",
              "      <td>Positive</td>\n",
              "    </tr>\n",
              "    <tr>\n",
              "      <th>4</th>\n",
              "      <td>Ettan fansil netti poya aarenkilum undo?    #...</td>\n",
              "      <td>Positive</td>\n",
              "    </tr>\n",
              "  </tbody>\n",
              "</table>\n",
              "</div>"
            ],
            "text/plain": [
              "                                                text   category\n",
              "0             hoo mammokka police vesham aaha anthas  Positive \n",
              "1     Oru rekshayum illa...kidilam kannu nananjupoyi  Positive \n",
              "2                          Ikka     waiting.........  Positive \n",
              "3             Raju Ettante Oro Shorttum Ijathi ppwli  Positive \n",
              "4   Ettan fansil netti poya aarenkilum undo?    #...  Positive "
            ]
          },
          "metadata": {
            "tags": []
          },
          "execution_count": 77
        }
      ]
    },
    {
      "cell_type": "code",
      "metadata": {
        "id": "07imCgkSbbbK"
      },
      "source": [
        "posindex = (malayalamtrain[malayalamtrain['category'] != 'Negative ']).index\n",
        "negindex = (malayalamtrain[malayalamtrain['category'] == 'Negative ']).index"
      ],
      "execution_count": null,
      "outputs": []
    },
    {
      "cell_type": "code",
      "metadata": {
        "id": "CMuNUt_kb43z",
        "colab": {
          "base_uri": "https://localhost:8080/",
          "height": 415
        },
        "outputId": "dabec2fe-3767-45f4-eada-39695f867da3"
      },
      "source": [
        "for i in posindex:\n",
        "  malayalamtrain['category'].iloc[i] = float(1)\n",
        "\n",
        "for i in negindex:\n",
        "  malayalamtrain['category'].iloc[i] = float(2)\n",
        "\n",
        "malayalamtrain"
      ],
      "execution_count": null,
      "outputs": [
        {
          "output_type": "execute_result",
          "data": {
            "text/html": [
              "<div>\n",
              "<style scoped>\n",
              "    .dataframe tbody tr th:only-of-type {\n",
              "        vertical-align: middle;\n",
              "    }\n",
              "\n",
              "    .dataframe tbody tr th {\n",
              "        vertical-align: top;\n",
              "    }\n",
              "\n",
              "    .dataframe thead th {\n",
              "        text-align: right;\n",
              "    }\n",
              "</style>\n",
              "<table border=\"1\" class=\"dataframe\">\n",
              "  <thead>\n",
              "    <tr style=\"text-align: right;\">\n",
              "      <th></th>\n",
              "      <th>text</th>\n",
              "      <th>category</th>\n",
              "    </tr>\n",
              "  </thead>\n",
              "  <tbody>\n",
              "    <tr>\n",
              "      <th>0</th>\n",
              "      <td>hoo mammokka police vesham aaha anthas</td>\n",
              "      <td>1</td>\n",
              "    </tr>\n",
              "    <tr>\n",
              "      <th>1</th>\n",
              "      <td>Oru rekshayum illa...kidilam kannu nananjupoyi</td>\n",
              "      <td>1</td>\n",
              "    </tr>\n",
              "    <tr>\n",
              "      <th>2</th>\n",
              "      <td>Ikka     waiting.........</td>\n",
              "      <td>1</td>\n",
              "    </tr>\n",
              "    <tr>\n",
              "      <th>3</th>\n",
              "      <td>Raju Ettante Oro Shorttum Ijathi ppwli</td>\n",
              "      <td>1</td>\n",
              "    </tr>\n",
              "    <tr>\n",
              "      <th>4</th>\n",
              "      <td>Ettan fansil netti poya aarenkilum undo?    #...</td>\n",
              "      <td>1</td>\n",
              "    </tr>\n",
              "    <tr>\n",
              "      <th>...</th>\n",
              "      <td>...</td>\n",
              "      <td>...</td>\n",
              "    </tr>\n",
              "    <tr>\n",
              "      <th>4846</th>\n",
              "      <td>Madhuraraja trailer Kand ivide vannanvar likkeee</td>\n",
              "      <td>1</td>\n",
              "    </tr>\n",
              "    <tr>\n",
              "      <th>4847</th>\n",
              "      <td>Njn pru lalettan fan ahn..  eee trailer mass ...</td>\n",
              "      <td>1</td>\n",
              "    </tr>\n",
              "    <tr>\n",
              "      <th>4848</th>\n",
              "      <td>Valiya pratheesha illa nalla entertainment  a...</td>\n",
              "      <td>1</td>\n",
              "    </tr>\n",
              "    <tr>\n",
              "      <th>4849</th>\n",
              "      <td>Dislike adikkunna kazhuthakalude mukhath adik...</td>\n",
              "      <td>2</td>\n",
              "    </tr>\n",
              "    <tr>\n",
              "      <th>4850</th>\n",
              "      <td>Adipoli..... Pakshe oru sankadam ithinte thir...</td>\n",
              "      <td>1</td>\n",
              "    </tr>\n",
              "  </tbody>\n",
              "</table>\n",
              "<p>4851 rows × 2 columns</p>\n",
              "</div>"
            ],
            "text/plain": [
              "                                                   text category\n",
              "0                hoo mammokka police vesham aaha anthas        1\n",
              "1        Oru rekshayum illa...kidilam kannu nananjupoyi        1\n",
              "2                             Ikka     waiting.........        1\n",
              "3                Raju Ettante Oro Shorttum Ijathi ppwli        1\n",
              "4      Ettan fansil netti poya aarenkilum undo?    #...        1\n",
              "...                                                 ...      ...\n",
              "4846   Madhuraraja trailer Kand ivide vannanvar likkeee        1\n",
              "4847   Njn pru lalettan fan ahn..  eee trailer mass ...        1\n",
              "4848   Valiya pratheesha illa nalla entertainment  a...        1\n",
              "4849   Dislike adikkunna kazhuthakalude mukhath adik...        2\n",
              "4850   Adipoli..... Pakshe oru sankadam ithinte thir...        1\n",
              "\n",
              "[4851 rows x 2 columns]"
            ]
          },
          "metadata": {
            "tags": []
          },
          "execution_count": 81
        }
      ]
    },
    {
      "cell_type": "code",
      "metadata": {
        "id": "ZQj9dWrTcaeT"
      },
      "source": [
        "posindex = (tamiltrain[tamiltrain['category'] != 'Negative ']).index\n",
        "negindex = (tamiltrain[tamiltrain['category'] == 'Negative ']).index"
      ],
      "execution_count": null,
      "outputs": []
    },
    {
      "cell_type": "code",
      "metadata": {
        "id": "8xQ44OstixFd",
        "colab": {
          "base_uri": "https://localhost:8080/",
          "height": 415
        },
        "outputId": "3bba396e-adc3-4497-8e8f-5c08fcedbc4e"
      },
      "source": [
        "for i in posindex:\n",
        "  tamiltrain['category'].iloc[i] = float(1)\n",
        "\n",
        "for i in negindex:\n",
        "  tamiltrain['category'].iloc[i] = float(2)\n",
        "\n",
        "tamiltrain"
      ],
      "execution_count": null,
      "outputs": [
        {
          "output_type": "execute_result",
          "data": {
            "text/html": [
              "<div>\n",
              "<style scoped>\n",
              "    .dataframe tbody tr th:only-of-type {\n",
              "        vertical-align: middle;\n",
              "    }\n",
              "\n",
              "    .dataframe tbody tr th {\n",
              "        vertical-align: top;\n",
              "    }\n",
              "\n",
              "    .dataframe thead th {\n",
              "        text-align: right;\n",
              "    }\n",
              "</style>\n",
              "<table border=\"1\" class=\"dataframe\">\n",
              "  <thead>\n",
              "    <tr style=\"text-align: right;\">\n",
              "      <th></th>\n",
              "      <th>text</th>\n",
              "      <th>category</th>\n",
              "    </tr>\n",
              "  </thead>\n",
              "  <tbody>\n",
              "    <tr>\n",
              "      <th>0</th>\n",
              "      <td>Trailer late ah parthavanga like podunga</td>\n",
              "      <td>1</td>\n",
              "    </tr>\n",
              "    <tr>\n",
              "      <th>1</th>\n",
              "      <td>Move pathutu vanthu trailer pakurvnga yaru</td>\n",
              "      <td>1</td>\n",
              "    </tr>\n",
              "    <tr>\n",
              "      <th>2</th>\n",
              "      <td>Puthupetai dhanush  ah yarellam pathinga</td>\n",
              "      <td>1</td>\n",
              "    </tr>\n",
              "    <tr>\n",
              "      <th>3</th>\n",
              "      <td>Dhanush oda character ,puthu sa erukay , mass ta</td>\n",
              "      <td>1</td>\n",
              "    </tr>\n",
              "    <tr>\n",
              "      <th>4</th>\n",
              "      <td>vera level ippa pesungada mokka nu thalaivaaaaaa</td>\n",
              "      <td>1</td>\n",
              "    </tr>\n",
              "    <tr>\n",
              "      <th>...</th>\n",
              "      <td>...</td>\n",
              "      <td>...</td>\n",
              "    </tr>\n",
              "    <tr>\n",
              "      <th>11330</th>\n",
              "      <td>Yuvan shankar Raja anna fan's like here...</td>\n",
              "      <td>1</td>\n",
              "    </tr>\n",
              "    <tr>\n",
              "      <th>11331</th>\n",
              "      <td>A masterpiece best revenge film I’ve ever scene</td>\n",
              "      <td>1</td>\n",
              "    </tr>\n",
              "    <tr>\n",
              "      <th>11332</th>\n",
              "      <td>Enna pa thala ya kamiya than katringa</td>\n",
              "      <td>1</td>\n",
              "    </tr>\n",
              "    <tr>\n",
              "      <th>11333</th>\n",
              "      <td>R A A S H I K H A N N A</td>\n",
              "      <td>1</td>\n",
              "    </tr>\n",
              "    <tr>\n",
              "      <th>11334</th>\n",
              "      <td>Trailer la nalla thaan iruku ana sound thaan ...</td>\n",
              "      <td>1</td>\n",
              "    </tr>\n",
              "  </tbody>\n",
              "</table>\n",
              "<p>11335 rows × 2 columns</p>\n",
              "</div>"
            ],
            "text/plain": [
              "                                                    text category\n",
              "0               Trailer late ah parthavanga like podunga        1\n",
              "1             Move pathutu vanthu trailer pakurvnga yaru        1\n",
              "2               Puthupetai dhanush  ah yarellam pathinga        1\n",
              "3       Dhanush oda character ,puthu sa erukay , mass ta        1\n",
              "4       vera level ippa pesungada mokka nu thalaivaaaaaa        1\n",
              "...                                                  ...      ...\n",
              "11330         Yuvan shankar Raja anna fan's like here...        1\n",
              "11331    A masterpiece best revenge film I’ve ever scene        1\n",
              "11332              Enna pa thala ya kamiya than katringa        1\n",
              "11333                            R A A S H I K H A N N A        1\n",
              "11334   Trailer la nalla thaan iruku ana sound thaan ...        1\n",
              "\n",
              "[11335 rows x 2 columns]"
            ]
          },
          "metadata": {
            "tags": []
          },
          "execution_count": 84
        }
      ]
    },
    {
      "cell_type": "code",
      "metadata": {
        "id": "oNTP1YnAjY7O"
      },
      "source": [
        "tamilmala = pd.concat([tamiltrain, malayalamtrain], axis = 0)\n",
        "tamilmala.index = range(16186)"
      ],
      "execution_count": null,
      "outputs": []
    },
    {
      "cell_type": "code",
      "metadata": {
        "id": "0kLDwAefjtZK",
        "colab": {
          "base_uri": "https://localhost:8080/",
          "height": 415
        },
        "outputId": "b4c963e0-0107-479d-bfc6-7e6049e65f3e"
      },
      "source": [
        "tamilmala"
      ],
      "execution_count": null,
      "outputs": [
        {
          "output_type": "execute_result",
          "data": {
            "text/html": [
              "<div>\n",
              "<style scoped>\n",
              "    .dataframe tbody tr th:only-of-type {\n",
              "        vertical-align: middle;\n",
              "    }\n",
              "\n",
              "    .dataframe tbody tr th {\n",
              "        vertical-align: top;\n",
              "    }\n",
              "\n",
              "    .dataframe thead th {\n",
              "        text-align: right;\n",
              "    }\n",
              "</style>\n",
              "<table border=\"1\" class=\"dataframe\">\n",
              "  <thead>\n",
              "    <tr style=\"text-align: right;\">\n",
              "      <th></th>\n",
              "      <th>text</th>\n",
              "      <th>category</th>\n",
              "    </tr>\n",
              "  </thead>\n",
              "  <tbody>\n",
              "    <tr>\n",
              "      <th>0</th>\n",
              "      <td>Trailer late ah parthavanga like podunga</td>\n",
              "      <td>1</td>\n",
              "    </tr>\n",
              "    <tr>\n",
              "      <th>1</th>\n",
              "      <td>Move pathutu vanthu trailer pakurvnga yaru</td>\n",
              "      <td>1</td>\n",
              "    </tr>\n",
              "    <tr>\n",
              "      <th>2</th>\n",
              "      <td>Puthupetai dhanush  ah yarellam pathinga</td>\n",
              "      <td>1</td>\n",
              "    </tr>\n",
              "    <tr>\n",
              "      <th>3</th>\n",
              "      <td>Dhanush oda character ,puthu sa erukay , mass ta</td>\n",
              "      <td>1</td>\n",
              "    </tr>\n",
              "    <tr>\n",
              "      <th>4</th>\n",
              "      <td>vera level ippa pesungada mokka nu thalaivaaaaaa</td>\n",
              "      <td>1</td>\n",
              "    </tr>\n",
              "    <tr>\n",
              "      <th>...</th>\n",
              "      <td>...</td>\n",
              "      <td>...</td>\n",
              "    </tr>\n",
              "    <tr>\n",
              "      <th>16181</th>\n",
              "      <td>Madhuraraja trailer Kand ivide vannanvar likkeee</td>\n",
              "      <td>1</td>\n",
              "    </tr>\n",
              "    <tr>\n",
              "      <th>16182</th>\n",
              "      <td>Njn pru lalettan fan ahn..  eee trailer mass ...</td>\n",
              "      <td>1</td>\n",
              "    </tr>\n",
              "    <tr>\n",
              "      <th>16183</th>\n",
              "      <td>Valiya pratheesha illa nalla entertainment  a...</td>\n",
              "      <td>1</td>\n",
              "    </tr>\n",
              "    <tr>\n",
              "      <th>16184</th>\n",
              "      <td>Dislike adikkunna kazhuthakalude mukhath adik...</td>\n",
              "      <td>2</td>\n",
              "    </tr>\n",
              "    <tr>\n",
              "      <th>16185</th>\n",
              "      <td>Adipoli..... Pakshe oru sankadam ithinte thir...</td>\n",
              "      <td>1</td>\n",
              "    </tr>\n",
              "  </tbody>\n",
              "</table>\n",
              "<p>16186 rows × 2 columns</p>\n",
              "</div>"
            ],
            "text/plain": [
              "                                                    text category\n",
              "0               Trailer late ah parthavanga like podunga        1\n",
              "1             Move pathutu vanthu trailer pakurvnga yaru        1\n",
              "2               Puthupetai dhanush  ah yarellam pathinga        1\n",
              "3       Dhanush oda character ,puthu sa erukay , mass ta        1\n",
              "4       vera level ippa pesungada mokka nu thalaivaaaaaa        1\n",
              "...                                                  ...      ...\n",
              "16181   Madhuraraja trailer Kand ivide vannanvar likkeee        1\n",
              "16182   Njn pru lalettan fan ahn..  eee trailer mass ...        1\n",
              "16183   Valiya pratheesha illa nalla entertainment  a...        1\n",
              "16184   Dislike adikkunna kazhuthakalude mukhath adik...        2\n",
              "16185   Adipoli..... Pakshe oru sankadam ithinte thir...        1\n",
              "\n",
              "[16186 rows x 2 columns]"
            ]
          },
          "metadata": {
            "tags": []
          },
          "execution_count": 88
        }
      ]
    },
    {
      "cell_type": "code",
      "metadata": {
        "id": "0GzI8plGjuaX"
      },
      "source": [
        "#tamilmala.to_csv(\"/content/drive/My Drive/Glue Labs/Data-Abuse/MultiLingual/tamilmala\")"
      ],
      "execution_count": null,
      "outputs": []
    },
    {
      "cell_type": "markdown",
      "metadata": {
        "id": "Idc3kH0mSG2r"
      },
      "source": [
        "Importing some data from https://github.com/t-davidson/hate-speech-and-offensive-language because its a lot of offensive tweets data, useful."
      ]
    },
    {
      "cell_type": "code",
      "metadata": {
        "id": "mezUA5ILR81o",
        "colab": {
          "base_uri": "https://localhost:8080/",
          "height": 228
        },
        "outputId": "72d66485-17d6-48ff-96ed-118dd33d0e8f"
      },
      "source": [
        "!wget https://raw.githubusercontent.com/t-davidson/hate-speech-and-offensive-language/master/data/labeled_data.csv"
      ],
      "execution_count": null,
      "outputs": [
        {
          "output_type": "stream",
          "text": [
            "--2020-10-09 02:54:43--  https://raw.githubusercontent.com/t-davidson/hate-speech-and-offensive-language/master/data/labeled_data.csv\n",
            "Resolving raw.githubusercontent.com (raw.githubusercontent.com)... 151.101.0.133, 151.101.64.133, 151.101.128.133, ...\n",
            "Connecting to raw.githubusercontent.com (raw.githubusercontent.com)|151.101.0.133|:443... connected.\n",
            "HTTP request sent, awaiting response... 200 OK\n",
            "Length: 2546446 (2.4M) [text/plain]\n",
            "Saving to: ‘labeled_data.csv’\n",
            "\n",
            "labeled_data.csv    100%[===================>]   2.43M  10.1MB/s    in 0.2s    \n",
            "\n",
            "2020-10-09 02:54:43 (10.1 MB/s) - ‘labeled_data.csv’ saved [2546446/2546446]\n",
            "\n"
          ],
          "name": "stdout"
        }
      ]
    },
    {
      "cell_type": "code",
      "metadata": {
        "id": "IwL6j_K3R9iC",
        "colab": {
          "base_uri": "https://localhost:8080/",
          "height": 271
        },
        "outputId": "2a192d84-3f87-44ea-dc6f-a7abc86c79f7"
      },
      "source": [
        "data = pd.read_csv(\"/content/labeled_data.csv\")\n",
        "data.head()"
      ],
      "execution_count": null,
      "outputs": [
        {
          "output_type": "execute_result",
          "data": {
            "text/html": [
              "<div>\n",
              "<style scoped>\n",
              "    .dataframe tbody tr th:only-of-type {\n",
              "        vertical-align: middle;\n",
              "    }\n",
              "\n",
              "    .dataframe tbody tr th {\n",
              "        vertical-align: top;\n",
              "    }\n",
              "\n",
              "    .dataframe thead th {\n",
              "        text-align: right;\n",
              "    }\n",
              "</style>\n",
              "<table border=\"1\" class=\"dataframe\">\n",
              "  <thead>\n",
              "    <tr style=\"text-align: right;\">\n",
              "      <th></th>\n",
              "      <th>Unnamed: 0</th>\n",
              "      <th>count</th>\n",
              "      <th>hate_speech</th>\n",
              "      <th>offensive_language</th>\n",
              "      <th>neither</th>\n",
              "      <th>class</th>\n",
              "      <th>tweet</th>\n",
              "    </tr>\n",
              "  </thead>\n",
              "  <tbody>\n",
              "    <tr>\n",
              "      <th>0</th>\n",
              "      <td>0</td>\n",
              "      <td>3</td>\n",
              "      <td>0</td>\n",
              "      <td>0</td>\n",
              "      <td>3</td>\n",
              "      <td>2</td>\n",
              "      <td>!!! RT @mayasolovely: As a woman you shouldn't...</td>\n",
              "    </tr>\n",
              "    <tr>\n",
              "      <th>1</th>\n",
              "      <td>1</td>\n",
              "      <td>3</td>\n",
              "      <td>0</td>\n",
              "      <td>3</td>\n",
              "      <td>0</td>\n",
              "      <td>1</td>\n",
              "      <td>!!!!! RT @mleew17: boy dats cold...tyga dwn ba...</td>\n",
              "    </tr>\n",
              "    <tr>\n",
              "      <th>2</th>\n",
              "      <td>2</td>\n",
              "      <td>3</td>\n",
              "      <td>0</td>\n",
              "      <td>3</td>\n",
              "      <td>0</td>\n",
              "      <td>1</td>\n",
              "      <td>!!!!!!! RT @UrKindOfBrand Dawg!!!! RT @80sbaby...</td>\n",
              "    </tr>\n",
              "    <tr>\n",
              "      <th>3</th>\n",
              "      <td>3</td>\n",
              "      <td>3</td>\n",
              "      <td>0</td>\n",
              "      <td>2</td>\n",
              "      <td>1</td>\n",
              "      <td>1</td>\n",
              "      <td>!!!!!!!!! RT @C_G_Anderson: @viva_based she lo...</td>\n",
              "    </tr>\n",
              "    <tr>\n",
              "      <th>4</th>\n",
              "      <td>4</td>\n",
              "      <td>6</td>\n",
              "      <td>0</td>\n",
              "      <td>6</td>\n",
              "      <td>0</td>\n",
              "      <td>1</td>\n",
              "      <td>!!!!!!!!!!!!! RT @ShenikaRoberts: The shit you...</td>\n",
              "    </tr>\n",
              "  </tbody>\n",
              "</table>\n",
              "</div>"
            ],
            "text/plain": [
              "   Unnamed: 0  count  ...  class                                              tweet\n",
              "0           0      3  ...      2  !!! RT @mayasolovely: As a woman you shouldn't...\n",
              "1           1      3  ...      1  !!!!! RT @mleew17: boy dats cold...tyga dwn ba...\n",
              "2           2      3  ...      1  !!!!!!! RT @UrKindOfBrand Dawg!!!! RT @80sbaby...\n",
              "3           3      3  ...      1  !!!!!!!!! RT @C_G_Anderson: @viva_based she lo...\n",
              "4           4      6  ...      1  !!!!!!!!!!!!! RT @ShenikaRoberts: The shit you...\n",
              "\n",
              "[5 rows x 7 columns]"
            ]
          },
          "metadata": {
            "tags": []
          },
          "execution_count": 52
        }
      ]
    },
    {
      "cell_type": "code",
      "metadata": {
        "id": "88MCnBz4R95F",
        "colab": {
          "base_uri": "https://localhost:8080/",
          "height": 35
        },
        "outputId": "848058e8-af58-4ebc-c740-9c1d2fe1fda0"
      },
      "source": [
        "data.shape"
      ],
      "execution_count": null,
      "outputs": [
        {
          "output_type": "execute_result",
          "data": {
            "text/plain": [
              "(24783, 7)"
            ]
          },
          "metadata": {
            "tags": []
          },
          "execution_count": 39
        }
      ]
    },
    {
      "cell_type": "code",
      "metadata": {
        "id": "grfQE2f6R9_J",
        "colab": {
          "base_uri": "https://localhost:8080/",
          "height": 225
        },
        "outputId": "51d8b27a-2ed9-42a3-9e66-30d198f61b51"
      },
      "source": [
        "data[data['class'] == 1].tweet"
      ],
      "execution_count": null,
      "outputs": [
        {
          "output_type": "execute_result",
          "data": {
            "text/plain": [
              "1        !!!!! RT @mleew17: boy dats cold...tyga dwn ba...\n",
              "2        !!!!!!! RT @UrKindOfBrand Dawg!!!! RT @80sbaby...\n",
              "3        !!!!!!!!! RT @C_G_Anderson: @viva_based she lo...\n",
              "4        !!!!!!!!!!!!! RT @ShenikaRoberts: The shit you...\n",
              "5        !!!!!!!!!!!!!!!!!!\"@T_Madison_x: The shit just...\n",
              "                               ...                        \n",
              "24774    you really care bout dis bitch. my dick all in...\n",
              "24775     you worried bout other bitches, you need me for?\n",
              "24778    you's a muthaf***in lie &#8220;@LifeAsKing: @2...\n",
              "24780    young buck wanna eat!!.. dat nigguh like I ain...\n",
              "24781                youu got wild bitches tellin you lies\n",
              "Name: tweet, Length: 19190, dtype: object"
            ]
          },
          "metadata": {
            "tags": []
          },
          "execution_count": 40
        }
      ]
    },
    {
      "cell_type": "code",
      "metadata": {
        "id": "nq8i87iNR-EC",
        "colab": {
          "base_uri": "https://localhost:8080/",
          "height": 35
        },
        "outputId": "2149d678-6760-4938-b509-b6d7cde7c2ee"
      },
      "source": [
        "data.tweet[24777]"
      ],
      "execution_count": null,
      "outputs": [
        {
          "output_type": "execute_result",
          "data": {
            "application/vnd.google.colaboratory.intrinsic+json": {
              "type": "string"
            },
            "text/plain": [
              "\"you're such a retard i hope you get type 2 diabetes and die from a sugar rush you fucking faggot @Dare_ILK\""
            ]
          },
          "metadata": {
            "tags": []
          },
          "execution_count": 41
        }
      ]
    },
    {
      "cell_type": "code",
      "metadata": {
        "id": "WfdY-zNSR6rE",
        "colab": {
          "base_uri": "https://localhost:8080/",
          "height": 225
        },
        "outputId": "e33cd959-f779-42d8-e0a3-a81af65078bf"
      },
      "source": [
        "data[data['class'] == 2].tweet"
      ],
      "execution_count": null,
      "outputs": [
        {
          "output_type": "execute_result",
          "data": {
            "text/plain": [
              "0        !!! RT @mayasolovely: As a woman you shouldn't...\n",
              "40         \" momma said no pussy cats inside my doghouse \"\n",
              "63       \"@Addicted2Guys: -SimplyAddictedToGuys http://...\n",
              "66       \"@AllAboutManFeet: http://t.co/3gzUpfuMev\" woo...\n",
              "67       \"@Allyhaaaaa: Lemmie eat a Oreo &amp; do these...\n",
              "                               ...                        \n",
              "24736    yaya ho.. cute avi tho RT @ViVaLa_Ari I had no...\n",
              "24737    yea so about @N_tel 's new friend.. all my fri...\n",
              "24767    you know what they say, the early bird gets th...\n",
              "24779    you've gone and broke the wrong heart baby, an...\n",
              "24782    ~~Ruffled | Ntac Eileen Dahlia - Beautiful col...\n",
              "Name: tweet, Length: 4163, dtype: object"
            ]
          },
          "metadata": {
            "tags": []
          },
          "execution_count": 42
        }
      ]
    },
    {
      "cell_type": "code",
      "metadata": {
        "id": "vaML254XTOxU",
        "colab": {
          "base_uri": "https://localhost:8080/",
          "height": 124
        },
        "outputId": "2b70e3d9-ffc2-4826-ec29-0b549ec3eea2"
      },
      "source": [
        "original = data.copy()\n",
        "for i in data.index:\n",
        "  text = data.tweet.loc[i]\n",
        "  data.tweet.loc[i] = preprocess(text)"
      ],
      "execution_count": null,
      "outputs": [
        {
          "output_type": "stream",
          "text": [
            "/usr/local/lib/python3.6/dist-packages/pandas/core/indexing.py:670: SettingWithCopyWarning: \n",
            "A value is trying to be set on a copy of a slice from a DataFrame\n",
            "\n",
            "See the caveats in the documentation: https://pandas.pydata.org/pandas-docs/stable/user_guide/indexing.html#returning-a-view-versus-a-copy\n",
            "  iloc._setitem_with_indexer(indexer, value)\n"
          ],
          "name": "stderr"
        }
      ]
    },
    {
      "cell_type": "code",
      "metadata": {
        "id": "T7LXaTA1Tyx_",
        "colab": {
          "base_uri": "https://localhost:8080/",
          "height": 124
        },
        "outputId": "849aaf58-e8af-4969-e387-36a84dee315a"
      },
      "source": [
        "stwoindex = data[data[\"class\"] == 2].index\n",
        "oneindex = data[data[\"class\"] == 1].index\n",
        "zeroindex = data[data[\"class\"] == 0].index\n",
        "\n",
        "\n",
        "for i in twoindex:\n",
        "  data['class'].loc[i] = 'No'\n",
        "\n",
        "for i in oneindex:\n",
        "  data['class'].loc[i] = 'Yes'\n",
        "\n",
        "for i in zeroindex:\n",
        "  data['class'].loc[i] = 'Yes'"
      ],
      "execution_count": null,
      "outputs": [
        {
          "output_type": "stream",
          "text": [
            "/usr/local/lib/python3.6/dist-packages/pandas/core/indexing.py:670: SettingWithCopyWarning: \n",
            "A value is trying to be set on a copy of a slice from a DataFrame\n",
            "\n",
            "See the caveats in the documentation: https://pandas.pydata.org/pandas-docs/stable/user_guide/indexing.html#returning-a-view-versus-a-copy\n",
            "  iloc._setitem_with_indexer(indexer, value)\n"
          ],
          "name": "stderr"
        }
      ]
    },
    {
      "cell_type": "code",
      "metadata": {
        "id": "W0ZJYP0ZVC50",
        "colab": {
          "base_uri": "https://localhost:8080/",
          "height": 72
        },
        "outputId": "864849a9-c1a2-404f-9cc2-dec0665a9d9a"
      },
      "source": [
        "data.tweet[2], original.tweet[2] "
      ],
      "execution_count": null,
      "outputs": [
        {
          "output_type": "execute_result",
          "data": {
            "text/plain": [
              "(' user dawg user you ever fuck a bitch and she start to cry? you be confused as shit',\n",
              " '!!!!!!! RT @UrKindOfBrand Dawg!!!! RT @80sbaby4life: You ever fuck a bitch and she start to cry? You be confused as shit')"
            ]
          },
          "metadata": {
            "tags": []
          },
          "execution_count": 47
        }
      ]
    },
    {
      "cell_type": "code",
      "metadata": {
        "id": "uGlTMNeIV7n1",
        "colab": {
          "base_uri": "https://localhost:8080/",
          "height": 72
        },
        "outputId": "b3927324-90e4-44f4-eeb6-495bc0fa171f"
      },
      "source": [
        "data.tweet[4], original.tweet[4] "
      ],
      "execution_count": null,
      "outputs": [
        {
          "output_type": "execute_result",
          "data": {
            "text/plain": [
              "(' user the shit you hear about me might be true or it might be faker than the bitch who told it to ya &',\n",
              " '!!!!!!!!!!!!! RT @ShenikaRoberts: The shit you hear about me might be true or it might be faker than the bitch who told it to ya &#57361;')"
            ]
          },
          "metadata": {
            "tags": []
          },
          "execution_count": 49
        }
      ]
    },
    {
      "cell_type": "code",
      "metadata": {
        "id": "K9W8U8uxXFbw",
        "colab": {
          "base_uri": "https://localhost:8080/",
          "height": 52
        },
        "outputId": "77f039fd-d5c3-4780-fed6-166abb6407d2"
      },
      "source": [
        "data.tweet[2123], original.tweet[2123] "
      ],
      "execution_count": null,
      "outputs": [
        {
          "output_type": "execute_result",
          "data": {
            "text/plain": [
              "(\"' you niggahs actin like hoes , i can sale those \",\n",
              " \"' You niggahs actin like hoes , I can sale those ! &#1041204;&#1041204;&#1041636;\")"
            ]
          },
          "metadata": {
            "tags": []
          },
          "execution_count": 55
        }
      ]
    },
    {
      "cell_type": "code",
      "metadata": {
        "id": "1eIxZ7ovdWVf"
      },
      "source": [
        "data = data.sample(n = data.shape[0])"
      ],
      "execution_count": null,
      "outputs": []
    },
    {
      "cell_type": "code",
      "metadata": {
        "id": "gSsRmcPpd37d"
      },
      "source": [
        "data.index = range(24783)"
      ],
      "execution_count": null,
      "outputs": []
    },
    {
      "cell_type": "code",
      "metadata": {
        "id": "6GT19zsbeBCi"
      },
      "source": [
        "data.drop(['Unnamed: 0', 'count', 'hate_speech', 'offensive_language', 'neither'], axis = 1, inplace = True)"
      ],
      "execution_count": null,
      "outputs": []
    },
    {
      "cell_type": "code",
      "metadata": {
        "id": "xeztAv4eeWNo",
        "colab": {
          "base_uri": "https://localhost:8080/",
          "height": 415
        },
        "outputId": "eec16091-acaa-429c-e1e2-c135cbe16696"
      },
      "source": [
        "data"
      ],
      "execution_count": null,
      "outputs": [
        {
          "output_type": "execute_result",
          "data": {
            "text/html": [
              "<div>\n",
              "<style scoped>\n",
              "    .dataframe tbody tr th:only-of-type {\n",
              "        vertical-align: middle;\n",
              "    }\n",
              "\n",
              "    .dataframe tbody tr th {\n",
              "        vertical-align: top;\n",
              "    }\n",
              "\n",
              "    .dataframe thead th {\n",
              "        text-align: right;\n",
              "    }\n",
              "</style>\n",
              "<table border=\"1\" class=\"dataframe\">\n",
              "  <thead>\n",
              "    <tr style=\"text-align: right;\">\n",
              "      <th></th>\n",
              "      <th>class</th>\n",
              "      <th>tweet</th>\n",
              "    </tr>\n",
              "  </thead>\n",
              "  <tbody>\n",
              "    <tr>\n",
              "      <th>0</th>\n",
              "      <td>Yes</td>\n",
              "      <td>user translation \"i like how i dont really hav...</td>\n",
              "    </tr>\n",
              "    <tr>\n",
              "      <th>1</th>\n",
              "      <td>Yes</td>\n",
              "      <td>user user bitch, bye user dawg look at this sh...</td>\n",
              "    </tr>\n",
              "    <tr>\n",
              "      <th>2</th>\n",
              "      <td>No</td>\n",
              "      <td>user i'm so hungry if someone would send me a ...</td>\n",
              "    </tr>\n",
              "    <tr>\n",
              "      <th>3</th>\n",
              "      <td>Yes</td>\n",
              "      <td>for about the last hour of getting my stomach ...</td>\n",
              "    </tr>\n",
              "    <tr>\n",
              "      <th>4</th>\n",
              "      <td>Yes</td>\n",
              "      <td>i won't trust a bitch</td>\n",
              "    </tr>\n",
              "    <tr>\n",
              "      <th>...</th>\n",
              "      <td>...</td>\n",
              "      <td>...</td>\n",
              "    </tr>\n",
              "    <tr>\n",
              "      <th>24778</th>\n",
              "      <td>Yes</td>\n",
              "      <td>yeah you bad but hoe so what</td>\n",
              "    </tr>\n",
              "    <tr>\n",
              "      <th>24779</th>\n",
              "      <td>Yes</td>\n",
              "      <td>ladies if your head game better than your pussy</td>\n",
              "    </tr>\n",
              "    <tr>\n",
              "      <th>24780</th>\n",
              "      <td>Yes</td>\n",
              "      <td>when niggas say they like latinas they don't m...</td>\n",
              "    </tr>\n",
              "    <tr>\n",
              "      <th>24781</th>\n",
              "      <td>No</td>\n",
              "      <td>\"bae\" sounds like such a ghetto word. use some...</td>\n",
              "    </tr>\n",
              "    <tr>\n",
              "      <th>24782</th>\n",
              "      <td>Yes</td>\n",
              "      <td>user don't be on here and saying \"all my frien...</td>\n",
              "    </tr>\n",
              "  </tbody>\n",
              "</table>\n",
              "<p>24783 rows × 2 columns</p>\n",
              "</div>"
            ],
            "text/plain": [
              "      class                                              tweet\n",
              "0       Yes  user translation \"i like how i dont really hav...\n",
              "1       Yes  user user bitch, bye user dawg look at this sh...\n",
              "2        No  user i'm so hungry if someone would send me a ...\n",
              "3       Yes  for about the last hour of getting my stomach ...\n",
              "4       Yes                             i won't trust a bitch \n",
              "...     ...                                                ...\n",
              "24778   Yes                       yeah you bad but hoe so what\n",
              "24779   Yes    ladies if your head game better than your pussy\n",
              "24780   Yes  when niggas say they like latinas they don't m...\n",
              "24781    No  \"bae\" sounds like such a ghetto word. use some...\n",
              "24782   Yes  user don't be on here and saying \"all my frien...\n",
              "\n",
              "[24783 rows x 2 columns]"
            ]
          },
          "metadata": {
            "tags": []
          },
          "execution_count": 60
        }
      ]
    },
    {
      "cell_type": "markdown",
      "metadata": {
        "id": "ZSqaMWgLjLnr"
      },
      "source": [
        "Since the number of clean tweets are comparitively less how about I add some more clean english text from somewhere."
      ]
    },
    {
      "cell_type": "code",
      "metadata": {
        "id": "3DRX_iSekirK"
      },
      "source": [
        "!wget "
      ],
      "execution_count": null,
      "outputs": []
    },
    {
      "cell_type": "code",
      "metadata": {
        "id": "GjiR8-I4YkvE"
      },
      "source": [
        "valid = data[-4783:]\n",
        "train = data[:20000]\n",
        "\n",
        "data.to_csv(\"/content/drive/My Drive/Glue Labs/Abuse Model #11 English/data.csv\")\n",
        "train.to_csv(\"/content/drive/My Drive/Glue Labs/Abuse Model #11 English/train.csv\")\n",
        "valid.to_csv(\"/content/drive/My Drive/Glue Labs/Abuse Model #11 English/validENG.csv\")\n"
      ],
      "execution_count": null,
      "outputs": []
    },
    {
      "cell_type": "code",
      "metadata": {
        "id": "rySb9iUXmbsX"
      },
      "source": [
        "#!wget https://archive.ics.uci.edu/ml/machine-learning-databases/00380/YouTube-Spam-Collection-v1.zip"
      ],
      "execution_count": null,
      "outputs": []
    },
    {
      "cell_type": "code",
      "metadata": {
        "id": "T2cTZEJNnIJE"
      },
      "source": [
        "#!unzip /content/YouTube-Spam-Collection-v1.zip"
      ],
      "execution_count": null,
      "outputs": []
    },
    {
      "cell_type": "code",
      "metadata": {
        "id": "QrWJm8qNnPfN"
      },
      "source": [
        "a = pd.read_csv(\"/content/Youtube01-Psy.csv\")\n",
        "b = pd.read_csv(\"/content/Youtube02-KatyPerry.csv\")\n",
        "c = pd.read_csv(\"/content/Youtube03-LMFAO.csv\")\n",
        "d = pd.read_csv(\"/content/Youtube04-Eminem.csv\")\n",
        "e = pd.read_csv(\"/content/Youtube05-Shakira.csv\")\n"
      ],
      "execution_count": null,
      "outputs": []
    },
    {
      "cell_type": "code",
      "metadata": {
        "id": "I_M6EDdhoLFF"
      },
      "source": [
        "a = a[a['CLASS'] == 0]\n",
        "b = b[b['CLASS'] == 0]\n",
        "c = c[c['CLASS'] == 0]\n",
        "d = d[d['CLASS'] == 0]\n",
        "e = e[e['CLASS'] == 0]\n",
        "\n",
        "cleantext = pd.concat([a, b, c, d, e], axis = 0)"
      ],
      "execution_count": null,
      "outputs": []
    },
    {
      "cell_type": "code",
      "metadata": {
        "id": "4w0ArwrXoTXu"
      },
      "source": [
        "cleantext.drop(['COMMENT_ID', 'AUTHOR', 'DATE', 'CLASS'], axis = 1, inplace = True)"
      ],
      "execution_count": null,
      "outputs": []
    },
    {
      "cell_type": "code",
      "metadata": {
        "id": "cyLzrgSlqFdl",
        "colab": {
          "base_uri": "https://localhost:8080/",
          "height": 424
        },
        "outputId": "998613d4-4601-4da5-98b7-7758d4f3c37b"
      },
      "source": [
        "data = pd.read_csv(\"/content/drive/My Drive/Glue Labs/Abuse Model #11 English/newdata.csv\")\n",
        "newdata"
      ],
      "execution_count": null,
      "outputs": [
        {
          "output_type": "execute_result",
          "data": {
            "text/html": [
              "<div>\n",
              "<style scoped>\n",
              "    .dataframe tbody tr th:only-of-type {\n",
              "        vertical-align: middle;\n",
              "    }\n",
              "\n",
              "    .dataframe tbody tr th {\n",
              "        vertical-align: top;\n",
              "    }\n",
              "\n",
              "    .dataframe thead th {\n",
              "        text-align: right;\n",
              "    }\n",
              "</style>\n",
              "<table border=\"1\" class=\"dataframe\">\n",
              "  <thead>\n",
              "    <tr style=\"text-align: right;\">\n",
              "      <th></th>\n",
              "      <th>class</th>\n",
              "      <th>tweet</th>\n",
              "    </tr>\n",
              "  </thead>\n",
              "  <tbody>\n",
              "    <tr>\n",
              "      <th>0</th>\n",
              "      <td>No</td>\n",
              "      <td>i turned it on mute as soon is i came on i jus...</td>\n",
              "    </tr>\n",
              "    <tr>\n",
              "      <th>1</th>\n",
              "      <td>No</td>\n",
              "      <td>I'm only checking the views﻿</td>\n",
              "    </tr>\n",
              "    <tr>\n",
              "      <th>2</th>\n",
              "      <td>No</td>\n",
              "      <td>i think about 100 millions of the views come f...</td>\n",
              "    </tr>\n",
              "    <tr>\n",
              "      <th>3</th>\n",
              "      <td>No</td>\n",
              "      <td>just checking the views﻿</td>\n",
              "    </tr>\n",
              "    <tr>\n",
              "      <th>4</th>\n",
              "      <td>No</td>\n",
              "      <td>I dont even watch it anymore i just come here ...</td>\n",
              "    </tr>\n",
              "    <tr>\n",
              "      <th>...</th>\n",
              "      <td>...</td>\n",
              "      <td>...</td>\n",
              "    </tr>\n",
              "    <tr>\n",
              "      <th>24778</th>\n",
              "      <td>Yes</td>\n",
              "      <td>yeah you bad but hoe so what</td>\n",
              "    </tr>\n",
              "    <tr>\n",
              "      <th>24779</th>\n",
              "      <td>Yes</td>\n",
              "      <td>ladies if your head game better than your pussy</td>\n",
              "    </tr>\n",
              "    <tr>\n",
              "      <th>24780</th>\n",
              "      <td>Yes</td>\n",
              "      <td>when niggas say they like latinas they don't m...</td>\n",
              "    </tr>\n",
              "    <tr>\n",
              "      <th>24781</th>\n",
              "      <td>No</td>\n",
              "      <td>\"bae\" sounds like such a ghetto word. use some...</td>\n",
              "    </tr>\n",
              "    <tr>\n",
              "      <th>24782</th>\n",
              "      <td>Yes</td>\n",
              "      <td>user don't be on here and saying \"all my frien...</td>\n",
              "    </tr>\n",
              "  </tbody>\n",
              "</table>\n",
              "<p>25734 rows × 2 columns</p>\n",
              "</div>"
            ],
            "text/plain": [
              "      class                                              tweet\n",
              "0        No  i turned it on mute as soon is i came on i jus...\n",
              "1        No                       I'm only checking the views﻿\n",
              "2        No  i think about 100 millions of the views come f...\n",
              "3        No                           just checking the views﻿\n",
              "4        No  I dont even watch it anymore i just come here ...\n",
              "...     ...                                                ...\n",
              "24778   Yes                       yeah you bad but hoe so what\n",
              "24779   Yes    ladies if your head game better than your pussy\n",
              "24780   Yes  when niggas say they like latinas they don't m...\n",
              "24781    No  \"bae\" sounds like such a ghetto word. use some...\n",
              "24782   Yes  user don't be on here and saying \"all my frien...\n",
              "\n",
              "[25734 rows x 2 columns]"
            ]
          },
          "metadata": {
            "tags": []
          },
          "execution_count": 56
        }
      ]
    },
    {
      "cell_type": "code",
      "metadata": {
        "id": "Ly6A2AI2pZy3"
      },
      "source": [
        "cleantext.index = range(cleantext.shape[0])"
      ],
      "execution_count": null,
      "outputs": []
    },
    {
      "cell_type": "code",
      "metadata": {
        "id": "AdbobSF3p4jD"
      },
      "source": [
        "cleantext.columns = ['tweet']"
      ],
      "execution_count": null,
      "outputs": []
    },
    {
      "cell_type": "code",
      "metadata": {
        "id": "unV2Ugggqkdx"
      },
      "source": [
        "no = ['No']*951\n",
        "no = pd.DataFrame(no, columns = ['class'])\n",
        "moredata = pd.concat([no, cleantext], axis = 1)"
      ],
      "execution_count": null,
      "outputs": []
    },
    {
      "cell_type": "code",
      "metadata": {
        "id": "qRkwAPDJqzl0"
      },
      "source": [
        "data.drop(['Unnamed: 0'], axis = 1, inplace = True)\n",
        "\n",
        "newdata = pd.concat([moredata, data], axis = 0)"
      ],
      "execution_count": null,
      "outputs": []
    },
    {
      "cell_type": "code",
      "metadata": {
        "id": "7rPF7b3GrXeh"
      },
      "source": [
        "newdata.to_csv('/content/drive/My Drive/Glue Labs/Abuse Model #11 English/newdata.csv')"
      ],
      "execution_count": null,
      "outputs": []
    },
    {
      "cell_type": "code",
      "metadata": {
        "id": "xNkuLTQKrugO",
        "colab": {
          "base_uri": "https://localhost:8080/",
          "height": 208
        },
        "outputId": "a4793af4-263a-4bd6-dfc6-cd18a8a034e4"
      },
      "source": [
        "!wget https://archive.ics.uci.edu/ml/machine-learning-databases/00228/smsspamcollection.zip"
      ],
      "execution_count": null,
      "outputs": [
        {
          "output_type": "stream",
          "text": [
            "--2020-10-09 05:20:27--  https://archive.ics.uci.edu/ml/machine-learning-databases/00228/smsspamcollection.zip\n",
            "Resolving archive.ics.uci.edu (archive.ics.uci.edu)... 128.195.10.252\n",
            "Connecting to archive.ics.uci.edu (archive.ics.uci.edu)|128.195.10.252|:443... connected.\n",
            "HTTP request sent, awaiting response... 200 OK\n",
            "Length: 203415 (199K) [application/x-httpd-php]\n",
            "Saving to: ‘smsspamcollection.zip’\n",
            "\n",
            "smsspamcollection.z 100%[===================>] 198.65K   766KB/s    in 0.3s    \n",
            "\n",
            "2020-10-09 05:20:28 (766 KB/s) - ‘smsspamcollection.zip’ saved [203415/203415]\n",
            "\n"
          ],
          "name": "stdout"
        }
      ]
    },
    {
      "cell_type": "code",
      "metadata": {
        "id": "p7QAcAERzZ6b",
        "colab": {
          "base_uri": "https://localhost:8080/",
          "height": 52
        },
        "outputId": "3cc2d3a2-53b8-49b8-9fa2-62d5c9a3ffb0"
      },
      "source": [
        "!unzip /content/arc.zip"
      ],
      "execution_count": null,
      "outputs": [
        {
          "output_type": "stream",
          "text": [
            "Archive:  /content/arc.zip\n",
            "  inflating: spam.csv                \n"
          ],
          "name": "stdout"
        }
      ]
    },
    {
      "cell_type": "code",
      "metadata": {
        "id": "sUZY06L9zrn1",
        "colab": {
          "base_uri": "https://localhost:8080/",
          "height": 395
        },
        "outputId": "a2225ab3-e6d6-4543-8abb-f13b312737ba"
      },
      "source": [
        "sms = pd.read_csv(\"/content/spam1.csv\")\n",
        "sms.head()"
      ],
      "execution_count": null,
      "outputs": [
        {
          "output_type": "execute_result",
          "data": {
            "text/html": [
              "<div>\n",
              "<style scoped>\n",
              "    .dataframe tbody tr th:only-of-type {\n",
              "        vertical-align: middle;\n",
              "    }\n",
              "\n",
              "    .dataframe tbody tr th {\n",
              "        vertical-align: top;\n",
              "    }\n",
              "\n",
              "    .dataframe thead th {\n",
              "        text-align: right;\n",
              "    }\n",
              "</style>\n",
              "<table border=\"1\" class=\"dataframe\">\n",
              "  <thead>\n",
              "    <tr style=\"text-align: right;\">\n",
              "      <th></th>\n",
              "      <th>v1</th>\n",
              "      <th>v2</th>\n",
              "      <th>Unnamed: 2</th>\n",
              "      <th>Unnamed: 3</th>\n",
              "      <th>Unnamed: 4</th>\n",
              "    </tr>\n",
              "  </thead>\n",
              "  <tbody>\n",
              "    <tr>\n",
              "      <th>0</th>\n",
              "      <td>ham</td>\n",
              "      <td>Go until jurong point, crazy.. Available only ...</td>\n",
              "      <td>NaN</td>\n",
              "      <td>NaN</td>\n",
              "      <td>NaN</td>\n",
              "    </tr>\n",
              "    <tr>\n",
              "      <th>1</th>\n",
              "      <td>ham</td>\n",
              "      <td>Ok lar... Joking wif u oni...</td>\n",
              "      <td>NaN</td>\n",
              "      <td>NaN</td>\n",
              "      <td>NaN</td>\n",
              "    </tr>\n",
              "    <tr>\n",
              "      <th>2</th>\n",
              "      <td>spam</td>\n",
              "      <td>Free entry in 2 a wkly comp to win FA Cup fina...</td>\n",
              "      <td>NaN</td>\n",
              "      <td>NaN</td>\n",
              "      <td>NaN</td>\n",
              "    </tr>\n",
              "    <tr>\n",
              "      <th>3</th>\n",
              "      <td>ham</td>\n",
              "      <td>U dun say so early hor... U c already then say...</td>\n",
              "      <td>NaN</td>\n",
              "      <td>NaN</td>\n",
              "      <td>NaN</td>\n",
              "    </tr>\n",
              "    <tr>\n",
              "      <th>4</th>\n",
              "      <td>ham</td>\n",
              "      <td>Nah I don't think he goes to usf, he lives aro...</td>\n",
              "      <td>NaN</td>\n",
              "      <td>NaN</td>\n",
              "      <td>NaN</td>\n",
              "    </tr>\n",
              "  </tbody>\n",
              "</table>\n",
              "</div>"
            ],
            "text/plain": [
              "     v1  ... Unnamed: 4\n",
              "0   ham  ...        NaN\n",
              "1   ham  ...        NaN\n",
              "2  spam  ...        NaN\n",
              "3   ham  ...        NaN\n",
              "4   ham  ...        NaN\n",
              "\n",
              "[5 rows x 5 columns]"
            ]
          },
          "metadata": {
            "tags": []
          },
          "execution_count": 45
        },
        {
          "output_type": "execute_result",
          "data": {
            "text/html": [
              "<div>\n",
              "<style scoped>\n",
              "    .dataframe tbody tr th:only-of-type {\n",
              "        vertical-align: middle;\n",
              "    }\n",
              "\n",
              "    .dataframe tbody tr th {\n",
              "        vertical-align: top;\n",
              "    }\n",
              "\n",
              "    .dataframe thead th {\n",
              "        text-align: right;\n",
              "    }\n",
              "</style>\n",
              "<table border=\"1\" class=\"dataframe\">\n",
              "  <thead>\n",
              "    <tr style=\"text-align: right;\">\n",
              "      <th></th>\n",
              "      <th>v1</th>\n",
              "      <th>v2</th>\n",
              "      <th>Unnamed: 2</th>\n",
              "      <th>Unnamed: 3</th>\n",
              "      <th>Unnamed: 4</th>\n",
              "    </tr>\n",
              "  </thead>\n",
              "  <tbody>\n",
              "    <tr>\n",
              "      <th>0</th>\n",
              "      <td>ham</td>\n",
              "      <td>Go until jurong point, crazy.. Available only ...</td>\n",
              "      <td>NaN</td>\n",
              "      <td>NaN</td>\n",
              "      <td>NaN</td>\n",
              "    </tr>\n",
              "    <tr>\n",
              "      <th>1</th>\n",
              "      <td>ham</td>\n",
              "      <td>Ok lar... Joking wif u oni...</td>\n",
              "      <td>NaN</td>\n",
              "      <td>NaN</td>\n",
              "      <td>NaN</td>\n",
              "    </tr>\n",
              "    <tr>\n",
              "      <th>2</th>\n",
              "      <td>spam</td>\n",
              "      <td>Free entry in 2 a wkly comp to win FA Cup fina...</td>\n",
              "      <td>NaN</td>\n",
              "      <td>NaN</td>\n",
              "      <td>NaN</td>\n",
              "    </tr>\n",
              "    <tr>\n",
              "      <th>3</th>\n",
              "      <td>ham</td>\n",
              "      <td>U dun say so early hor... U c already then say...</td>\n",
              "      <td>NaN</td>\n",
              "      <td>NaN</td>\n",
              "      <td>NaN</td>\n",
              "    </tr>\n",
              "    <tr>\n",
              "      <th>4</th>\n",
              "      <td>ham</td>\n",
              "      <td>Nah I don't think he goes to usf, he lives aro...</td>\n",
              "      <td>NaN</td>\n",
              "      <td>NaN</td>\n",
              "      <td>NaN</td>\n",
              "    </tr>\n",
              "  </tbody>\n",
              "</table>\n",
              "</div>"
            ],
            "text/plain": [
              "     v1  ... Unnamed: 4\n",
              "0   ham  ...        NaN\n",
              "1   ham  ...        NaN\n",
              "2  spam  ...        NaN\n",
              "3   ham  ...        NaN\n",
              "4   ham  ...        NaN\n",
              "\n",
              "[5 rows x 5 columns]"
            ]
          },
          "metadata": {
            "tags": []
          },
          "execution_count": 46
        }
      ]
    },
    {
      "cell_type": "code",
      "metadata": {
        "id": "BciaRj3Nz1Zt",
        "colab": {
          "base_uri": "https://localhost:8080/",
          "height": 124
        },
        "outputId": "f031d3da-a876-4c0f-ba9b-d4f487a7d43d"
      },
      "source": [
        "cleansms = sms[sms['v1'] == 'ham']\n",
        "for i in cleansms.index:\n",
        "  cleansms.v1.loc[i] = 'No'"
      ],
      "execution_count": null,
      "outputs": [
        {
          "output_type": "stream",
          "text": [
            "/usr/local/lib/python3.6/dist-packages/ipykernel_launcher.py:3: SettingWithCopyWarning: \n",
            "A value is trying to be set on a copy of a slice from a DataFrame\n",
            "\n",
            "See the caveats in the documentation: https://pandas.pydata.org/pandas-docs/stable/user_guide/indexing.html#returning-a-view-versus-a-copy\n",
            "  This is separate from the ipykernel package so we can avoid doing imports until\n"
          ],
          "name": "stderr"
        }
      ]
    },
    {
      "cell_type": "code",
      "metadata": {
        "id": "FJFMqX7N2H4d"
      },
      "source": [
        "cleansms.drop([\"Unnamed: 2\", \"Unnamed: 3\", \"Unnamed: 4\"], inplace = True, axis = 1)"
      ],
      "execution_count": null,
      "outputs": []
    },
    {
      "cell_type": "code",
      "metadata": {
        "id": "gYZL9sEK2PLp"
      },
      "source": [
        "cleansms.columns = ['class', 'tweet']"
      ],
      "execution_count": null,
      "outputs": []
    },
    {
      "cell_type": "code",
      "metadata": {
        "id": "7rh_5gs_2mhj",
        "colab": {
          "base_uri": "https://localhost:8080/",
          "height": 124
        },
        "outputId": "16529601-7015-4962-9921-5a6fb9254f51"
      },
      "source": [
        "for i in cleansms.index:\n",
        "  text = cleansms.tweet.loc[i]\n",
        "  cleansms.tweet.loc[i] = preprocess(text)"
      ],
      "execution_count": null,
      "outputs": [
        {
          "output_type": "stream",
          "text": [
            "/usr/local/lib/python3.6/dist-packages/ipykernel_launcher.py:3: SettingWithCopyWarning: \n",
            "A value is trying to be set on a copy of a slice from a DataFrame\n",
            "\n",
            "See the caveats in the documentation: https://pandas.pydata.org/pandas-docs/stable/user_guide/indexing.html#returning-a-view-versus-a-copy\n",
            "  This is separate from the ipykernel package so we can avoid doing imports until\n"
          ],
          "name": "stderr"
        }
      ]
    },
    {
      "cell_type": "code",
      "metadata": {
        "id": "gB0noiQN2v8K"
      },
      "source": [
        "newdata = pd.concat([newdata, cleansms], axis = 0)"
      ],
      "execution_count": null,
      "outputs": []
    },
    {
      "cell_type": "code",
      "metadata": {
        "id": "PU3-eSUT4bO7",
        "colab": {
          "base_uri": "https://localhost:8080/",
          "height": 34
        },
        "outputId": "ccfa4488-84bb-4a95-f0cf-fd0adc0a743b"
      },
      "source": [
        "newdata.shape"
      ],
      "execution_count": null,
      "outputs": [
        {
          "output_type": "execute_result",
          "data": {
            "text/plain": [
              "(30559, 2)"
            ]
          },
          "metadata": {
            "tags": []
          },
          "execution_count": 65
        }
      ]
    },
    {
      "cell_type": "code",
      "metadata": {
        "id": "8pH8Ch194hfd"
      },
      "source": [
        "newdata = newdata.sample(n = 30559)"
      ],
      "execution_count": null,
      "outputs": []
    },
    {
      "cell_type": "code",
      "metadata": {
        "id": "PaLQi43T4Lmd"
      },
      "source": [
        "newdata.to_csv(\"/content/drive/My Drive/Glue Labs/Abuse Model #11 English/newdata.csv\")"
      ],
      "execution_count": null,
      "outputs": []
    },
    {
      "cell_type": "code",
      "metadata": {
        "id": "QSKGMkuA4seh"
      },
      "source": [
        "valid = newdata[-5559:]\n",
        "train = newdata[:25000]\n",
        "valid.to_csv(\"/content/drive/My Drive/Glue Labs/Abuse Model #11 English/valid.csv\")\n",
        "train.to_csv(\"/content/drive/My Drive/Glue Labs/Abuse Model #11 English/train.csv\")\n"
      ],
      "execution_count": null,
      "outputs": []
    },
    {
      "cell_type": "code",
      "metadata": {
        "id": "L1zP7sE_4-02"
      },
      "source": [
        ""
      ],
      "execution_count": null,
      "outputs": []
    }
  ]
}